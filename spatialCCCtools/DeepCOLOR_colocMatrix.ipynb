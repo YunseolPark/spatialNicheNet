{
 "cells": [
  {
   "cell_type": "markdown",
   "metadata": {},
   "source": [
    "# DeepCOLOR analysis on the colocalization matrix\n",
    "\n",
    "Here, the dataset A1-1 from the Resolve data is used.\n",
    "\n",
    "## Import libraries"
   ]
  },
  {
   "cell_type": "code",
   "execution_count": 1,
   "metadata": {},
   "outputs": [],
   "source": [
    "import torch\n",
    "import scanpy as sc\n",
    "import numpy as np\n",
    "import importlib\n",
    "from matplotlib import pyplot as plt\n",
    "import deepcolor\n",
    "np.random.seed(1)\n",
    "torch.manual_seed(1)\n",
    "import pandas as pd"
   ]
  },
  {
   "cell_type": "markdown",
   "metadata": {},
   "source": [
    "## Load data\n",
    "\n",
    "Load in the scRNA-seq data and the Resolve spatial data that had already been estimated for spatial distriubtion."
   ]
  },
  {
   "cell_type": "code",
   "execution_count": 2,
   "metadata": {},
   "outputs": [],
   "source": [
    "# scRNA-seq trained data\n",
    "sc_adata = sc.read_h5ad('data/deepcolor_mouseStSt.h5ad')\n",
    "# Spatial trained data\n",
    "sp_adata = sc.read_h5ad('data/deepcolor_A1-1.h5ad')"
   ]
  },
  {
   "cell_type": "markdown",
   "metadata": {},
   "source": [
    "## Analyse the colocalization matrix\n",
    "\n",
    "The colocalization matrix from the autoencoder is analyzed in this section."
   ]
  },
  {
   "cell_type": "code",
   "execution_count": null,
   "metadata": {},
   "outputs": [],
   "source": [
    "# Make a copy for analysis\n",
    "p_mat = sc_adata.obsm['map2sp'] / np.sum(sc_adata.obsm['map2sp'], axis=1).reshape((-1, 1))\n",
    "# Calculate the colocalization matrix and log2 the values\n",
    "# coloc_mat = p_mat @ p_mat.transpose()\n",
    "# coloc_mat = np.log2(coloc_mat) + np.log2(p_mat.shape[1])"
   ]
  },
  {
   "cell_type": "markdown",
   "metadata": {},
   "source": [
    "Convert the probability matrix (precursor to the colocalization matrix) into a dataframe."
   ]
  },
  {
   "cell_type": "code",
   "execution_count": 4,
   "metadata": {},
   "outputs": [],
   "source": [
    "df = pd.DataFrame(p_mat, index=sc_adata.obs['annot_fine_zonated'], columns=sp_adata.obs['annotationSave'])"
   ]
  },
  {
   "cell_type": "code",
   "execution_count": 11,
   "metadata": {},
   "outputs": [
    {
     "data": {
      "text/html": [
       "<div>\n",
       "<style scoped>\n",
       "    .dataframe tbody tr th:only-of-type {\n",
       "        vertical-align: middle;\n",
       "    }\n",
       "\n",
       "    .dataframe tbody tr th {\n",
       "        vertical-align: top;\n",
       "    }\n",
       "\n",
       "    .dataframe thead th {\n",
       "        text-align: right;\n",
       "    }\n",
       "</style>\n",
       "<table border=\"1\" class=\"dataframe\">\n",
       "  <thead>\n",
       "    <tr style=\"text-align: right;\">\n",
       "      <th>annotationSave</th>\n",
       "      <th>Mesothelial cells</th>\n",
       "      <th>Capsule fibroblasts</th>\n",
       "      <th>Mesothelial cells</th>\n",
       "      <th>Mesothelial cells</th>\n",
       "      <th>Fibroblast</th>\n",
       "      <th>Hepatocytes_central</th>\n",
       "      <th>Fibroblast</th>\n",
       "      <th>Mesothelial cells</th>\n",
       "      <th>Hepatocytes_portal</th>\n",
       "      <th>Mesothelial cells</th>\n",
       "      <th>...</th>\n",
       "      <th>Hepatocytes_portal</th>\n",
       "      <th>Hepatocytes_central</th>\n",
       "      <th>Hepatocytes_central</th>\n",
       "      <th>Stellate cells_portal</th>\n",
       "      <th>Hepatocytes_central</th>\n",
       "      <th>KCs</th>\n",
       "      <th>Hepatocytes_portal</th>\n",
       "      <th>KCs</th>\n",
       "      <th>Capsule fibroblasts</th>\n",
       "      <th>Hepatocytes_portal</th>\n",
       "    </tr>\n",
       "    <tr>\n",
       "      <th>annot_fine_zonated</th>\n",
       "      <th></th>\n",
       "      <th></th>\n",
       "      <th></th>\n",
       "      <th></th>\n",
       "      <th></th>\n",
       "      <th></th>\n",
       "      <th></th>\n",
       "      <th></th>\n",
       "      <th></th>\n",
       "      <th></th>\n",
       "      <th></th>\n",
       "      <th></th>\n",
       "      <th></th>\n",
       "      <th></th>\n",
       "      <th></th>\n",
       "      <th></th>\n",
       "      <th></th>\n",
       "      <th></th>\n",
       "      <th></th>\n",
       "      <th></th>\n",
       "      <th></th>\n",
       "    </tr>\n",
       "  </thead>\n",
       "  <tbody>\n",
       "    <tr>\n",
       "      <th>pDCs</th>\n",
       "      <td>6.314774e-06</td>\n",
       "      <td>0.000058</td>\n",
       "      <td>0.000014</td>\n",
       "      <td>4.488190e-06</td>\n",
       "      <td>1.713820e-06</td>\n",
       "      <td>2.152569e-06</td>\n",
       "      <td>3.018133e-06</td>\n",
       "      <td>0.000012</td>\n",
       "      <td>0.000005</td>\n",
       "      <td>3.347167e-06</td>\n",
       "      <td>...</td>\n",
       "      <td>0.000005</td>\n",
       "      <td>0.000004</td>\n",
       "      <td>2.729505e-06</td>\n",
       "      <td>2.585096e-06</td>\n",
       "      <td>2.214163e-06</td>\n",
       "      <td>9.322229e-07</td>\n",
       "      <td>0.000006</td>\n",
       "      <td>1.356230e-06</td>\n",
       "      <td>3.109811e-06</td>\n",
       "      <td>0.000005</td>\n",
       "    </tr>\n",
       "    <tr>\n",
       "      <th>KCs</th>\n",
       "      <td>1.031437e-06</td>\n",
       "      <td>0.000510</td>\n",
       "      <td>0.000005</td>\n",
       "      <td>8.706317e-07</td>\n",
       "      <td>5.317781e-07</td>\n",
       "      <td>1.533023e-06</td>\n",
       "      <td>1.111178e-06</td>\n",
       "      <td>0.000005</td>\n",
       "      <td>0.000004</td>\n",
       "      <td>5.054299e-07</td>\n",
       "      <td>...</td>\n",
       "      <td>0.000003</td>\n",
       "      <td>0.000003</td>\n",
       "      <td>2.318773e-06</td>\n",
       "      <td>2.264081e-06</td>\n",
       "      <td>1.519652e-06</td>\n",
       "      <td>9.755092e-06</td>\n",
       "      <td>0.000004</td>\n",
       "      <td>1.002687e-05</td>\n",
       "      <td>7.319547e-06</td>\n",
       "      <td>0.000004</td>\n",
       "    </tr>\n",
       "    <tr>\n",
       "      <th>T cells</th>\n",
       "      <td>1.086982e-05</td>\n",
       "      <td>0.000052</td>\n",
       "      <td>0.000013</td>\n",
       "      <td>6.871969e-06</td>\n",
       "      <td>1.870607e-06</td>\n",
       "      <td>1.729039e-06</td>\n",
       "      <td>2.951568e-06</td>\n",
       "      <td>0.000013</td>\n",
       "      <td>0.000004</td>\n",
       "      <td>6.003113e-06</td>\n",
       "      <td>...</td>\n",
       "      <td>0.000004</td>\n",
       "      <td>0.000003</td>\n",
       "      <td>2.284149e-06</td>\n",
       "      <td>1.735308e-06</td>\n",
       "      <td>1.888853e-06</td>\n",
       "      <td>8.384326e-07</td>\n",
       "      <td>0.000004</td>\n",
       "      <td>1.105916e-06</td>\n",
       "      <td>2.916881e-06</td>\n",
       "      <td>0.000004</td>\n",
       "    </tr>\n",
       "    <tr>\n",
       "      <th>pDCs</th>\n",
       "      <td>1.099171e-05</td>\n",
       "      <td>0.000028</td>\n",
       "      <td>0.000012</td>\n",
       "      <td>7.668319e-06</td>\n",
       "      <td>1.826093e-06</td>\n",
       "      <td>1.449094e-06</td>\n",
       "      <td>2.358452e-06</td>\n",
       "      <td>0.000011</td>\n",
       "      <td>0.000003</td>\n",
       "      <td>7.020060e-06</td>\n",
       "      <td>...</td>\n",
       "      <td>0.000003</td>\n",
       "      <td>0.000003</td>\n",
       "      <td>1.691284e-06</td>\n",
       "      <td>1.127798e-06</td>\n",
       "      <td>1.502512e-06</td>\n",
       "      <td>4.614550e-07</td>\n",
       "      <td>0.000004</td>\n",
       "      <td>7.245042e-07</td>\n",
       "      <td>1.341984e-06</td>\n",
       "      <td>0.000003</td>\n",
       "    </tr>\n",
       "    <tr>\n",
       "      <th>Monocytes</th>\n",
       "      <td>1.984784e-07</td>\n",
       "      <td>0.000186</td>\n",
       "      <td>0.000003</td>\n",
       "      <td>1.685255e-07</td>\n",
       "      <td>2.224741e-07</td>\n",
       "      <td>9.904396e-07</td>\n",
       "      <td>5.503195e-07</td>\n",
       "      <td>0.000002</td>\n",
       "      <td>0.000003</td>\n",
       "      <td>8.591471e-08</td>\n",
       "      <td>...</td>\n",
       "      <td>0.000002</td>\n",
       "      <td>0.000002</td>\n",
       "      <td>1.430834e-06</td>\n",
       "      <td>1.938570e-06</td>\n",
       "      <td>9.428663e-07</td>\n",
       "      <td>3.491571e-06</td>\n",
       "      <td>0.000003</td>\n",
       "      <td>3.533847e-06</td>\n",
       "      <td>7.557001e-06</td>\n",
       "      <td>0.000002</td>\n",
       "    </tr>\n",
       "    <tr>\n",
       "      <th>...</th>\n",
       "      <td>...</td>\n",
       "      <td>...</td>\n",
       "      <td>...</td>\n",
       "      <td>...</td>\n",
       "      <td>...</td>\n",
       "      <td>...</td>\n",
       "      <td>...</td>\n",
       "      <td>...</td>\n",
       "      <td>...</td>\n",
       "      <td>...</td>\n",
       "      <td>...</td>\n",
       "      <td>...</td>\n",
       "      <td>...</td>\n",
       "      <td>...</td>\n",
       "      <td>...</td>\n",
       "      <td>...</td>\n",
       "      <td>...</td>\n",
       "      <td>...</td>\n",
       "      <td>...</td>\n",
       "      <td>...</td>\n",
       "      <td>...</td>\n",
       "    </tr>\n",
       "    <tr>\n",
       "      <th>cDC1s</th>\n",
       "      <td>1.352499e-05</td>\n",
       "      <td>0.000006</td>\n",
       "      <td>0.000012</td>\n",
       "      <td>9.845427e-06</td>\n",
       "      <td>1.446495e-06</td>\n",
       "      <td>1.368862e-06</td>\n",
       "      <td>1.718909e-06</td>\n",
       "      <td>0.000013</td>\n",
       "      <td>0.000003</td>\n",
       "      <td>9.081251e-06</td>\n",
       "      <td>...</td>\n",
       "      <td>0.000002</td>\n",
       "      <td>0.000003</td>\n",
       "      <td>1.398715e-06</td>\n",
       "      <td>9.446662e-07</td>\n",
       "      <td>1.635072e-06</td>\n",
       "      <td>2.317924e-07</td>\n",
       "      <td>0.000004</td>\n",
       "      <td>4.448569e-07</td>\n",
       "      <td>6.482821e-07</td>\n",
       "      <td>0.000002</td>\n",
       "    </tr>\n",
       "    <tr>\n",
       "      <th>cDC1s</th>\n",
       "      <td>9.510376e-06</td>\n",
       "      <td>0.000005</td>\n",
       "      <td>0.000008</td>\n",
       "      <td>7.650667e-06</td>\n",
       "      <td>1.207297e-06</td>\n",
       "      <td>6.201688e-07</td>\n",
       "      <td>1.338949e-06</td>\n",
       "      <td>0.000008</td>\n",
       "      <td>0.000001</td>\n",
       "      <td>7.748529e-06</td>\n",
       "      <td>...</td>\n",
       "      <td>0.000001</td>\n",
       "      <td>0.000001</td>\n",
       "      <td>7.118774e-07</td>\n",
       "      <td>4.766329e-07</td>\n",
       "      <td>7.312581e-07</td>\n",
       "      <td>1.010120e-07</td>\n",
       "      <td>0.000002</td>\n",
       "      <td>2.027027e-07</td>\n",
       "      <td>2.510417e-07</td>\n",
       "      <td>0.000001</td>\n",
       "    </tr>\n",
       "    <tr>\n",
       "      <th>cDC1s</th>\n",
       "      <td>6.408325e-06</td>\n",
       "      <td>0.000029</td>\n",
       "      <td>0.000010</td>\n",
       "      <td>4.370406e-06</td>\n",
       "      <td>1.374683e-06</td>\n",
       "      <td>1.257555e-06</td>\n",
       "      <td>1.936367e-06</td>\n",
       "      <td>0.000009</td>\n",
       "      <td>0.000003</td>\n",
       "      <td>4.019570e-06</td>\n",
       "      <td>...</td>\n",
       "      <td>0.000003</td>\n",
       "      <td>0.000002</td>\n",
       "      <td>1.672651e-06</td>\n",
       "      <td>1.013902e-06</td>\n",
       "      <td>1.267876e-06</td>\n",
       "      <td>3.746607e-07</td>\n",
       "      <td>0.000003</td>\n",
       "      <td>5.454931e-07</td>\n",
       "      <td>1.132873e-06</td>\n",
       "      <td>0.000003</td>\n",
       "    </tr>\n",
       "    <tr>\n",
       "      <th>cDC2s</th>\n",
       "      <td>4.510120e-06</td>\n",
       "      <td>0.000037</td>\n",
       "      <td>0.000013</td>\n",
       "      <td>3.266477e-06</td>\n",
       "      <td>1.433462e-06</td>\n",
       "      <td>1.926854e-06</td>\n",
       "      <td>2.407534e-06</td>\n",
       "      <td>0.000011</td>\n",
       "      <td>0.000005</td>\n",
       "      <td>2.512553e-06</td>\n",
       "      <td>...</td>\n",
       "      <td>0.000004</td>\n",
       "      <td>0.000004</td>\n",
       "      <td>2.474251e-06</td>\n",
       "      <td>2.125662e-06</td>\n",
       "      <td>1.930906e-06</td>\n",
       "      <td>5.841701e-07</td>\n",
       "      <td>0.000005</td>\n",
       "      <td>8.667373e-07</td>\n",
       "      <td>2.387290e-06</td>\n",
       "      <td>0.000004</td>\n",
       "    </tr>\n",
       "    <tr>\n",
       "      <th>cDC2s</th>\n",
       "      <td>6.387218e-06</td>\n",
       "      <td>0.000313</td>\n",
       "      <td>0.000005</td>\n",
       "      <td>3.862252e-06</td>\n",
       "      <td>1.179844e-06</td>\n",
       "      <td>1.317484e-06</td>\n",
       "      <td>2.046768e-06</td>\n",
       "      <td>0.000007</td>\n",
       "      <td>0.000004</td>\n",
       "      <td>3.385339e-06</td>\n",
       "      <td>...</td>\n",
       "      <td>0.000002</td>\n",
       "      <td>0.000002</td>\n",
       "      <td>1.755259e-06</td>\n",
       "      <td>1.792390e-06</td>\n",
       "      <td>1.438950e-06</td>\n",
       "      <td>1.040859e-05</td>\n",
       "      <td>0.000003</td>\n",
       "      <td>8.247377e-06</td>\n",
       "      <td>1.057751e-05</td>\n",
       "      <td>0.000003</td>\n",
       "    </tr>\n",
       "  </tbody>\n",
       "</table>\n",
       "<p>176328 rows × 11283 columns</p>\n",
       "</div>"
      ],
      "text/plain": [
       "annotationSave      Mesothelial cells  Capsule fibroblasts  Mesothelial cells  \\\n",
       "annot_fine_zonated                                                              \n",
       "pDCs                     6.314774e-06             0.000058           0.000014   \n",
       "KCs                      1.031437e-06             0.000510           0.000005   \n",
       "T cells                  1.086982e-05             0.000052           0.000013   \n",
       "pDCs                     1.099171e-05             0.000028           0.000012   \n",
       "Monocytes                1.984784e-07             0.000186           0.000003   \n",
       "...                               ...                  ...                ...   \n",
       "cDC1s                    1.352499e-05             0.000006           0.000012   \n",
       "cDC1s                    9.510376e-06             0.000005           0.000008   \n",
       "cDC1s                    6.408325e-06             0.000029           0.000010   \n",
       "cDC2s                    4.510120e-06             0.000037           0.000013   \n",
       "cDC2s                    6.387218e-06             0.000313           0.000005   \n",
       "\n",
       "annotationSave      Mesothelial cells    Fibroblast  Hepatocytes_central  \\\n",
       "annot_fine_zonated                                                         \n",
       "pDCs                     4.488190e-06  1.713820e-06         2.152569e-06   \n",
       "KCs                      8.706317e-07  5.317781e-07         1.533023e-06   \n",
       "T cells                  6.871969e-06  1.870607e-06         1.729039e-06   \n",
       "pDCs                     7.668319e-06  1.826093e-06         1.449094e-06   \n",
       "Monocytes                1.685255e-07  2.224741e-07         9.904396e-07   \n",
       "...                               ...           ...                  ...   \n",
       "cDC1s                    9.845427e-06  1.446495e-06         1.368862e-06   \n",
       "cDC1s                    7.650667e-06  1.207297e-06         6.201688e-07   \n",
       "cDC1s                    4.370406e-06  1.374683e-06         1.257555e-06   \n",
       "cDC2s                    3.266477e-06  1.433462e-06         1.926854e-06   \n",
       "cDC2s                    3.862252e-06  1.179844e-06         1.317484e-06   \n",
       "\n",
       "annotationSave        Fibroblast  Mesothelial cells  Hepatocytes_portal  \\\n",
       "annot_fine_zonated                                                        \n",
       "pDCs                3.018133e-06           0.000012            0.000005   \n",
       "KCs                 1.111178e-06           0.000005            0.000004   \n",
       "T cells             2.951568e-06           0.000013            0.000004   \n",
       "pDCs                2.358452e-06           0.000011            0.000003   \n",
       "Monocytes           5.503195e-07           0.000002            0.000003   \n",
       "...                          ...                ...                 ...   \n",
       "cDC1s               1.718909e-06           0.000013            0.000003   \n",
       "cDC1s               1.338949e-06           0.000008            0.000001   \n",
       "cDC1s               1.936367e-06           0.000009            0.000003   \n",
       "cDC2s               2.407534e-06           0.000011            0.000005   \n",
       "cDC2s               2.046768e-06           0.000007            0.000004   \n",
       "\n",
       "annotationSave      Mesothelial cells  ...  Hepatocytes_portal  \\\n",
       "annot_fine_zonated                     ...                       \n",
       "pDCs                     3.347167e-06  ...            0.000005   \n",
       "KCs                      5.054299e-07  ...            0.000003   \n",
       "T cells                  6.003113e-06  ...            0.000004   \n",
       "pDCs                     7.020060e-06  ...            0.000003   \n",
       "Monocytes                8.591471e-08  ...            0.000002   \n",
       "...                               ...  ...                 ...   \n",
       "cDC1s                    9.081251e-06  ...            0.000002   \n",
       "cDC1s                    7.748529e-06  ...            0.000001   \n",
       "cDC1s                    4.019570e-06  ...            0.000003   \n",
       "cDC2s                    2.512553e-06  ...            0.000004   \n",
       "cDC2s                    3.385339e-06  ...            0.000002   \n",
       "\n",
       "annotationSave      Hepatocytes_central  Hepatocytes_central  \\\n",
       "annot_fine_zonated                                             \n",
       "pDCs                           0.000004         2.729505e-06   \n",
       "KCs                            0.000003         2.318773e-06   \n",
       "T cells                        0.000003         2.284149e-06   \n",
       "pDCs                           0.000003         1.691284e-06   \n",
       "Monocytes                      0.000002         1.430834e-06   \n",
       "...                                 ...                  ...   \n",
       "cDC1s                          0.000003         1.398715e-06   \n",
       "cDC1s                          0.000001         7.118774e-07   \n",
       "cDC1s                          0.000002         1.672651e-06   \n",
       "cDC2s                          0.000004         2.474251e-06   \n",
       "cDC2s                          0.000002         1.755259e-06   \n",
       "\n",
       "annotationSave      Stellate cells_portal  Hepatocytes_central           KCs  \\\n",
       "annot_fine_zonated                                                             \n",
       "pDCs                         2.585096e-06         2.214163e-06  9.322229e-07   \n",
       "KCs                          2.264081e-06         1.519652e-06  9.755092e-06   \n",
       "T cells                      1.735308e-06         1.888853e-06  8.384326e-07   \n",
       "pDCs                         1.127798e-06         1.502512e-06  4.614550e-07   \n",
       "Monocytes                    1.938570e-06         9.428663e-07  3.491571e-06   \n",
       "...                                   ...                  ...           ...   \n",
       "cDC1s                        9.446662e-07         1.635072e-06  2.317924e-07   \n",
       "cDC1s                        4.766329e-07         7.312581e-07  1.010120e-07   \n",
       "cDC1s                        1.013902e-06         1.267876e-06  3.746607e-07   \n",
       "cDC2s                        2.125662e-06         1.930906e-06  5.841701e-07   \n",
       "cDC2s                        1.792390e-06         1.438950e-06  1.040859e-05   \n",
       "\n",
       "annotationSave      Hepatocytes_portal           KCs  Capsule fibroblasts  \\\n",
       "annot_fine_zonated                                                          \n",
       "pDCs                          0.000006  1.356230e-06         3.109811e-06   \n",
       "KCs                           0.000004  1.002687e-05         7.319547e-06   \n",
       "T cells                       0.000004  1.105916e-06         2.916881e-06   \n",
       "pDCs                          0.000004  7.245042e-07         1.341984e-06   \n",
       "Monocytes                     0.000003  3.533847e-06         7.557001e-06   \n",
       "...                                ...           ...                  ...   \n",
       "cDC1s                         0.000004  4.448569e-07         6.482821e-07   \n",
       "cDC1s                         0.000002  2.027027e-07         2.510417e-07   \n",
       "cDC1s                         0.000003  5.454931e-07         1.132873e-06   \n",
       "cDC2s                         0.000005  8.667373e-07         2.387290e-06   \n",
       "cDC2s                         0.000003  8.247377e-06         1.057751e-05   \n",
       "\n",
       "annotationSave      Hepatocytes_portal  \n",
       "annot_fine_zonated                      \n",
       "pDCs                          0.000005  \n",
       "KCs                           0.000004  \n",
       "T cells                       0.000004  \n",
       "pDCs                          0.000003  \n",
       "Monocytes                     0.000002  \n",
       "...                                ...  \n",
       "cDC1s                         0.000002  \n",
       "cDC1s                         0.000001  \n",
       "cDC1s                         0.000003  \n",
       "cDC2s                         0.000004  \n",
       "cDC2s                         0.000003  \n",
       "\n",
       "[176328 rows x 11283 columns]"
      ]
     },
     "execution_count": 11,
     "metadata": {},
     "output_type": "execute_result"
    }
   ],
   "source": [
    "df"
   ]
  },
  {
   "cell_type": "markdown",
   "metadata": {},
   "source": [
    "Obtain the cell types (from the spatial data) of with the highest probability to colocalize to the corresponding single-cell data."
   ]
  },
  {
   "cell_type": "code",
   "execution_count": 5,
   "metadata": {},
   "outputs": [],
   "source": [
    "top3 =pd.DataFrame(df.apply(lambda x:list(df.columns[np.array(x).argsort()[::-1][:3]]), axis=1).to_list(),  columns=['Top1', 'Top2', 'Top3'],index=df.index)"
   ]
  },
  {
   "cell_type": "code",
   "execution_count": 6,
   "metadata": {},
   "outputs": [
    {
     "data": {
      "text/html": [
       "<div>\n",
       "<style scoped>\n",
       "    .dataframe tbody tr th:only-of-type {\n",
       "        vertical-align: middle;\n",
       "    }\n",
       "\n",
       "    .dataframe tbody tr th {\n",
       "        vertical-align: top;\n",
       "    }\n",
       "\n",
       "    .dataframe thead th {\n",
       "        text-align: right;\n",
       "    }\n",
       "</style>\n",
       "<table border=\"1\" class=\"dataframe\">\n",
       "  <thead>\n",
       "    <tr style=\"text-align: right;\">\n",
       "      <th></th>\n",
       "      <th>Top1</th>\n",
       "      <th>Top2</th>\n",
       "      <th>Top3</th>\n",
       "    </tr>\n",
       "    <tr>\n",
       "      <th>annot_fine_zonated</th>\n",
       "      <th></th>\n",
       "      <th></th>\n",
       "      <th></th>\n",
       "    </tr>\n",
       "  </thead>\n",
       "  <tbody>\n",
       "    <tr>\n",
       "      <th>pDCs</th>\n",
       "      <td>pDCs</td>\n",
       "      <td>T cells</td>\n",
       "      <td>B cells</td>\n",
       "    </tr>\n",
       "    <tr>\n",
       "      <th>KCs</th>\n",
       "      <td>ILC1s</td>\n",
       "      <td>Neutrophils</td>\n",
       "      <td>Neutrophils</td>\n",
       "    </tr>\n",
       "    <tr>\n",
       "      <th>T cells</th>\n",
       "      <td>T cells</td>\n",
       "      <td>pDCs</td>\n",
       "      <td>pDCs</td>\n",
       "    </tr>\n",
       "    <tr>\n",
       "      <th>pDCs</th>\n",
       "      <td>ILC1s</td>\n",
       "      <td>pDCs</td>\n",
       "      <td>cDC1s</td>\n",
       "    </tr>\n",
       "    <tr>\n",
       "      <th>Monocytes</th>\n",
       "      <td>Neutrophils</td>\n",
       "      <td>Neutrophils</td>\n",
       "      <td>B cells</td>\n",
       "    </tr>\n",
       "    <tr>\n",
       "      <th>...</th>\n",
       "      <td>...</td>\n",
       "      <td>...</td>\n",
       "      <td>...</td>\n",
       "    </tr>\n",
       "    <tr>\n",
       "      <th>cDC1s</th>\n",
       "      <td>cDC1s</td>\n",
       "      <td>ILC1s</td>\n",
       "      <td>cDC1s</td>\n",
       "    </tr>\n",
       "    <tr>\n",
       "      <th>cDC1s</th>\n",
       "      <td>cDC1s</td>\n",
       "      <td>ILC1s</td>\n",
       "      <td>cDC1s</td>\n",
       "    </tr>\n",
       "    <tr>\n",
       "      <th>cDC1s</th>\n",
       "      <td>pDCs</td>\n",
       "      <td>pDCs</td>\n",
       "      <td>ILC1s</td>\n",
       "    </tr>\n",
       "    <tr>\n",
       "      <th>cDC2s</th>\n",
       "      <td>ILC1s</td>\n",
       "      <td>LSECs_central</td>\n",
       "      <td>cDC1s</td>\n",
       "    </tr>\n",
       "    <tr>\n",
       "      <th>cDC2s</th>\n",
       "      <td>Neutrophils</td>\n",
       "      <td>Neutrophils</td>\n",
       "      <td>Neutrophils</td>\n",
       "    </tr>\n",
       "  </tbody>\n",
       "</table>\n",
       "<p>176328 rows × 3 columns</p>\n",
       "</div>"
      ],
      "text/plain": [
       "                           Top1           Top2         Top3\n",
       "annot_fine_zonated                                         \n",
       "pDCs                       pDCs        T cells      B cells\n",
       "KCs                       ILC1s    Neutrophils  Neutrophils\n",
       "T cells                 T cells           pDCs         pDCs\n",
       "pDCs                      ILC1s           pDCs        cDC1s\n",
       "Monocytes           Neutrophils    Neutrophils      B cells\n",
       "...                         ...            ...          ...\n",
       "cDC1s                     cDC1s          ILC1s        cDC1s\n",
       "cDC1s                     cDC1s          ILC1s        cDC1s\n",
       "cDC1s                      pDCs           pDCs        ILC1s\n",
       "cDC2s                     ILC1s  LSECs_central        cDC1s\n",
       "cDC2s               Neutrophils    Neutrophils  Neutrophils\n",
       "\n",
       "[176328 rows x 3 columns]"
      ]
     },
     "execution_count": 6,
     "metadata": {},
     "output_type": "execute_result"
    }
   ],
   "source": [
    "top3"
   ]
  },
  {
   "cell_type": "markdown",
   "metadata": {},
   "source": [
    "Obtain the percentage of the spatial cell with the highest probability to colocalize to the cell in the single-cell data. There are 30% of cells from the single-cell data that are colocalized to the same cell type from the spatial data."
   ]
  },
  {
   "cell_type": "code",
   "execution_count": 8,
   "metadata": {},
   "outputs": [
    {
     "data": {
      "text/plain": [
       "Top1    0.298569\n",
       "Top2    0.298569\n",
       "Top3    0.298569\n",
       "dtype: float64"
      ]
     },
     "execution_count": 8,
     "metadata": {},
     "output_type": "execute_result"
    }
   ],
   "source": [
    "top3[(top3.index==top3['Top1'])].count()/top3.count()"
   ]
  },
  {
   "cell_type": "code",
   "execution_count": null,
   "metadata": {},
   "outputs": [
    {
     "data": {
      "text/plain": [
       "Top1    0.535769\n",
       "Top2    0.535769\n",
       "Top3    0.535769\n",
       "dtype: float64"
      ]
     },
     "metadata": {},
     "output_type": "display_data"
    }
   ],
   "source": [
    "# The below can be used to obtain the same percentage for the top three highest probabilites - result give 53.6%\n",
    "# top3[(top3.index==top3['Top1'])|(top3.index==top3['Top2'])|(top3.index==top3['Top3'])].count()/top3.count()"
   ]
  },
  {
   "cell_type": "markdown",
   "metadata": {},
   "source": [
    "## Synthetic colocalization analysis\n",
    "\n",
    "A synthetic colocalization analysis is generated by giving equal probabilities for cell pairs with the same cell type annotations and no probability for cell pairs with different annotations."
   ]
  },
  {
   "cell_type": "code",
   "execution_count": 18,
   "metadata": {},
   "outputs": [],
   "source": [
    "# Dictionary of cell types for each cell\n",
    "sc_dict = sc_adata.obs['annot_fine_zonated'].to_dict()\n",
    "sp_dict = sp_adata.obs['annotationSave'].to_dict()"
   ]
  },
  {
   "cell_type": "code",
   "execution_count": 13,
   "metadata": {},
   "outputs": [],
   "source": [
    "# Create empty df for the probability matrix\n",
    "pmat = pd.DataFrame(np.zeros((len(sc_adata.obs),len(sp_adata.obs))), index=sc_adata.obs_names, columns=sp_adata.obs_names)"
   ]
  },
  {
   "cell_type": "code",
   "execution_count": 50,
   "metadata": {},
   "outputs": [],
   "source": [
    "# Assign value of 1 if the cell type annotations are same for the two cells\n",
    "for key, value in sp_dict.items():\n",
    "    pmat[key] = np.where(pmat.index.map(sc_dict)==value,1,pmat[key])"
   ]
  },
  {
   "cell_type": "markdown",
   "metadata": {},
   "source": [
    "The precursor to the colocalization matrix is generted and it can be seen below."
   ]
  },
  {
   "cell_type": "code",
   "execution_count": 51,
   "metadata": {},
   "outputs": [
    {
     "data": {
      "text/html": [
       "<div>\n",
       "<style scoped>\n",
       "    .dataframe tbody tr th:only-of-type {\n",
       "        vertical-align: middle;\n",
       "    }\n",
       "\n",
       "    .dataframe tbody tr th {\n",
       "        vertical-align: top;\n",
       "    }\n",
       "\n",
       "    .dataframe thead th {\n",
       "        text-align: right;\n",
       "    }\n",
       "</style>\n",
       "<table border=\"1\" class=\"dataframe\">\n",
       "  <thead>\n",
       "    <tr style=\"text-align: right;\">\n",
       "      <th>cells</th>\n",
       "      <th>65</th>\n",
       "      <th>66</th>\n",
       "      <th>67</th>\n",
       "      <th>129</th>\n",
       "      <th>130</th>\n",
       "      <th>192</th>\n",
       "      <th>193</th>\n",
       "      <th>195</th>\n",
       "      <th>256</th>\n",
       "      <th>257</th>\n",
       "      <th>...</th>\n",
       "      <th>32329</th>\n",
       "      <th>32393</th>\n",
       "      <th>32521</th>\n",
       "      <th>32585</th>\n",
       "      <th>32649</th>\n",
       "      <th>32713</th>\n",
       "      <th>32777</th>\n",
       "      <th>32841</th>\n",
       "      <th>32905</th>\n",
       "      <th>32969</th>\n",
       "    </tr>\n",
       "  </thead>\n",
       "  <tbody>\n",
       "    <tr>\n",
       "      <th>AAACCTGAGAGCCCAA-1</th>\n",
       "      <td>0.0</td>\n",
       "      <td>0.0</td>\n",
       "      <td>0.0</td>\n",
       "      <td>0.0</td>\n",
       "      <td>0.0</td>\n",
       "      <td>0.0</td>\n",
       "      <td>0.0</td>\n",
       "      <td>0.0</td>\n",
       "      <td>0.0</td>\n",
       "      <td>0.0</td>\n",
       "      <td>...</td>\n",
       "      <td>0.0</td>\n",
       "      <td>0.0</td>\n",
       "      <td>0.0</td>\n",
       "      <td>0.0</td>\n",
       "      <td>0.0</td>\n",
       "      <td>0.0</td>\n",
       "      <td>0.0</td>\n",
       "      <td>0.0</td>\n",
       "      <td>0.0</td>\n",
       "      <td>0.0</td>\n",
       "    </tr>\n",
       "    <tr>\n",
       "      <th>AAACCTGAGCTAGTCT-1</th>\n",
       "      <td>0.0</td>\n",
       "      <td>0.0</td>\n",
       "      <td>0.0</td>\n",
       "      <td>0.0</td>\n",
       "      <td>0.0</td>\n",
       "      <td>0.0</td>\n",
       "      <td>0.0</td>\n",
       "      <td>0.0</td>\n",
       "      <td>0.0</td>\n",
       "      <td>0.0</td>\n",
       "      <td>...</td>\n",
       "      <td>0.0</td>\n",
       "      <td>0.0</td>\n",
       "      <td>0.0</td>\n",
       "      <td>0.0</td>\n",
       "      <td>0.0</td>\n",
       "      <td>1.0</td>\n",
       "      <td>0.0</td>\n",
       "      <td>1.0</td>\n",
       "      <td>0.0</td>\n",
       "      <td>0.0</td>\n",
       "    </tr>\n",
       "    <tr>\n",
       "      <th>AAACCTGAGTTCGCGC-1</th>\n",
       "      <td>0.0</td>\n",
       "      <td>0.0</td>\n",
       "      <td>0.0</td>\n",
       "      <td>0.0</td>\n",
       "      <td>0.0</td>\n",
       "      <td>0.0</td>\n",
       "      <td>0.0</td>\n",
       "      <td>0.0</td>\n",
       "      <td>0.0</td>\n",
       "      <td>0.0</td>\n",
       "      <td>...</td>\n",
       "      <td>0.0</td>\n",
       "      <td>0.0</td>\n",
       "      <td>0.0</td>\n",
       "      <td>0.0</td>\n",
       "      <td>0.0</td>\n",
       "      <td>0.0</td>\n",
       "      <td>0.0</td>\n",
       "      <td>0.0</td>\n",
       "      <td>0.0</td>\n",
       "      <td>0.0</td>\n",
       "    </tr>\n",
       "    <tr>\n",
       "      <th>AAACCTGCAACACCCG-1</th>\n",
       "      <td>0.0</td>\n",
       "      <td>0.0</td>\n",
       "      <td>0.0</td>\n",
       "      <td>0.0</td>\n",
       "      <td>0.0</td>\n",
       "      <td>0.0</td>\n",
       "      <td>0.0</td>\n",
       "      <td>0.0</td>\n",
       "      <td>0.0</td>\n",
       "      <td>0.0</td>\n",
       "      <td>...</td>\n",
       "      <td>0.0</td>\n",
       "      <td>0.0</td>\n",
       "      <td>0.0</td>\n",
       "      <td>0.0</td>\n",
       "      <td>0.0</td>\n",
       "      <td>0.0</td>\n",
       "      <td>0.0</td>\n",
       "      <td>0.0</td>\n",
       "      <td>0.0</td>\n",
       "      <td>0.0</td>\n",
       "    </tr>\n",
       "    <tr>\n",
       "      <th>AAACCTGGTCAGTGGA-1</th>\n",
       "      <td>0.0</td>\n",
       "      <td>0.0</td>\n",
       "      <td>0.0</td>\n",
       "      <td>0.0</td>\n",
       "      <td>0.0</td>\n",
       "      <td>0.0</td>\n",
       "      <td>0.0</td>\n",
       "      <td>0.0</td>\n",
       "      <td>0.0</td>\n",
       "      <td>0.0</td>\n",
       "      <td>...</td>\n",
       "      <td>0.0</td>\n",
       "      <td>0.0</td>\n",
       "      <td>0.0</td>\n",
       "      <td>0.0</td>\n",
       "      <td>0.0</td>\n",
       "      <td>0.0</td>\n",
       "      <td>0.0</td>\n",
       "      <td>0.0</td>\n",
       "      <td>0.0</td>\n",
       "      <td>0.0</td>\n",
       "    </tr>\n",
       "    <tr>\n",
       "      <th>...</th>\n",
       "      <td>...</td>\n",
       "      <td>...</td>\n",
       "      <td>...</td>\n",
       "      <td>...</td>\n",
       "      <td>...</td>\n",
       "      <td>...</td>\n",
       "      <td>...</td>\n",
       "      <td>...</td>\n",
       "      <td>...</td>\n",
       "      <td>...</td>\n",
       "      <td>...</td>\n",
       "      <td>...</td>\n",
       "      <td>...</td>\n",
       "      <td>...</td>\n",
       "      <td>...</td>\n",
       "      <td>...</td>\n",
       "      <td>...</td>\n",
       "      <td>...</td>\n",
       "      <td>...</td>\n",
       "      <td>...</td>\n",
       "      <td>...</td>\n",
       "    </tr>\n",
       "    <tr>\n",
       "      <th>TTTGGTTGTCAGAATA-46</th>\n",
       "      <td>0.0</td>\n",
       "      <td>0.0</td>\n",
       "      <td>0.0</td>\n",
       "      <td>0.0</td>\n",
       "      <td>0.0</td>\n",
       "      <td>0.0</td>\n",
       "      <td>0.0</td>\n",
       "      <td>0.0</td>\n",
       "      <td>0.0</td>\n",
       "      <td>0.0</td>\n",
       "      <td>...</td>\n",
       "      <td>0.0</td>\n",
       "      <td>0.0</td>\n",
       "      <td>0.0</td>\n",
       "      <td>0.0</td>\n",
       "      <td>0.0</td>\n",
       "      <td>0.0</td>\n",
       "      <td>0.0</td>\n",
       "      <td>0.0</td>\n",
       "      <td>0.0</td>\n",
       "      <td>0.0</td>\n",
       "    </tr>\n",
       "    <tr>\n",
       "      <th>TTTGTCAAGAAAGTGG-46</th>\n",
       "      <td>0.0</td>\n",
       "      <td>0.0</td>\n",
       "      <td>0.0</td>\n",
       "      <td>0.0</td>\n",
       "      <td>0.0</td>\n",
       "      <td>0.0</td>\n",
       "      <td>0.0</td>\n",
       "      <td>0.0</td>\n",
       "      <td>0.0</td>\n",
       "      <td>0.0</td>\n",
       "      <td>...</td>\n",
       "      <td>0.0</td>\n",
       "      <td>0.0</td>\n",
       "      <td>0.0</td>\n",
       "      <td>0.0</td>\n",
       "      <td>0.0</td>\n",
       "      <td>0.0</td>\n",
       "      <td>0.0</td>\n",
       "      <td>0.0</td>\n",
       "      <td>0.0</td>\n",
       "      <td>0.0</td>\n",
       "    </tr>\n",
       "    <tr>\n",
       "      <th>TTTGTCACAGTATGCT-46</th>\n",
       "      <td>0.0</td>\n",
       "      <td>0.0</td>\n",
       "      <td>0.0</td>\n",
       "      <td>0.0</td>\n",
       "      <td>0.0</td>\n",
       "      <td>0.0</td>\n",
       "      <td>0.0</td>\n",
       "      <td>0.0</td>\n",
       "      <td>0.0</td>\n",
       "      <td>0.0</td>\n",
       "      <td>...</td>\n",
       "      <td>0.0</td>\n",
       "      <td>0.0</td>\n",
       "      <td>0.0</td>\n",
       "      <td>0.0</td>\n",
       "      <td>0.0</td>\n",
       "      <td>0.0</td>\n",
       "      <td>0.0</td>\n",
       "      <td>0.0</td>\n",
       "      <td>0.0</td>\n",
       "      <td>0.0</td>\n",
       "    </tr>\n",
       "    <tr>\n",
       "      <th>TTTGTCAGTTGATTGC-46</th>\n",
       "      <td>0.0</td>\n",
       "      <td>0.0</td>\n",
       "      <td>0.0</td>\n",
       "      <td>0.0</td>\n",
       "      <td>0.0</td>\n",
       "      <td>0.0</td>\n",
       "      <td>0.0</td>\n",
       "      <td>0.0</td>\n",
       "      <td>0.0</td>\n",
       "      <td>0.0</td>\n",
       "      <td>...</td>\n",
       "      <td>0.0</td>\n",
       "      <td>0.0</td>\n",
       "      <td>0.0</td>\n",
       "      <td>0.0</td>\n",
       "      <td>0.0</td>\n",
       "      <td>0.0</td>\n",
       "      <td>0.0</td>\n",
       "      <td>0.0</td>\n",
       "      <td>0.0</td>\n",
       "      <td>0.0</td>\n",
       "    </tr>\n",
       "    <tr>\n",
       "      <th>TTTGTCATCCCACTTG-46</th>\n",
       "      <td>0.0</td>\n",
       "      <td>0.0</td>\n",
       "      <td>0.0</td>\n",
       "      <td>0.0</td>\n",
       "      <td>0.0</td>\n",
       "      <td>0.0</td>\n",
       "      <td>0.0</td>\n",
       "      <td>0.0</td>\n",
       "      <td>0.0</td>\n",
       "      <td>0.0</td>\n",
       "      <td>...</td>\n",
       "      <td>0.0</td>\n",
       "      <td>0.0</td>\n",
       "      <td>0.0</td>\n",
       "      <td>0.0</td>\n",
       "      <td>0.0</td>\n",
       "      <td>0.0</td>\n",
       "      <td>0.0</td>\n",
       "      <td>0.0</td>\n",
       "      <td>0.0</td>\n",
       "      <td>0.0</td>\n",
       "    </tr>\n",
       "  </tbody>\n",
       "</table>\n",
       "<p>176328 rows × 11283 columns</p>\n",
       "</div>"
      ],
      "text/plain": [
       "cells                 65   66   67  129  130  192  193  195  256  257  ...  \\\n",
       "AAACCTGAGAGCCCAA-1   0.0  0.0  0.0  0.0  0.0  0.0  0.0  0.0  0.0  0.0  ...   \n",
       "AAACCTGAGCTAGTCT-1   0.0  0.0  0.0  0.0  0.0  0.0  0.0  0.0  0.0  0.0  ...   \n",
       "AAACCTGAGTTCGCGC-1   0.0  0.0  0.0  0.0  0.0  0.0  0.0  0.0  0.0  0.0  ...   \n",
       "AAACCTGCAACACCCG-1   0.0  0.0  0.0  0.0  0.0  0.0  0.0  0.0  0.0  0.0  ...   \n",
       "AAACCTGGTCAGTGGA-1   0.0  0.0  0.0  0.0  0.0  0.0  0.0  0.0  0.0  0.0  ...   \n",
       "...                  ...  ...  ...  ...  ...  ...  ...  ...  ...  ...  ...   \n",
       "TTTGGTTGTCAGAATA-46  0.0  0.0  0.0  0.0  0.0  0.0  0.0  0.0  0.0  0.0  ...   \n",
       "TTTGTCAAGAAAGTGG-46  0.0  0.0  0.0  0.0  0.0  0.0  0.0  0.0  0.0  0.0  ...   \n",
       "TTTGTCACAGTATGCT-46  0.0  0.0  0.0  0.0  0.0  0.0  0.0  0.0  0.0  0.0  ...   \n",
       "TTTGTCAGTTGATTGC-46  0.0  0.0  0.0  0.0  0.0  0.0  0.0  0.0  0.0  0.0  ...   \n",
       "TTTGTCATCCCACTTG-46  0.0  0.0  0.0  0.0  0.0  0.0  0.0  0.0  0.0  0.0  ...   \n",
       "\n",
       "cells                32329  32393  32521  32585  32649  32713  32777  32841  \\\n",
       "AAACCTGAGAGCCCAA-1     0.0    0.0    0.0    0.0    0.0    0.0    0.0    0.0   \n",
       "AAACCTGAGCTAGTCT-1     0.0    0.0    0.0    0.0    0.0    1.0    0.0    1.0   \n",
       "AAACCTGAGTTCGCGC-1     0.0    0.0    0.0    0.0    0.0    0.0    0.0    0.0   \n",
       "AAACCTGCAACACCCG-1     0.0    0.0    0.0    0.0    0.0    0.0    0.0    0.0   \n",
       "AAACCTGGTCAGTGGA-1     0.0    0.0    0.0    0.0    0.0    0.0    0.0    0.0   \n",
       "...                    ...    ...    ...    ...    ...    ...    ...    ...   \n",
       "TTTGGTTGTCAGAATA-46    0.0    0.0    0.0    0.0    0.0    0.0    0.0    0.0   \n",
       "TTTGTCAAGAAAGTGG-46    0.0    0.0    0.0    0.0    0.0    0.0    0.0    0.0   \n",
       "TTTGTCACAGTATGCT-46    0.0    0.0    0.0    0.0    0.0    0.0    0.0    0.0   \n",
       "TTTGTCAGTTGATTGC-46    0.0    0.0    0.0    0.0    0.0    0.0    0.0    0.0   \n",
       "TTTGTCATCCCACTTG-46    0.0    0.0    0.0    0.0    0.0    0.0    0.0    0.0   \n",
       "\n",
       "cells                32905  32969  \n",
       "AAACCTGAGAGCCCAA-1     0.0    0.0  \n",
       "AAACCTGAGCTAGTCT-1     0.0    0.0  \n",
       "AAACCTGAGTTCGCGC-1     0.0    0.0  \n",
       "AAACCTGCAACACCCG-1     0.0    0.0  \n",
       "AAACCTGGTCAGTGGA-1     0.0    0.0  \n",
       "...                    ...    ...  \n",
       "TTTGGTTGTCAGAATA-46    0.0    0.0  \n",
       "TTTGTCAAGAAAGTGG-46    0.0    0.0  \n",
       "TTTGTCACAGTATGCT-46    0.0    0.0  \n",
       "TTTGTCAGTTGATTGC-46    0.0    0.0  \n",
       "TTTGTCATCCCACTTG-46    0.0    0.0  \n",
       "\n",
       "[176328 rows x 11283 columns]"
      ]
     },
     "execution_count": 51,
     "metadata": {},
     "output_type": "execute_result"
    }
   ],
   "source": [
    "pmat"
   ]
  },
  {
   "cell_type": "markdown",
   "metadata": {},
   "source": [
    "Add the matrix and calculate the probability from the matrix and store it at `p_mat`."
   ]
  },
  {
   "cell_type": "code",
   "execution_count": 52,
   "metadata": {},
   "outputs": [],
   "source": [
    "sc_adata.obsm['map2sp'] = pmat.values"
   ]
  },
  {
   "cell_type": "code",
   "execution_count": 54,
   "metadata": {},
   "outputs": [],
   "source": [
    "sc_adata.obsm['p_mat'] = sc_adata.obsm['map2sp'] / np.sum(sc_adata.obsm['map2sp'], axis=1).reshape((-1, 1))"
   ]
  },
  {
   "cell_type": "markdown",
   "metadata": {},
   "source": [
    "### Proximity analysis\n",
    "\n",
    "With the new colocalization matrix, perform the DeepCOLOR analysis as normal."
   ]
  },
  {
   "cell_type": "markdown",
   "metadata": {},
   "source": [
    "First load the ligand-target matrix of NicheNet. This matrix is taken from NicheNet v2 instead of DeepCOLOR's matrix."
   ]
  },
  {
   "cell_type": "code",
   "execution_count": null,
   "metadata": {},
   "outputs": [],
   "source": [
    "#! wget -O data/ligand_target_df.csv https://www.dropbox.com/s/2z7ogbks4504iya/ligand_target_df.csv?dl=0\n",
    "#lt_df = pd.read_csv('data/ligand_target_df.csv', index_col=0)\n",
    "lt_df = pd.read_csv('data/ligand_target_matrix.csv', index_col=0)"
   ]
  },
  {
   "cell_type": "markdown",
   "metadata": {},
   "source": [
    "Set KCs, LAM (MoMac1), and central vein and capsule macrophages (MoMac2) as receivers.\n",
    "\n",
    "The figure below show the full result."
   ]
  },
  {
   "cell_type": "code",
   "execution_count": null,
   "metadata": {},
   "outputs": [
    {
     "name": "stderr",
     "output_type": "stream",
     "text": [
      "c:\\Users\\yunseolp\\anaconda3\\envs\\test\\Lib\\site-packages\\deepcolor\\workflow.py:253: FutureWarning: The default of observed=False is deprecated and will be changed to True in a future version of pandas. Pass observed=False to retain current behavior or observed=True to adopt the future default and silence this warning.\n",
      "  sc_adata = sc_adata[sc_adata.obs.groupby(celltype_label).sample(celltype_sample_num, replace=True).index]\n",
      "c:\\Users\\yunseolp\\anaconda3\\envs\\test\\Lib\\site-packages\\anndata\\_core\\anndata.py:1818: UserWarning: Observation names are not unique. To make them unique, call `.obs_names_make_unique`.\n",
      "  utils.warn_names_duplicates(\"obs\")\n",
      "c:\\Users\\yunseolp\\anaconda3\\envs\\test\\Lib\\site-packages\\deepcolor\\workflow.py:277: ImplicitModificationWarning: Setting element `.layers['activity']` of view, initializing view as actual.\n",
      "  ligand_adata.layers['activity'] = make_top_values(top_exps @ lt_df)\n",
      "c:\\Users\\yunseolp\\anaconda3\\envs\\test\\Lib\\site-packages\\deepcolor\\workflow.py:247: FutureWarning: The default of observed=False is deprecated and will be changed to True in a future version of pandas. Pass observed=False to retain current behavior or observed=True to adopt the future default and silence this warning.\n",
      "  coexp_cc_df = coexp_df.groupby(['cell2_type', 'cell1_type']).sum()\n",
      "c:\\Users\\yunseolp\\anaconda3\\envs\\test\\Lib\\site-packages\\deepcolor\\workflow.py:281: FutureWarning: The default of observed=False is deprecated and will be changed to True in a future version of pandas. Pass observed=False to retain current behavior or observed=True to adopt the future default and silence this warning.\n",
      "  sub_coexp_cc_df = coexp_cc_df.sort_values('coactivity', ascending=False).groupby('cell2_type', as_index=False).head(n=each_display_num)\n"
     ]
    },
    {
     "data": {
      "application/vnd.plotly.v1+json": {
       "config": {
        "plotlyServerURL": "https://plot.ly"
       },
       "data": [
        {
         "link": {
          "label": [
           "MoMac2",
           "MoMac2",
           "MoMac2",
           "MoMac2",
           "MoMac2",
           "MoMac2",
           "KCs",
           "KCs",
           "KCs",
           "MoMac2",
           "KCs",
           "MoMac2",
           "MoMac2",
           "MoMac2",
           "MoMac2",
           "MoMac2",
           "MoMac1",
           "MoMac2",
           "MoMac2",
           "MoMac2",
           "MoMac2",
           "MoMac2",
           "KCs",
           "MoMac2",
           "MoMac2",
           "MoMac2",
           "MoMac1",
           "MoMac2",
           "MoMac2",
           "MoMac2",
           "MoMac2",
           "MoMac1",
           "MoMac1",
           "MoMac1",
           "MoMac1",
           "MoMac2",
           "MoMac2",
           "MoMac2",
           "MoMac1",
           "MoMac2",
           "MoMac2",
           "MoMac2",
           "MoMac1",
           "KCs",
           "MoMac1",
           "MoMac2",
           "MoMac2",
           "MoMac1",
           "MoMac2",
           "MoMac2",
           "KCs",
           "MoMac1",
           "MoMac1",
           "MoMac2",
           "MoMac2",
           "MoMac1",
           "MoMac2",
           "MoMac2",
           "MoMac2",
           "MoMac2",
           "MoMac2",
           "KCs",
           "MoMac1",
           "KCs",
           "MoMac2",
           "MoMac2",
           "MoMac2",
           "MoMac2",
           "MoMac2",
           "MoMac2",
           "MoMac2",
           "MoMac2",
           "KCs",
           "KCs",
           "MoMac2",
           "MoMac2",
           "MoMac2",
           "MoMac2",
           "T cells",
           "cDC2s",
           "Central Vein Endothelial cells",
           "Stellate cells_central",
           "VSMCs",
           "T cells",
           "Monocytes",
           "Stellate cells_central",
           "Stellate cells",
           "MoMac2",
           "MoMac2",
           "MoMac2",
           "MoMac2",
           "MoMac2",
           "MoMac2",
           "KCs",
           "KCs",
           "KCs",
           "MoMac2",
           "KCs",
           "MoMac2",
           "MoMac2",
           "MoMac2",
           "MoMac2",
           "MoMac2",
           "MoMac1",
           "MoMac2",
           "MoMac2",
           "MoMac2",
           "MoMac2",
           "MoMac2",
           "KCs",
           "MoMac2",
           "MoMac2",
           "MoMac2",
           "MoMac1",
           "MoMac2",
           "MoMac2",
           "MoMac2",
           "MoMac2",
           "MoMac1",
           "MoMac1",
           "MoMac1",
           "MoMac1",
           "MoMac2",
           "MoMac2",
           "MoMac2",
           "MoMac1",
           "MoMac2",
           "MoMac2",
           "MoMac2",
           "MoMac1",
           "KCs",
           "MoMac1",
           "MoMac2",
           "MoMac2",
           "MoMac1",
           "MoMac2",
           "MoMac2",
           "KCs",
           "MoMac1",
           "MoMac1",
           "MoMac2",
           "MoMac2",
           "MoMac1",
           "MoMac2",
           "MoMac2",
           "MoMac2",
           "MoMac2",
           "MoMac2",
           "KCs",
           "MoMac1",
           "KCs",
           "MoMac2",
           "MoMac2",
           "MoMac2",
           "MoMac2",
           "MoMac2",
           "MoMac2",
           "MoMac2",
           "MoMac2",
           "KCs",
           "KCs",
           "MoMac2",
           "MoMac2",
           "MoMac2",
           "MoMac2",
           "T cells",
           "cDC2s",
           "Central Vein Endothelial cells",
           "Stellate cells_central",
           "VSMCs",
           "T cells",
           "Monocytes",
           "Stellate cells_central",
           "Stellate cells"
          ],
          "source": [
           0,
           1,
           2,
           3,
           4,
           5,
           4,
           4,
           6,
           7,
           6,
           4,
           8,
           1,
           6,
           6,
           2,
           6,
           6,
           6,
           4,
           1,
           0,
           9,
           8,
           10,
           11,
           12,
           9,
           5,
           9,
           13,
           14,
           15,
           16,
           2,
           15,
           13,
           13,
           17,
           6,
           18,
           9,
           19,
           1,
           1,
           1,
           2,
           18,
           15,
           20,
           21,
           13,
           15,
           17,
           11,
           22,
           9,
           21,
           5,
           22,
           4,
           9,
           19,
           22,
           23,
           24,
           24,
           25,
           2,
           25,
           1,
           19,
           19,
           12,
           3,
           12,
           7,
           16,
           16,
           16,
           16,
           16,
           16,
           16,
           16,
           16,
           45,
           32,
           30,
           32,
           28,
           32,
           51,
           52,
           52,
           45,
           51,
           33,
           33,
           28,
           33,
           52,
           30,
           54,
           28,
           51,
           41,
           41,
           45,
           47,
           41,
           48,
           54,
           54,
           53,
           30,
           36,
           31,
           31,
           40,
           31,
           48,
           49,
           49,
           49,
           40,
           40,
           38,
           47,
           46,
           29,
           29,
           27,
           48,
           39,
           38,
           42,
           47,
           29,
           39,
           50,
           50,
           26,
           27,
           26,
           36,
           36,
           50,
           53,
           42,
           53,
           27,
           35,
           34,
           26,
           42,
           46,
           46,
           38,
           39,
           34,
           35,
           35,
           34,
           37,
           37,
           37,
           44,
           44,
           44,
           43,
           43,
           43
          ],
          "target": [
           44,
           44,
           44,
           44,
           44,
           44,
           37,
           37,
           37,
           44,
           37,
           44,
           44,
           44,
           44,
           44,
           43,
           44,
           44,
           44,
           44,
           44,
           37,
           44,
           44,
           44,
           43,
           44,
           44,
           44,
           44,
           43,
           43,
           43,
           43,
           44,
           44,
           44,
           43,
           44,
           44,
           44,
           43,
           37,
           43,
           44,
           44,
           43,
           44,
           44,
           37,
           43,
           43,
           44,
           44,
           43,
           44,
           44,
           44,
           44,
           44,
           37,
           43,
           37,
           44,
           44,
           44,
           44,
           44,
           44,
           44,
           44,
           37,
           37,
           44,
           44,
           44,
           44,
           53,
           30,
           31,
           51,
           54,
           53,
           45,
           51,
           50,
           0,
           1,
           2,
           3,
           4,
           5,
           4,
           4,
           6,
           7,
           6,
           4,
           8,
           1,
           6,
           6,
           2,
           6,
           6,
           6,
           4,
           1,
           0,
           9,
           8,
           10,
           11,
           12,
           9,
           5,
           9,
           13,
           14,
           15,
           16,
           2,
           15,
           13,
           13,
           17,
           6,
           18,
           9,
           19,
           1,
           1,
           1,
           2,
           18,
           15,
           20,
           21,
           13,
           15,
           17,
           11,
           22,
           9,
           21,
           5,
           22,
           4,
           9,
           19,
           22,
           23,
           24,
           24,
           25,
           2,
           25,
           1,
           19,
           19,
           12,
           3,
           12,
           7,
           16,
           16,
           16,
           16,
           16,
           16,
           16,
           16,
           16
          ],
          "value": [
           31899,
           31508,
           29173,
           29142,
           27774,
           26739,
           25965,
           20062,
           19584,
           18523,
           17271,
           17016,
           16761,
           16648,
           16590,
           16507,
           14798,
           14553,
           13790,
           12889,
           12250,
           11507,
           10184,
           8666,
           6495,
           6457,
           6419,
           6300,
           5742,
           4410,
           4397,
           4083,
           3634,
           3229,
           3209,
           3165,
           3134,
           3097,
           2999,
           2993,
           2963,
           2687,
           2595,
           2542,
           2525,
           2321,
           2296,
           2094,
           2057,
           2034,
           1900,
           1888,
           1798,
           1689,
           1646,
           1644,
           1641,
           1614,
           1472,
           1414,
           1331,
           1314,
           1247,
           1156,
           945,
           903,
           717,
           717,
           606,
           576,
           553,
           523,
           404,
           291,
           255,
           143,
           128,
           84,
           0,
           0,
           0,
           0,
           0,
           0,
           0,
           0,
           0,
           31899,
           31508,
           29173,
           29142,
           27774,
           26739,
           25965,
           20062,
           19584,
           18523,
           17271,
           17016,
           16761,
           16648,
           16590,
           16507,
           14798,
           14553,
           13790,
           12889,
           12250,
           11507,
           10184,
           8666,
           6495,
           6457,
           6419,
           6300,
           5742,
           4410,
           4397,
           4083,
           3634,
           3229,
           3209,
           3165,
           3134,
           3097,
           2999,
           2993,
           2963,
           2687,
           2595,
           2542,
           2525,
           2321,
           2296,
           2094,
           2057,
           2034,
           1900,
           1888,
           1798,
           1689,
           1646,
           1644,
           1641,
           1614,
           1472,
           1414,
           1331,
           1314,
           1247,
           1156,
           945,
           903,
           717,
           717,
           606,
           576,
           553,
           523,
           404,
           291,
           255,
           143,
           128,
           84,
           0,
           0,
           0,
           0,
           0,
           0,
           0,
           0,
           0
          ]
         },
         "node": {
          "label": [
           "F13a1",
           "Cd9",
           "Cd209a",
           "Spp1",
           "Dcn",
           "Epcam",
           "Igfbp3",
           "Fn1",
           "Ncam1",
           "Spn",
           "Siglech",
           "Nrxn1",
           "Cxcl12",
           "Vwf",
           "Wnt9b",
           "Pecam1",
           "Rspo3",
           "Reln",
           "Wnt2",
           "Sirpa",
           "Lpl",
           "Cd5l",
           "Timd4",
           "Hgf",
           "Gdf15",
           "Lilra5",
           "B cells",
           "Basophils",
           "Capsule fibroblasts",
           "cDC1s",
           "cDC2s",
           "Central Vein Endothelial cells",
           "Cholangiocytes",
           "Fibroblast",
           "Hepatocytes_central",
           "Hepatocytes_portal",
           "ILC1s",
           "KCs",
           "LSECs_central",
           "LSECs_portal",
           "Lymphatic Endothelial cells",
           "Mesothelial cells",
           "Mig. cDCs",
           "MoMac1",
           "MoMac2",
           "Monocytes",
           "Neutrophils",
           "NK cells",
           "pDCs",
           "Portain Vein Endothelial cells",
           "Stellate cells",
           "Stellate cells_central",
           "Stellate cells_portal",
           "T cells",
           "VSMCs"
          ]
         },
         "type": "sankey"
        }
       ],
       "layout": {
        "font": {
         "family": "Courier New"
        },
        "template": {
         "data": {
          "bar": [
           {
            "error_x": {
             "color": "#2a3f5f"
            },
            "error_y": {
             "color": "#2a3f5f"
            },
            "marker": {
             "line": {
              "color": "#E5ECF6",
              "width": 0.5
             },
             "pattern": {
              "fillmode": "overlay",
              "size": 10,
              "solidity": 0.2
             }
            },
            "type": "bar"
           }
          ],
          "barpolar": [
           {
            "marker": {
             "line": {
              "color": "#E5ECF6",
              "width": 0.5
             },
             "pattern": {
              "fillmode": "overlay",
              "size": 10,
              "solidity": 0.2
             }
            },
            "type": "barpolar"
           }
          ],
          "carpet": [
           {
            "aaxis": {
             "endlinecolor": "#2a3f5f",
             "gridcolor": "white",
             "linecolor": "white",
             "minorgridcolor": "white",
             "startlinecolor": "#2a3f5f"
            },
            "baxis": {
             "endlinecolor": "#2a3f5f",
             "gridcolor": "white",
             "linecolor": "white",
             "minorgridcolor": "white",
             "startlinecolor": "#2a3f5f"
            },
            "type": "carpet"
           }
          ],
          "choropleth": [
           {
            "colorbar": {
             "outlinewidth": 0,
             "ticks": ""
            },
            "type": "choropleth"
           }
          ],
          "contour": [
           {
            "colorbar": {
             "outlinewidth": 0,
             "ticks": ""
            },
            "colorscale": [
             [
              0,
              "#0d0887"
             ],
             [
              0.1111111111111111,
              "#46039f"
             ],
             [
              0.2222222222222222,
              "#7201a8"
             ],
             [
              0.3333333333333333,
              "#9c179e"
             ],
             [
              0.4444444444444444,
              "#bd3786"
             ],
             [
              0.5555555555555556,
              "#d8576b"
             ],
             [
              0.6666666666666666,
              "#ed7953"
             ],
             [
              0.7777777777777778,
              "#fb9f3a"
             ],
             [
              0.8888888888888888,
              "#fdca26"
             ],
             [
              1,
              "#f0f921"
             ]
            ],
            "type": "contour"
           }
          ],
          "contourcarpet": [
           {
            "colorbar": {
             "outlinewidth": 0,
             "ticks": ""
            },
            "type": "contourcarpet"
           }
          ],
          "heatmap": [
           {
            "colorbar": {
             "outlinewidth": 0,
             "ticks": ""
            },
            "colorscale": [
             [
              0,
              "#0d0887"
             ],
             [
              0.1111111111111111,
              "#46039f"
             ],
             [
              0.2222222222222222,
              "#7201a8"
             ],
             [
              0.3333333333333333,
              "#9c179e"
             ],
             [
              0.4444444444444444,
              "#bd3786"
             ],
             [
              0.5555555555555556,
              "#d8576b"
             ],
             [
              0.6666666666666666,
              "#ed7953"
             ],
             [
              0.7777777777777778,
              "#fb9f3a"
             ],
             [
              0.8888888888888888,
              "#fdca26"
             ],
             [
              1,
              "#f0f921"
             ]
            ],
            "type": "heatmap"
           }
          ],
          "heatmapgl": [
           {
            "colorbar": {
             "outlinewidth": 0,
             "ticks": ""
            },
            "colorscale": [
             [
              0,
              "#0d0887"
             ],
             [
              0.1111111111111111,
              "#46039f"
             ],
             [
              0.2222222222222222,
              "#7201a8"
             ],
             [
              0.3333333333333333,
              "#9c179e"
             ],
             [
              0.4444444444444444,
              "#bd3786"
             ],
             [
              0.5555555555555556,
              "#d8576b"
             ],
             [
              0.6666666666666666,
              "#ed7953"
             ],
             [
              0.7777777777777778,
              "#fb9f3a"
             ],
             [
              0.8888888888888888,
              "#fdca26"
             ],
             [
              1,
              "#f0f921"
             ]
            ],
            "type": "heatmapgl"
           }
          ],
          "histogram": [
           {
            "marker": {
             "pattern": {
              "fillmode": "overlay",
              "size": 10,
              "solidity": 0.2
             }
            },
            "type": "histogram"
           }
          ],
          "histogram2d": [
           {
            "colorbar": {
             "outlinewidth": 0,
             "ticks": ""
            },
            "colorscale": [
             [
              0,
              "#0d0887"
             ],
             [
              0.1111111111111111,
              "#46039f"
             ],
             [
              0.2222222222222222,
              "#7201a8"
             ],
             [
              0.3333333333333333,
              "#9c179e"
             ],
             [
              0.4444444444444444,
              "#bd3786"
             ],
             [
              0.5555555555555556,
              "#d8576b"
             ],
             [
              0.6666666666666666,
              "#ed7953"
             ],
             [
              0.7777777777777778,
              "#fb9f3a"
             ],
             [
              0.8888888888888888,
              "#fdca26"
             ],
             [
              1,
              "#f0f921"
             ]
            ],
            "type": "histogram2d"
           }
          ],
          "histogram2dcontour": [
           {
            "colorbar": {
             "outlinewidth": 0,
             "ticks": ""
            },
            "colorscale": [
             [
              0,
              "#0d0887"
             ],
             [
              0.1111111111111111,
              "#46039f"
             ],
             [
              0.2222222222222222,
              "#7201a8"
             ],
             [
              0.3333333333333333,
              "#9c179e"
             ],
             [
              0.4444444444444444,
              "#bd3786"
             ],
             [
              0.5555555555555556,
              "#d8576b"
             ],
             [
              0.6666666666666666,
              "#ed7953"
             ],
             [
              0.7777777777777778,
              "#fb9f3a"
             ],
             [
              0.8888888888888888,
              "#fdca26"
             ],
             [
              1,
              "#f0f921"
             ]
            ],
            "type": "histogram2dcontour"
           }
          ],
          "mesh3d": [
           {
            "colorbar": {
             "outlinewidth": 0,
             "ticks": ""
            },
            "type": "mesh3d"
           }
          ],
          "parcoords": [
           {
            "line": {
             "colorbar": {
              "outlinewidth": 0,
              "ticks": ""
             }
            },
            "type": "parcoords"
           }
          ],
          "pie": [
           {
            "automargin": true,
            "type": "pie"
           }
          ],
          "scatter": [
           {
            "fillpattern": {
             "fillmode": "overlay",
             "size": 10,
             "solidity": 0.2
            },
            "type": "scatter"
           }
          ],
          "scatter3d": [
           {
            "line": {
             "colorbar": {
              "outlinewidth": 0,
              "ticks": ""
             }
            },
            "marker": {
             "colorbar": {
              "outlinewidth": 0,
              "ticks": ""
             }
            },
            "type": "scatter3d"
           }
          ],
          "scattercarpet": [
           {
            "marker": {
             "colorbar": {
              "outlinewidth": 0,
              "ticks": ""
             }
            },
            "type": "scattercarpet"
           }
          ],
          "scattergeo": [
           {
            "marker": {
             "colorbar": {
              "outlinewidth": 0,
              "ticks": ""
             }
            },
            "type": "scattergeo"
           }
          ],
          "scattergl": [
           {
            "marker": {
             "colorbar": {
              "outlinewidth": 0,
              "ticks": ""
             }
            },
            "type": "scattergl"
           }
          ],
          "scattermapbox": [
           {
            "marker": {
             "colorbar": {
              "outlinewidth": 0,
              "ticks": ""
             }
            },
            "type": "scattermapbox"
           }
          ],
          "scatterpolar": [
           {
            "marker": {
             "colorbar": {
              "outlinewidth": 0,
              "ticks": ""
             }
            },
            "type": "scatterpolar"
           }
          ],
          "scatterpolargl": [
           {
            "marker": {
             "colorbar": {
              "outlinewidth": 0,
              "ticks": ""
             }
            },
            "type": "scatterpolargl"
           }
          ],
          "scatterternary": [
           {
            "marker": {
             "colorbar": {
              "outlinewidth": 0,
              "ticks": ""
             }
            },
            "type": "scatterternary"
           }
          ],
          "surface": [
           {
            "colorbar": {
             "outlinewidth": 0,
             "ticks": ""
            },
            "colorscale": [
             [
              0,
              "#0d0887"
             ],
             [
              0.1111111111111111,
              "#46039f"
             ],
             [
              0.2222222222222222,
              "#7201a8"
             ],
             [
              0.3333333333333333,
              "#9c179e"
             ],
             [
              0.4444444444444444,
              "#bd3786"
             ],
             [
              0.5555555555555556,
              "#d8576b"
             ],
             [
              0.6666666666666666,
              "#ed7953"
             ],
             [
              0.7777777777777778,
              "#fb9f3a"
             ],
             [
              0.8888888888888888,
              "#fdca26"
             ],
             [
              1,
              "#f0f921"
             ]
            ],
            "type": "surface"
           }
          ],
          "table": [
           {
            "cells": {
             "fill": {
              "color": "#EBF0F8"
             },
             "line": {
              "color": "white"
             }
            },
            "header": {
             "fill": {
              "color": "#C8D4E3"
             },
             "line": {
              "color": "white"
             }
            },
            "type": "table"
           }
          ]
         },
         "layout": {
          "annotationdefaults": {
           "arrowcolor": "#2a3f5f",
           "arrowhead": 0,
           "arrowwidth": 1
          },
          "autotypenumbers": "strict",
          "coloraxis": {
           "colorbar": {
            "outlinewidth": 0,
            "ticks": ""
           }
          },
          "colorscale": {
           "diverging": [
            [
             0,
             "#8e0152"
            ],
            [
             0.1,
             "#c51b7d"
            ],
            [
             0.2,
             "#de77ae"
            ],
            [
             0.3,
             "#f1b6da"
            ],
            [
             0.4,
             "#fde0ef"
            ],
            [
             0.5,
             "#f7f7f7"
            ],
            [
             0.6,
             "#e6f5d0"
            ],
            [
             0.7,
             "#b8e186"
            ],
            [
             0.8,
             "#7fbc41"
            ],
            [
             0.9,
             "#4d9221"
            ],
            [
             1,
             "#276419"
            ]
           ],
           "sequential": [
            [
             0,
             "#0d0887"
            ],
            [
             0.1111111111111111,
             "#46039f"
            ],
            [
             0.2222222222222222,
             "#7201a8"
            ],
            [
             0.3333333333333333,
             "#9c179e"
            ],
            [
             0.4444444444444444,
             "#bd3786"
            ],
            [
             0.5555555555555556,
             "#d8576b"
            ],
            [
             0.6666666666666666,
             "#ed7953"
            ],
            [
             0.7777777777777778,
             "#fb9f3a"
            ],
            [
             0.8888888888888888,
             "#fdca26"
            ],
            [
             1,
             "#f0f921"
            ]
           ],
           "sequentialminus": [
            [
             0,
             "#0d0887"
            ],
            [
             0.1111111111111111,
             "#46039f"
            ],
            [
             0.2222222222222222,
             "#7201a8"
            ],
            [
             0.3333333333333333,
             "#9c179e"
            ],
            [
             0.4444444444444444,
             "#bd3786"
            ],
            [
             0.5555555555555556,
             "#d8576b"
            ],
            [
             0.6666666666666666,
             "#ed7953"
            ],
            [
             0.7777777777777778,
             "#fb9f3a"
            ],
            [
             0.8888888888888888,
             "#fdca26"
            ],
            [
             1,
             "#f0f921"
            ]
           ]
          },
          "colorway": [
           "#636efa",
           "#EF553B",
           "#00cc96",
           "#ab63fa",
           "#FFA15A",
           "#19d3f3",
           "#FF6692",
           "#B6E880",
           "#FF97FF",
           "#FECB52"
          ],
          "font": {
           "color": "#2a3f5f"
          },
          "geo": {
           "bgcolor": "white",
           "lakecolor": "white",
           "landcolor": "#E5ECF6",
           "showlakes": true,
           "showland": true,
           "subunitcolor": "white"
          },
          "hoverlabel": {
           "align": "left"
          },
          "hovermode": "closest",
          "mapbox": {
           "style": "light"
          },
          "paper_bgcolor": "white",
          "plot_bgcolor": "#E5ECF6",
          "polar": {
           "angularaxis": {
            "gridcolor": "white",
            "linecolor": "white",
            "ticks": ""
           },
           "bgcolor": "#E5ECF6",
           "radialaxis": {
            "gridcolor": "white",
            "linecolor": "white",
            "ticks": ""
           }
          },
          "scene": {
           "xaxis": {
            "backgroundcolor": "#E5ECF6",
            "gridcolor": "white",
            "gridwidth": 2,
            "linecolor": "white",
            "showbackground": true,
            "ticks": "",
            "zerolinecolor": "white"
           },
           "yaxis": {
            "backgroundcolor": "#E5ECF6",
            "gridcolor": "white",
            "gridwidth": 2,
            "linecolor": "white",
            "showbackground": true,
            "ticks": "",
            "zerolinecolor": "white"
           },
           "zaxis": {
            "backgroundcolor": "#E5ECF6",
            "gridcolor": "white",
            "gridwidth": 2,
            "linecolor": "white",
            "showbackground": true,
            "ticks": "",
            "zerolinecolor": "white"
           }
          },
          "shapedefaults": {
           "line": {
            "color": "#2a3f5f"
           }
          },
          "ternary": {
           "aaxis": {
            "gridcolor": "white",
            "linecolor": "white",
            "ticks": ""
           },
           "baxis": {
            "gridcolor": "white",
            "linecolor": "white",
            "ticks": ""
           },
           "bgcolor": "#E5ECF6",
           "caxis": {
            "gridcolor": "white",
            "linecolor": "white",
            "ticks": ""
           }
          },
          "title": {
           "x": 0.05
          },
          "xaxis": {
           "automargin": true,
           "gridcolor": "white",
           "linecolor": "white",
           "ticks": "",
           "title": {
            "standoff": 15
           },
           "zerolinecolor": "white",
           "zerolinewidth": 2
          },
          "yaxis": {
           "automargin": true,
           "gridcolor": "white",
           "linecolor": "white",
           "ticks": "",
           "title": {
            "standoff": 15
           },
           "zerolinecolor": "white",
           "zerolinewidth": 2
          }
         }
        }
       }
      }
     },
     "metadata": {},
     "output_type": "display_data"
    }
   ],
   "source": [
    "importlib.reload(deepcolor)\n",
    "# KCs, MoMac1 & 2\n",
    "fig, coexp_cc_df = deepcolor.calculate_proximal_cell_communications(sc_adata, 'annot_fine_zonated', lt_df, [\"KCs\", 'MoMac1', 'MoMac2'], celltype_sample_num=500, ntop_genes=4000, each_display_num=3, role=\"receiver\", edge_thresh=1)\n",
    "fig"
   ]
  }
 ],
 "metadata": {
  "kernelspec": {
   "display_name": "deepcolor",
   "language": "python",
   "name": "python3"
  },
  "language_info": {
   "codemirror_mode": {
    "name": "ipython",
    "version": 3
   },
   "file_extension": ".py",
   "mimetype": "text/x-python",
   "name": "python",
   "nbconvert_exporter": "python",
   "pygments_lexer": "ipython3",
   "version": "3.12.4"
  }
 },
 "nbformat": 4,
 "nbformat_minor": 2
}
