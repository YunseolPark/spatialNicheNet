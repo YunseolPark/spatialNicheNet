{
 "cells": [
  {
   "cell_type": "markdown",
   "metadata": {},
   "source": [
    "# DeepCOLOR analysis with Resolve A1-1 data\n",
    "\n",
    "## Import libraries"
   ]
  },
  {
   "cell_type": "code",
   "execution_count": 2,
   "metadata": {},
   "outputs": [],
   "source": [
    "import torch\n",
    "import scanpy as sc\n",
    "import numpy as np\n",
    "import importlib\n",
    "from matplotlib import pyplot as plt\n",
    "import deepcolor\n",
    "np.random.seed(1)\n",
    "torch.manual_seed(1)\n",
    "import pandas as pd\n",
    "import plotly.graph_objects as go"
   ]
  },
  {
   "cell_type": "markdown",
   "metadata": {},
   "source": [
    "## Load data\n",
    "\n",
    "Load in the scRNA-seq data and the Resolve spatial data. To skip the preprocessing and training of the data, move straight to [here](#trained_data)"
   ]
  },
  {
   "cell_type": "code",
   "execution_count": 2,
   "metadata": {},
   "outputs": [],
   "source": [
    "sc_adata = sc.read_h5ad('data/liver_mouseStSt_guilliams2022_withZonation.h5ad')\n",
    "sp_adata = sc.read_h5ad('data/A1-1.h5ad')"
   ]
  },
  {
   "cell_type": "markdown",
   "metadata": {},
   "source": [
    "### Preprocessing\n",
    "\n",
    "Change the layer names for DeepCOLR and convert the type to float64."
   ]
  },
  {
   "cell_type": "code",
   "execution_count": null,
   "metadata": {},
   "outputs": [],
   "source": [
    "sp_adata.layers['count'] = sp_adata.layers.pop('raw_counts')\n",
    "sp_adata.layers['count'] = sp_adata.layers['count'].astype('float64')\n",
    "sc_adata.layers['count'] = sc_adata.layers.pop('counts')"
   ]
  },
  {
   "cell_type": "markdown",
   "metadata": {},
   "source": [
    "Calculate the log1p for the scRNA-seq data."
   ]
  },
  {
   "cell_type": "code",
   "execution_count": null,
   "metadata": {},
   "outputs": [],
   "source": [
    "sc.pp.log1p(sc_adata)"
   ]
  },
  {
   "cell_type": "markdown",
   "metadata": {},
   "source": [
    "#### Cell type annotations\n",
    "\n",
    "Intersect the cell type annotations.\n",
    "Begin by changing the annotation names of the spatial data to match the single cell."
   ]
  },
  {
   "cell_type": "code",
   "execution_count": null,
   "metadata": {},
   "outputs": [],
   "source": [
    "sub_mapper = {'Kupffer cells':\"KCs\", \"central_vein_EC45\":\"Central Vein Endothelial cells\",\"portal_vein_EC45\":\"Portain Vein Endothelial cells\",\"capsular_fibroblasts45\":\"Capsule fibroblasts\",\"HepatocytesCentral\":\"Hepatocytes_central\",\"HepatocytesPortal\":\"Hepatocytes_portal\",\"LSEC Portal\":\"LSECs_portal\",\"LSEC Central\":'LSECs_central','VSMC':'VSMCs','stellateAll':\"Stellate cells\",\"stellate PeriCentral\":\"Stellate cells_central\",\"stellate PeriPortal\":\"Stellate cells_portal\",\"FibroblastsCentral\": 'Fibroblast','fibroblastPortal':'Fibroblast',\"Portal LAM macrophages\":\"MoMac1\",\"Capsule and Central Vein Mac\":\"MoMac2\", 'LECs':'Lymphatic Endothelial cells'}\n",
    "mapper = {}\n",
    "for col in sp_adata.obs['annotationSave'].cat.categories:\n",
    "    if col not in sub_mapper:\n",
    "        mapper[col] = col\n",
    "    else:\n",
    "        mapper[col] = sub_mapper[col]\n",
    "sp_adata.obs['annotationSave'] = sp_adata.obs['annotationSave'].map(mapper).astype('category')"
   ]
  },
  {
   "cell_type": "markdown",
   "metadata": {},
   "source": [
    "Intersect the two cell type annotations categories and only take the cells that are annotated with these intersecting cell types."
   ]
  },
  {
   "cell_type": "code",
   "execution_count": null,
   "metadata": {},
   "outputs": [],
   "source": [
    "cells_keep = list(set(sc_adata.obs['annot_fine_zonated'].cat.categories) & set(sp_adata.obs['annotationSave'].cat.categories))"
   ]
  },
  {
   "cell_type": "code",
   "execution_count": null,
   "metadata": {},
   "outputs": [],
   "source": [
    "sc_adata = sc_adata[sc_adata.obs['annot_fine_zonated'].isin(cells_keep)]\n",
    "sp_adata = sp_adata[sp_adata.obs['annotationSave'].isin(cells_keep)]"
   ]
  },
  {
   "cell_type": "markdown",
   "metadata": {},
   "source": [
    "Remove any noise and only take genes that are expressed in both scRNA-seq and spatial data."
   ]
  },
  {
   "cell_type": "code",
   "execution_count": 160,
   "metadata": {},
   "outputs": [],
   "source": [
    "sc_adata = sc_adata[:, sc_adata.layers['count'].toarray().sum(axis=0) > 10]\n",
    "sp_adata = sp_adata[:, sp_adata.layers['count'].sum(axis=0) > 10]\n",
    "common_genes = np.intersect1d(sc_adata.var_names, sp_adata.var_names)\n",
    "sc_adata = sc_adata[:, common_genes]\n",
    "sp_adata = sp_adata[:, common_genes]"
   ]
  },
  {
   "cell_type": "markdown",
   "metadata": {},
   "source": [
    "## Estimate the spatial distribution\n",
    "\n",
    "Train the autoencoder with the data. The resultant scRNA-seq have `map2sp`, the probability of a cell in a spot, and `p_mat`, the colocalization matrix in `obsm`."
   ]
  },
  {
   "cell_type": "code",
   "execution_count": null,
   "metadata": {},
   "outputs": [
    {
     "name": "stdout",
     "output_type": "stream",
     "text": [
      "Loss: 82.7280044555664\n",
      "Start first opt\n",
      "loss at epoch 0 is 51.67353057861328\n",
      "loss at epoch 10 is 36.75598907470703\n",
      "loss at epoch 20 is 35.0432243347168\n",
      "loss at epoch 30 is 34.37825393676758\n",
      "loss at epoch 40 is 33.98917770385742\n",
      "loss at epoch 50 is 33.78602981567383\n",
      "loss at epoch 60 is 33.601844787597656\n",
      "loss at epoch 70 is 33.49480056762695\n",
      "loss at epoch 80 is 33.610107421875\n",
      "loss at epoch 90 is 33.515098571777344\n",
      "loss at epoch 100 is 33.39932632446289\n",
      "loss at epoch 110 is 33.35929870605469\n",
      "loss at epoch 120 is 33.369285583496094\n",
      "loss at epoch 130 is 33.288700103759766\n",
      "loss at epoch 140 is 33.251243591308594\n",
      "loss at epoch 150 is 33.25636291503906\n",
      "loss at epoch 160 is 33.246131896972656\n",
      "loss at epoch 170 is 33.286502838134766\n",
      "loss at epoch 180 is 33.2514533996582\n",
      "loss at epoch 190 is 33.22034454345703\n",
      "loss at epoch 200 is 33.16120147705078\n",
      "loss at epoch 210 is 33.223854064941406\n",
      "loss at epoch 220 is 33.24793243408203\n",
      "loss at epoch 230 is 33.216094970703125\n",
      "loss at epoch 240 is 33.19207000732422\n",
      "loss at epoch 250 is 33.21505355834961\n",
      "loss at epoch 260 is 33.0958137512207\n",
      "loss at epoch 270 is 33.17516326904297\n",
      "loss at epoch 280 is 33.181461334228516\n",
      "loss at epoch 290 is 33.17084884643555\n",
      "loss at epoch 300 is 33.16865158081055\n",
      "loss at epoch 310 is 33.19635772705078\n",
      "loss at epoch 320 is 33.07148742675781\n",
      "loss at epoch 330 is 33.16312789916992\n",
      "loss at epoch 340 is 33.10383987426758\n",
      "loss at epoch 350 is 33.077789306640625\n",
      "loss at epoch 360 is 33.13668441772461\n",
      "loss at epoch 370 is 33.06312561035156\n",
      "loss at epoch 380 is 33.15789031982422\n",
      "loss at epoch 390 is 33.07289123535156\n",
      "loss at epoch 400 is 33.207366943359375\n",
      "loss at epoch 410 is 33.10420227050781\n",
      "loss at epoch 420 is 33.065879821777344\n",
      "loss at epoch 430 is 33.0540885925293\n",
      "loss at epoch 440 is 33.011085510253906\n",
      "loss at epoch 450 is 33.01557922363281\n",
      "loss at epoch 460 is 33.016536712646484\n",
      "loss at epoch 470 is 33.022003173828125\n",
      "loss at epoch 480 is 33.039756774902344\n",
      "loss at epoch 490 is 33.01737976074219\n",
      "Done first opt\n",
      "Loss: 33.478477478027344\n",
      "Start second opt\n",
      "loss at epoch 0 is 658.0584716796875\n",
      "loss at epoch 10 is 383.21533203125\n",
      "loss at epoch 20 is 316.3589782714844\n",
      "loss at epoch 30 is 288.11456298828125\n",
      "loss at epoch 40 is 274.5470886230469\n",
      "loss at epoch 50 is 265.1536865234375\n",
      "loss at epoch 60 is 263.0618591308594\n",
      "loss at epoch 70 is 258.062744140625\n",
      "loss at epoch 80 is 257.2481994628906\n",
      "loss at epoch 90 is 256.30364990234375\n",
      "loss at epoch 100 is 255.0615234375\n",
      "loss at epoch 110 is 254.58726501464844\n",
      "loss at epoch 120 is 253.78256225585938\n",
      "loss at epoch 130 is 253.4773406982422\n",
      "loss at epoch 140 is 253.1669921875\n",
      "loss at epoch 150 is 252.69146728515625\n",
      "loss at epoch 160 is 252.9300537109375\n",
      "loss at epoch 170 is 252.34701538085938\n",
      "loss at epoch 180 is 254.12742614746094\n",
      "loss at epoch 190 is 251.6767578125\n",
      "loss at epoch 200 is 251.92718505859375\n",
      "loss at epoch 210 is 251.60105895996094\n",
      "loss at epoch 220 is 251.69168090820312\n",
      "loss at epoch 230 is 251.8875732421875\n",
      "loss at epoch 240 is 251.0325927734375\n",
      "loss at epoch 250 is 252.31338500976562\n",
      "loss at epoch 260 is 251.7340545654297\n",
      "loss at epoch 270 is 250.4095001220703\n",
      "loss at epoch 280 is 250.56581115722656\n",
      "loss at epoch 290 is 251.24354553222656\n",
      "loss at epoch 300 is 250.60714721679688\n",
      "loss at epoch 310 is 251.26296997070312\n",
      "loss at epoch 320 is 251.13461303710938\n",
      "loss at epoch 330 is 250.82827758789062\n",
      "loss at epoch 340 is 250.57386779785156\n",
      "loss at epoch 350 is 250.69642639160156\n",
      "loss at epoch 360 is 250.29725646972656\n",
      "loss at epoch 370 is 250.29920959472656\n",
      "loss at epoch 380 is 251.1710662841797\n",
      "loss at epoch 390 is 250.6337432861328\n",
      "loss at epoch 400 is 250.43734741210938\n",
      "loss at epoch 410 is 250.31483459472656\n",
      "loss at epoch 420 is 250.5831298828125\n",
      "loss at epoch 430 is 249.99374389648438\n",
      "loss at epoch 440 is 250.66139221191406\n",
      "loss at epoch 450 is 250.80955505371094\n",
      "loss at epoch 460 is 250.09593200683594\n",
      "loss at epoch 470 is 250.7827606201172\n",
      "loss at epoch 480 is 249.5210418701172\n",
      "loss at epoch 490 is 249.8816680908203\n",
      "Done second opt\n",
      "Loss: 249.37152099609375\n"
     ]
    }
   ],
   "source": [
    "importlib.reload(deepcolor)\n",
    "sc_adata, sp_adata = deepcolor.estimate_spatial_distribution(sc_adata, sp_adata, param_save_path='data/opt_params.pt', first_epoch=500, second_epoch=500, layer_name='count')"
   ]
  },
  {
   "cell_type": "markdown",
   "metadata": {},
   "source": [
    "## Read in the trained data\n",
    "\n",
    "<a id='trained_data'></a>\n",
    "\n",
    "Load the preprocessed and raw data instead of the raw data."
   ]
  },
  {
   "cell_type": "code",
   "execution_count": null,
   "metadata": {},
   "outputs": [],
   "source": [
    "# Run the below to save the trained data to a new file\n",
    "# sc_adata.write('data/deepcolor_mouseStSt.h5ad', compression='gzip')\n",
    "# sp_adata.write('data/deepcolor_A1-1.h5ad', compression='gzip')"
   ]
  },
  {
   "cell_type": "code",
   "execution_count": null,
   "metadata": {},
   "outputs": [],
   "source": [
    "# scRNA-seq trained data\n",
    "sc_adata = sc.read_h5ad('data/deepcolor_mouseStSt.h5ad')\n",
    "# Spatial trained data\n",
    "sp_adata = sc.read_h5ad('data/deepcolor_A1-1.h5ad')"
   ]
  },
  {
   "cell_type": "markdown",
   "metadata": {},
   "source": [
    "## Calculate proximal cell communications\n",
    "\n",
    "First load the ligand-target matrix of NicheNet. This matrix is taken from NicheNet v2 instead of DeepCOLOR's matrix."
   ]
  },
  {
   "cell_type": "code",
   "execution_count": null,
   "metadata": {},
   "outputs": [],
   "source": [
    "#! wget -O data/ligand_target_df.csv https://www.dropbox.com/s/2z7ogbks4504iya/ligand_target_df.csv?dl=0\n",
    "#lt_df = pd.read_csv('data/ligand_target_df.csv', index_col=0)\n",
    "lt_df = pd.read_csv('data/ligand_target_matrix.csv', index_col=0)"
   ]
  },
  {
   "cell_type": "markdown",
   "metadata": {},
   "source": [
    "Set KCs, LAM (MoMac1), and central vein and capsule macrophages (MoMac2) as receivers.\n",
    "\n",
    "The figure below show the full result."
   ]
  },
  {
   "cell_type": "code",
   "execution_count": null,
   "metadata": {},
   "outputs": [
    {
     "name": "stderr",
     "output_type": "stream",
     "text": [
      "c:\\Users\\yunseolp\\anaconda3\\envs\\test\\Lib\\site-packages\\deepcolor\\workflow.py:253: FutureWarning: The default of observed=False is deprecated and will be changed to True in a future version of pandas. Pass observed=False to retain current behavior or observed=True to adopt the future default and silence this warning.\n",
      "  sc_adata = sc_adata[sc_adata.obs.groupby(celltype_label).sample(celltype_sample_num, replace=True).index]\n",
      "c:\\Users\\yunseolp\\anaconda3\\envs\\test\\Lib\\site-packages\\anndata\\_core\\anndata.py:1818: UserWarning: Observation names are not unique. To make them unique, call `.obs_names_make_unique`.\n",
      "  utils.warn_names_duplicates(\"obs\")\n",
      "c:\\Users\\yunseolp\\anaconda3\\envs\\test\\Lib\\site-packages\\deepcolor\\workflow.py:277: ImplicitModificationWarning: Setting element `.layers['activity']` of view, initializing view as actual.\n",
      "  ligand_adata.layers['activity'] = make_top_values(top_exps @ lt_df)\n",
      "c:\\Users\\yunseolp\\anaconda3\\envs\\test\\Lib\\site-packages\\deepcolor\\workflow.py:247: FutureWarning: The default of observed=False is deprecated and will be changed to True in a future version of pandas. Pass observed=False to retain current behavior or observed=True to adopt the future default and silence this warning.\n",
      "  coexp_cc_df = coexp_df.groupby(['cell2_type', 'cell1_type']).sum()\n",
      "c:\\Users\\yunseolp\\anaconda3\\envs\\test\\Lib\\site-packages\\deepcolor\\workflow.py:281: FutureWarning: The default of observed=False is deprecated and will be changed to True in a future version of pandas. Pass observed=False to retain current behavior or observed=True to adopt the future default and silence this warning.\n",
      "  sub_coexp_cc_df = coexp_cc_df.sort_values('coactivity', ascending=False).groupby('cell2_type', as_index=False).head(n=each_display_num)\n"
     ]
    },
    {
     "data": {
      "application/vnd.plotly.v1+json": {
       "config": {
        "plotlyServerURL": "https://plot.ly"
       },
       "data": [
        {
         "link": {
          "label": [
           "MoMac2",
           "MoMac2",
           "MoMac2",
           "MoMac2",
           "MoMac2",
           "MoMac2",
           "KCs",
           "KCs",
           "KCs",
           "MoMac2",
           "KCs",
           "MoMac2",
           "MoMac2",
           "MoMac2",
           "MoMac2",
           "MoMac2",
           "MoMac1",
           "MoMac2",
           "MoMac2",
           "MoMac2",
           "MoMac2",
           "MoMac2",
           "KCs",
           "MoMac2",
           "MoMac2",
           "MoMac2",
           "MoMac1",
           "MoMac2",
           "MoMac2",
           "MoMac2",
           "MoMac2",
           "MoMac1",
           "MoMac1",
           "MoMac1",
           "MoMac1",
           "MoMac2",
           "MoMac2",
           "MoMac2",
           "MoMac1",
           "MoMac2",
           "MoMac2",
           "MoMac2",
           "MoMac1",
           "KCs",
           "MoMac1",
           "MoMac2",
           "MoMac2",
           "MoMac1",
           "MoMac2",
           "MoMac2",
           "KCs",
           "MoMac1",
           "MoMac1",
           "MoMac2",
           "MoMac2",
           "MoMac1",
           "MoMac2",
           "MoMac2",
           "MoMac2",
           "MoMac2",
           "MoMac2",
           "KCs",
           "MoMac1",
           "KCs",
           "MoMac2",
           "MoMac2",
           "MoMac2",
           "MoMac2",
           "MoMac2",
           "MoMac2",
           "MoMac2",
           "MoMac2",
           "KCs",
           "KCs",
           "MoMac2",
           "MoMac2",
           "MoMac2",
           "MoMac2",
           "T cells",
           "cDC2s",
           "Central Vein Endothelial cells",
           "Stellate cells_central",
           "VSMCs",
           "T cells",
           "Monocytes",
           "Stellate cells_central",
           "Stellate cells",
           "MoMac2",
           "MoMac2",
           "MoMac2",
           "MoMac2",
           "MoMac2",
           "MoMac2",
           "KCs",
           "KCs",
           "KCs",
           "MoMac2",
           "KCs",
           "MoMac2",
           "MoMac2",
           "MoMac2",
           "MoMac2",
           "MoMac2",
           "MoMac1",
           "MoMac2",
           "MoMac2",
           "MoMac2",
           "MoMac2",
           "MoMac2",
           "KCs",
           "MoMac2",
           "MoMac2",
           "MoMac2",
           "MoMac1",
           "MoMac2",
           "MoMac2",
           "MoMac2",
           "MoMac2",
           "MoMac1",
           "MoMac1",
           "MoMac1",
           "MoMac1",
           "MoMac2",
           "MoMac2",
           "MoMac2",
           "MoMac1",
           "MoMac2",
           "MoMac2",
           "MoMac2",
           "MoMac1",
           "KCs",
           "MoMac1",
           "MoMac2",
           "MoMac2",
           "MoMac1",
           "MoMac2",
           "MoMac2",
           "KCs",
           "MoMac1",
           "MoMac1",
           "MoMac2",
           "MoMac2",
           "MoMac1",
           "MoMac2",
           "MoMac2",
           "MoMac2",
           "MoMac2",
           "MoMac2",
           "KCs",
           "MoMac1",
           "KCs",
           "MoMac2",
           "MoMac2",
           "MoMac2",
           "MoMac2",
           "MoMac2",
           "MoMac2",
           "MoMac2",
           "MoMac2",
           "KCs",
           "KCs",
           "MoMac2",
           "MoMac2",
           "MoMac2",
           "MoMac2",
           "T cells",
           "cDC2s",
           "Central Vein Endothelial cells",
           "Stellate cells_central",
           "VSMCs",
           "T cells",
           "Monocytes",
           "Stellate cells_central",
           "Stellate cells"
          ],
          "source": [
           0,
           1,
           2,
           3,
           4,
           5,
           4,
           4,
           6,
           7,
           6,
           4,
           8,
           1,
           6,
           6,
           2,
           6,
           6,
           6,
           4,
           1,
           0,
           9,
           8,
           10,
           11,
           12,
           9,
           5,
           9,
           13,
           14,
           15,
           16,
           2,
           15,
           13,
           13,
           17,
           6,
           18,
           9,
           19,
           1,
           1,
           1,
           2,
           18,
           15,
           20,
           21,
           13,
           15,
           17,
           11,
           22,
           9,
           21,
           5,
           22,
           4,
           9,
           19,
           22,
           23,
           24,
           24,
           25,
           2,
           25,
           1,
           19,
           19,
           12,
           3,
           12,
           7,
           16,
           16,
           16,
           16,
           16,
           16,
           16,
           16,
           16,
           45,
           32,
           30,
           32,
           28,
           32,
           51,
           52,
           52,
           45,
           51,
           33,
           33,
           28,
           33,
           52,
           30,
           54,
           28,
           51,
           41,
           41,
           45,
           47,
           41,
           48,
           54,
           54,
           53,
           30,
           36,
           31,
           31,
           40,
           31,
           48,
           49,
           49,
           49,
           40,
           40,
           38,
           47,
           46,
           29,
           29,
           27,
           48,
           39,
           38,
           42,
           47,
           29,
           39,
           50,
           50,
           26,
           27,
           26,
           36,
           36,
           50,
           53,
           42,
           53,
           27,
           35,
           34,
           26,
           42,
           46,
           46,
           38,
           39,
           34,
           35,
           35,
           34,
           37,
           37,
           37,
           44,
           44,
           44,
           43,
           43,
           43
          ],
          "target": [
           44,
           44,
           44,
           44,
           44,
           44,
           37,
           37,
           37,
           44,
           37,
           44,
           44,
           44,
           44,
           44,
           43,
           44,
           44,
           44,
           44,
           44,
           37,
           44,
           44,
           44,
           43,
           44,
           44,
           44,
           44,
           43,
           43,
           43,
           43,
           44,
           44,
           44,
           43,
           44,
           44,
           44,
           43,
           37,
           43,
           44,
           44,
           43,
           44,
           44,
           37,
           43,
           43,
           44,
           44,
           43,
           44,
           44,
           44,
           44,
           44,
           37,
           43,
           37,
           44,
           44,
           44,
           44,
           44,
           44,
           44,
           44,
           37,
           37,
           44,
           44,
           44,
           44,
           53,
           30,
           31,
           51,
           54,
           53,
           45,
           51,
           50,
           0,
           1,
           2,
           3,
           4,
           5,
           4,
           4,
           6,
           7,
           6,
           4,
           8,
           1,
           6,
           6,
           2,
           6,
           6,
           6,
           4,
           1,
           0,
           9,
           8,
           10,
           11,
           12,
           9,
           5,
           9,
           13,
           14,
           15,
           16,
           2,
           15,
           13,
           13,
           17,
           6,
           18,
           9,
           19,
           1,
           1,
           1,
           2,
           18,
           15,
           20,
           21,
           13,
           15,
           17,
           11,
           22,
           9,
           21,
           5,
           22,
           4,
           9,
           19,
           22,
           23,
           24,
           24,
           25,
           2,
           25,
           1,
           19,
           19,
           12,
           3,
           12,
           7,
           16,
           16,
           16,
           16,
           16,
           16,
           16,
           16,
           16
          ],
          "value": [
           31899,
           31508,
           29173,
           29142,
           27774,
           26739,
           25965,
           20062,
           19584,
           18523,
           17271,
           17016,
           16761,
           16648,
           16590,
           16507,
           14798,
           14553,
           13790,
           12889,
           12250,
           11507,
           10184,
           8666,
           6495,
           6457,
           6419,
           6300,
           5742,
           4410,
           4397,
           4083,
           3634,
           3229,
           3209,
           3165,
           3134,
           3097,
           2999,
           2993,
           2963,
           2687,
           2595,
           2542,
           2525,
           2321,
           2296,
           2094,
           2057,
           2034,
           1900,
           1888,
           1798,
           1689,
           1646,
           1644,
           1641,
           1614,
           1472,
           1414,
           1331,
           1314,
           1247,
           1156,
           945,
           903,
           717,
           717,
           606,
           576,
           553,
           523,
           404,
           291,
           255,
           143,
           128,
           84,
           0,
           0,
           0,
           0,
           0,
           0,
           0,
           0,
           0,
           31899,
           31508,
           29173,
           29142,
           27774,
           26739,
           25965,
           20062,
           19584,
           18523,
           17271,
           17016,
           16761,
           16648,
           16590,
           16507,
           14798,
           14553,
           13790,
           12889,
           12250,
           11507,
           10184,
           8666,
           6495,
           6457,
           6419,
           6300,
           5742,
           4410,
           4397,
           4083,
           3634,
           3229,
           3209,
           3165,
           3134,
           3097,
           2999,
           2993,
           2963,
           2687,
           2595,
           2542,
           2525,
           2321,
           2296,
           2094,
           2057,
           2034,
           1900,
           1888,
           1798,
           1689,
           1646,
           1644,
           1641,
           1614,
           1472,
           1414,
           1331,
           1314,
           1247,
           1156,
           945,
           903,
           717,
           717,
           606,
           576,
           553,
           523,
           404,
           291,
           255,
           143,
           128,
           84,
           0,
           0,
           0,
           0,
           0,
           0,
           0,
           0,
           0
          ]
         },
         "node": {
          "label": [
           "F13a1",
           "Cd9",
           "Cd209a",
           "Spp1",
           "Dcn",
           "Epcam",
           "Igfbp3",
           "Fn1",
           "Ncam1",
           "Spn",
           "Siglech",
           "Nrxn1",
           "Cxcl12",
           "Vwf",
           "Wnt9b",
           "Pecam1",
           "Rspo3",
           "Reln",
           "Wnt2",
           "Sirpa",
           "Lpl",
           "Cd5l",
           "Timd4",
           "Hgf",
           "Gdf15",
           "Lilra5",
           "B cells",
           "Basophils",
           "Capsule fibroblasts",
           "cDC1s",
           "cDC2s",
           "Central Vein Endothelial cells",
           "Cholangiocytes",
           "Fibroblast",
           "Hepatocytes_central",
           "Hepatocytes_portal",
           "ILC1s",
           "KCs",
           "LSECs_central",
           "LSECs_portal",
           "Lymphatic Endothelial cells",
           "Mesothelial cells",
           "Mig. cDCs",
           "MoMac1",
           "MoMac2",
           "Monocytes",
           "Neutrophils",
           "NK cells",
           "pDCs",
           "Portain Vein Endothelial cells",
           "Stellate cells",
           "Stellate cells_central",
           "Stellate cells_portal",
           "T cells",
           "VSMCs"
          ]
         },
         "type": "sankey"
        }
       ],
       "layout": {
        "font": {
         "family": "Courier New"
        },
        "template": {
         "data": {
          "bar": [
           {
            "error_x": {
             "color": "#2a3f5f"
            },
            "error_y": {
             "color": "#2a3f5f"
            },
            "marker": {
             "line": {
              "color": "#E5ECF6",
              "width": 0.5
             },
             "pattern": {
              "fillmode": "overlay",
              "size": 10,
              "solidity": 0.2
             }
            },
            "type": "bar"
           }
          ],
          "barpolar": [
           {
            "marker": {
             "line": {
              "color": "#E5ECF6",
              "width": 0.5
             },
             "pattern": {
              "fillmode": "overlay",
              "size": 10,
              "solidity": 0.2
             }
            },
            "type": "barpolar"
           }
          ],
          "carpet": [
           {
            "aaxis": {
             "endlinecolor": "#2a3f5f",
             "gridcolor": "white",
             "linecolor": "white",
             "minorgridcolor": "white",
             "startlinecolor": "#2a3f5f"
            },
            "baxis": {
             "endlinecolor": "#2a3f5f",
             "gridcolor": "white",
             "linecolor": "white",
             "minorgridcolor": "white",
             "startlinecolor": "#2a3f5f"
            },
            "type": "carpet"
           }
          ],
          "choropleth": [
           {
            "colorbar": {
             "outlinewidth": 0,
             "ticks": ""
            },
            "type": "choropleth"
           }
          ],
          "contour": [
           {
            "colorbar": {
             "outlinewidth": 0,
             "ticks": ""
            },
            "colorscale": [
             [
              0,
              "#0d0887"
             ],
             [
              0.1111111111111111,
              "#46039f"
             ],
             [
              0.2222222222222222,
              "#7201a8"
             ],
             [
              0.3333333333333333,
              "#9c179e"
             ],
             [
              0.4444444444444444,
              "#bd3786"
             ],
             [
              0.5555555555555556,
              "#d8576b"
             ],
             [
              0.6666666666666666,
              "#ed7953"
             ],
             [
              0.7777777777777778,
              "#fb9f3a"
             ],
             [
              0.8888888888888888,
              "#fdca26"
             ],
             [
              1,
              "#f0f921"
             ]
            ],
            "type": "contour"
           }
          ],
          "contourcarpet": [
           {
            "colorbar": {
             "outlinewidth": 0,
             "ticks": ""
            },
            "type": "contourcarpet"
           }
          ],
          "heatmap": [
           {
            "colorbar": {
             "outlinewidth": 0,
             "ticks": ""
            },
            "colorscale": [
             [
              0,
              "#0d0887"
             ],
             [
              0.1111111111111111,
              "#46039f"
             ],
             [
              0.2222222222222222,
              "#7201a8"
             ],
             [
              0.3333333333333333,
              "#9c179e"
             ],
             [
              0.4444444444444444,
              "#bd3786"
             ],
             [
              0.5555555555555556,
              "#d8576b"
             ],
             [
              0.6666666666666666,
              "#ed7953"
             ],
             [
              0.7777777777777778,
              "#fb9f3a"
             ],
             [
              0.8888888888888888,
              "#fdca26"
             ],
             [
              1,
              "#f0f921"
             ]
            ],
            "type": "heatmap"
           }
          ],
          "heatmapgl": [
           {
            "colorbar": {
             "outlinewidth": 0,
             "ticks": ""
            },
            "colorscale": [
             [
              0,
              "#0d0887"
             ],
             [
              0.1111111111111111,
              "#46039f"
             ],
             [
              0.2222222222222222,
              "#7201a8"
             ],
             [
              0.3333333333333333,
              "#9c179e"
             ],
             [
              0.4444444444444444,
              "#bd3786"
             ],
             [
              0.5555555555555556,
              "#d8576b"
             ],
             [
              0.6666666666666666,
              "#ed7953"
             ],
             [
              0.7777777777777778,
              "#fb9f3a"
             ],
             [
              0.8888888888888888,
              "#fdca26"
             ],
             [
              1,
              "#f0f921"
             ]
            ],
            "type": "heatmapgl"
           }
          ],
          "histogram": [
           {
            "marker": {
             "pattern": {
              "fillmode": "overlay",
              "size": 10,
              "solidity": 0.2
             }
            },
            "type": "histogram"
           }
          ],
          "histogram2d": [
           {
            "colorbar": {
             "outlinewidth": 0,
             "ticks": ""
            },
            "colorscale": [
             [
              0,
              "#0d0887"
             ],
             [
              0.1111111111111111,
              "#46039f"
             ],
             [
              0.2222222222222222,
              "#7201a8"
             ],
             [
              0.3333333333333333,
              "#9c179e"
             ],
             [
              0.4444444444444444,
              "#bd3786"
             ],
             [
              0.5555555555555556,
              "#d8576b"
             ],
             [
              0.6666666666666666,
              "#ed7953"
             ],
             [
              0.7777777777777778,
              "#fb9f3a"
             ],
             [
              0.8888888888888888,
              "#fdca26"
             ],
             [
              1,
              "#f0f921"
             ]
            ],
            "type": "histogram2d"
           }
          ],
          "histogram2dcontour": [
           {
            "colorbar": {
             "outlinewidth": 0,
             "ticks": ""
            },
            "colorscale": [
             [
              0,
              "#0d0887"
             ],
             [
              0.1111111111111111,
              "#46039f"
             ],
             [
              0.2222222222222222,
              "#7201a8"
             ],
             [
              0.3333333333333333,
              "#9c179e"
             ],
             [
              0.4444444444444444,
              "#bd3786"
             ],
             [
              0.5555555555555556,
              "#d8576b"
             ],
             [
              0.6666666666666666,
              "#ed7953"
             ],
             [
              0.7777777777777778,
              "#fb9f3a"
             ],
             [
              0.8888888888888888,
              "#fdca26"
             ],
             [
              1,
              "#f0f921"
             ]
            ],
            "type": "histogram2dcontour"
           }
          ],
          "mesh3d": [
           {
            "colorbar": {
             "outlinewidth": 0,
             "ticks": ""
            },
            "type": "mesh3d"
           }
          ],
          "parcoords": [
           {
            "line": {
             "colorbar": {
              "outlinewidth": 0,
              "ticks": ""
             }
            },
            "type": "parcoords"
           }
          ],
          "pie": [
           {
            "automargin": true,
            "type": "pie"
           }
          ],
          "scatter": [
           {
            "fillpattern": {
             "fillmode": "overlay",
             "size": 10,
             "solidity": 0.2
            },
            "type": "scatter"
           }
          ],
          "scatter3d": [
           {
            "line": {
             "colorbar": {
              "outlinewidth": 0,
              "ticks": ""
             }
            },
            "marker": {
             "colorbar": {
              "outlinewidth": 0,
              "ticks": ""
             }
            },
            "type": "scatter3d"
           }
          ],
          "scattercarpet": [
           {
            "marker": {
             "colorbar": {
              "outlinewidth": 0,
              "ticks": ""
             }
            },
            "type": "scattercarpet"
           }
          ],
          "scattergeo": [
           {
            "marker": {
             "colorbar": {
              "outlinewidth": 0,
              "ticks": ""
             }
            },
            "type": "scattergeo"
           }
          ],
          "scattergl": [
           {
            "marker": {
             "colorbar": {
              "outlinewidth": 0,
              "ticks": ""
             }
            },
            "type": "scattergl"
           }
          ],
          "scattermapbox": [
           {
            "marker": {
             "colorbar": {
              "outlinewidth": 0,
              "ticks": ""
             }
            },
            "type": "scattermapbox"
           }
          ],
          "scatterpolar": [
           {
            "marker": {
             "colorbar": {
              "outlinewidth": 0,
              "ticks": ""
             }
            },
            "type": "scatterpolar"
           }
          ],
          "scatterpolargl": [
           {
            "marker": {
             "colorbar": {
              "outlinewidth": 0,
              "ticks": ""
             }
            },
            "type": "scatterpolargl"
           }
          ],
          "scatterternary": [
           {
            "marker": {
             "colorbar": {
              "outlinewidth": 0,
              "ticks": ""
             }
            },
            "type": "scatterternary"
           }
          ],
          "surface": [
           {
            "colorbar": {
             "outlinewidth": 0,
             "ticks": ""
            },
            "colorscale": [
             [
              0,
              "#0d0887"
             ],
             [
              0.1111111111111111,
              "#46039f"
             ],
             [
              0.2222222222222222,
              "#7201a8"
             ],
             [
              0.3333333333333333,
              "#9c179e"
             ],
             [
              0.4444444444444444,
              "#bd3786"
             ],
             [
              0.5555555555555556,
              "#d8576b"
             ],
             [
              0.6666666666666666,
              "#ed7953"
             ],
             [
              0.7777777777777778,
              "#fb9f3a"
             ],
             [
              0.8888888888888888,
              "#fdca26"
             ],
             [
              1,
              "#f0f921"
             ]
            ],
            "type": "surface"
           }
          ],
          "table": [
           {
            "cells": {
             "fill": {
              "color": "#EBF0F8"
             },
             "line": {
              "color": "white"
             }
            },
            "header": {
             "fill": {
              "color": "#C8D4E3"
             },
             "line": {
              "color": "white"
             }
            },
            "type": "table"
           }
          ]
         },
         "layout": {
          "annotationdefaults": {
           "arrowcolor": "#2a3f5f",
           "arrowhead": 0,
           "arrowwidth": 1
          },
          "autotypenumbers": "strict",
          "coloraxis": {
           "colorbar": {
            "outlinewidth": 0,
            "ticks": ""
           }
          },
          "colorscale": {
           "diverging": [
            [
             0,
             "#8e0152"
            ],
            [
             0.1,
             "#c51b7d"
            ],
            [
             0.2,
             "#de77ae"
            ],
            [
             0.3,
             "#f1b6da"
            ],
            [
             0.4,
             "#fde0ef"
            ],
            [
             0.5,
             "#f7f7f7"
            ],
            [
             0.6,
             "#e6f5d0"
            ],
            [
             0.7,
             "#b8e186"
            ],
            [
             0.8,
             "#7fbc41"
            ],
            [
             0.9,
             "#4d9221"
            ],
            [
             1,
             "#276419"
            ]
           ],
           "sequential": [
            [
             0,
             "#0d0887"
            ],
            [
             0.1111111111111111,
             "#46039f"
            ],
            [
             0.2222222222222222,
             "#7201a8"
            ],
            [
             0.3333333333333333,
             "#9c179e"
            ],
            [
             0.4444444444444444,
             "#bd3786"
            ],
            [
             0.5555555555555556,
             "#d8576b"
            ],
            [
             0.6666666666666666,
             "#ed7953"
            ],
            [
             0.7777777777777778,
             "#fb9f3a"
            ],
            [
             0.8888888888888888,
             "#fdca26"
            ],
            [
             1,
             "#f0f921"
            ]
           ],
           "sequentialminus": [
            [
             0,
             "#0d0887"
            ],
            [
             0.1111111111111111,
             "#46039f"
            ],
            [
             0.2222222222222222,
             "#7201a8"
            ],
            [
             0.3333333333333333,
             "#9c179e"
            ],
            [
             0.4444444444444444,
             "#bd3786"
            ],
            [
             0.5555555555555556,
             "#d8576b"
            ],
            [
             0.6666666666666666,
             "#ed7953"
            ],
            [
             0.7777777777777778,
             "#fb9f3a"
            ],
            [
             0.8888888888888888,
             "#fdca26"
            ],
            [
             1,
             "#f0f921"
            ]
           ]
          },
          "colorway": [
           "#636efa",
           "#EF553B",
           "#00cc96",
           "#ab63fa",
           "#FFA15A",
           "#19d3f3",
           "#FF6692",
           "#B6E880",
           "#FF97FF",
           "#FECB52"
          ],
          "font": {
           "color": "#2a3f5f"
          },
          "geo": {
           "bgcolor": "white",
           "lakecolor": "white",
           "landcolor": "#E5ECF6",
           "showlakes": true,
           "showland": true,
           "subunitcolor": "white"
          },
          "hoverlabel": {
           "align": "left"
          },
          "hovermode": "closest",
          "mapbox": {
           "style": "light"
          },
          "paper_bgcolor": "white",
          "plot_bgcolor": "#E5ECF6",
          "polar": {
           "angularaxis": {
            "gridcolor": "white",
            "linecolor": "white",
            "ticks": ""
           },
           "bgcolor": "#E5ECF6",
           "radialaxis": {
            "gridcolor": "white",
            "linecolor": "white",
            "ticks": ""
           }
          },
          "scene": {
           "xaxis": {
            "backgroundcolor": "#E5ECF6",
            "gridcolor": "white",
            "gridwidth": 2,
            "linecolor": "white",
            "showbackground": true,
            "ticks": "",
            "zerolinecolor": "white"
           },
           "yaxis": {
            "backgroundcolor": "#E5ECF6",
            "gridcolor": "white",
            "gridwidth": 2,
            "linecolor": "white",
            "showbackground": true,
            "ticks": "",
            "zerolinecolor": "white"
           },
           "zaxis": {
            "backgroundcolor": "#E5ECF6",
            "gridcolor": "white",
            "gridwidth": 2,
            "linecolor": "white",
            "showbackground": true,
            "ticks": "",
            "zerolinecolor": "white"
           }
          },
          "shapedefaults": {
           "line": {
            "color": "#2a3f5f"
           }
          },
          "ternary": {
           "aaxis": {
            "gridcolor": "white",
            "linecolor": "white",
            "ticks": ""
           },
           "baxis": {
            "gridcolor": "white",
            "linecolor": "white",
            "ticks": ""
           },
           "bgcolor": "#E5ECF6",
           "caxis": {
            "gridcolor": "white",
            "linecolor": "white",
            "ticks": ""
           }
          },
          "title": {
           "x": 0.05
          },
          "xaxis": {
           "automargin": true,
           "gridcolor": "white",
           "linecolor": "white",
           "ticks": "",
           "title": {
            "standoff": 15
           },
           "zerolinecolor": "white",
           "zerolinewidth": 2
          },
          "yaxis": {
           "automargin": true,
           "gridcolor": "white",
           "linecolor": "white",
           "ticks": "",
           "title": {
            "standoff": 15
           },
           "zerolinecolor": "white",
           "zerolinewidth": 2
          }
         }
        }
       }
      }
     },
     "metadata": {},
     "output_type": "display_data"
    }
   ],
   "source": [
    "importlib.reload(deepcolor)\n",
    "# KCs, MoMac1 & 2\n",
    "fig, coexp_cc_df = deepcolor.calculate_proximal_cell_communications(sc_adata, 'annot_fine_zonated', lt_df, [\"KCs\", 'MoMac1', 'MoMac2'], celltype_sample_num=500, ntop_genes=4000, each_display_num=3, role=\"receiver\", edge_thresh=1)\n",
    "fig"
   ]
  },
  {
   "cell_type": "markdown",
   "metadata": {},
   "source": [
    "### Save coexpression result\n",
    "\n",
    "Save the resultant dataframe to a csv file."
   ]
  },
  {
   "cell_type": "code",
   "execution_count": null,
   "metadata": {},
   "outputs": [],
   "source": [
    "coexp_cc_df.to_csv('result/final_coexp_500epochs.csv')"
   ]
  },
  {
   "cell_type": "markdown",
   "metadata": {},
   "source": [
    "Laod in the dataframe to only look at the final result."
   ]
  },
  {
   "cell_type": "code",
   "execution_count": 7,
   "metadata": {},
   "outputs": [],
   "source": [
    "coexp_cc_df = pd.read_csv('result/final_coexp_500epochs.csv', index_col=0)"
   ]
  },
  {
   "cell_type": "markdown",
   "metadata": {},
   "source": [
    "### DeepCOLOR colocalization result\n",
    "\n",
    "The full table (top 20 on coactivity score) is reported here."
   ]
  },
  {
   "cell_type": "code",
   "execution_count": 18,
   "metadata": {},
   "outputs": [
    {
     "data": {
      "text/html": [
       "<div>\n",
       "<style scoped>\n",
       "    .dataframe tbody tr th:only-of-type {\n",
       "        vertical-align: middle;\n",
       "    }\n",
       "\n",
       "    .dataframe tbody tr th {\n",
       "        vertical-align: top;\n",
       "    }\n",
       "\n",
       "    .dataframe thead th {\n",
       "        text-align: right;\n",
       "    }\n",
       "</style>\n",
       "<table border=\"1\" class=\"dataframe\">\n",
       "  <thead>\n",
       "    <tr style=\"text-align: right;\">\n",
       "      <th></th>\n",
       "      <th>cell1_type</th>\n",
       "      <th>cell2_type</th>\n",
       "      <th>ligand</th>\n",
       "      <th>coactivity</th>\n",
       "    </tr>\n",
       "  </thead>\n",
       "  <tbody>\n",
       "    <tr>\n",
       "      <th>134</th>\n",
       "      <td>MoMac2</td>\n",
       "      <td>cDC2s</td>\n",
       "      <td>Cd209a</td>\n",
       "      <td>36407</td>\n",
       "    </tr>\n",
       "    <tr>\n",
       "      <th>6456</th>\n",
       "      <td>MoMac2</td>\n",
       "      <td>Monocytes</td>\n",
       "      <td>F13a1</td>\n",
       "      <td>31980</td>\n",
       "    </tr>\n",
       "    <tr>\n",
       "      <th>2106</th>\n",
       "      <td>MoMac2</td>\n",
       "      <td>Lymphatic Endothelial cells</td>\n",
       "      <td>Cd9</td>\n",
       "      <td>29695</td>\n",
       "    </tr>\n",
       "    <tr>\n",
       "      <th>4281</th>\n",
       "      <td>MoMac2</td>\n",
       "      <td>Capsule fibroblasts</td>\n",
       "      <td>Dcn</td>\n",
       "      <td>27053</td>\n",
       "    </tr>\n",
       "    <tr>\n",
       "      <th>9994</th>\n",
       "      <td>MoMac2</td>\n",
       "      <td>Stellate cells_central</td>\n",
       "      <td>Igfbp3</td>\n",
       "      <td>25982</td>\n",
       "    </tr>\n",
       "    <tr>\n",
       "      <th>15881</th>\n",
       "      <td>MoMac2</td>\n",
       "      <td>Stellate cells_central</td>\n",
       "      <td>Reln</td>\n",
       "      <td>25939</td>\n",
       "    </tr>\n",
       "    <tr>\n",
       "      <th>4948</th>\n",
       "      <td>MoMac2</td>\n",
       "      <td>Stellate cells_central</td>\n",
       "      <td>Dcn</td>\n",
       "      <td>23655</td>\n",
       "    </tr>\n",
       "    <tr>\n",
       "      <th>4941</th>\n",
       "      <td>KCs</td>\n",
       "      <td>Stellate cells_central</td>\n",
       "      <td>Dcn</td>\n",
       "      <td>23577</td>\n",
       "    </tr>\n",
       "    <tr>\n",
       "      <th>4107</th>\n",
       "      <td>MoMac2</td>\n",
       "      <td>Stellate cells_central</td>\n",
       "      <td>Cxcl12</td>\n",
       "      <td>23162</td>\n",
       "    </tr>\n",
       "    <tr>\n",
       "      <th>10023</th>\n",
       "      <td>MoMac2</td>\n",
       "      <td>Stellate cells_portal</td>\n",
       "      <td>Igfbp3</td>\n",
       "      <td>22311</td>\n",
       "    </tr>\n",
       "    <tr>\n",
       "      <th>16722</th>\n",
       "      <td>MoMac2</td>\n",
       "      <td>Stellate cells_central</td>\n",
       "      <td>Rspo3</td>\n",
       "      <td>20650</td>\n",
       "    </tr>\n",
       "    <tr>\n",
       "      <th>22551</th>\n",
       "      <td>MoMac2</td>\n",
       "      <td>Portain Vein Endothelial cells</td>\n",
       "      <td>Vwf</td>\n",
       "      <td>20563</td>\n",
       "    </tr>\n",
       "    <tr>\n",
       "      <th>7297</th>\n",
       "      <td>MoMac2</td>\n",
       "      <td>Monocytes</td>\n",
       "      <td>Fn1</td>\n",
       "      <td>20045</td>\n",
       "    </tr>\n",
       "    <tr>\n",
       "      <th>20086</th>\n",
       "      <td>MoMac2</td>\n",
       "      <td>Stellate cells_central</td>\n",
       "      <td>Spon2</td>\n",
       "      <td>19579</td>\n",
       "    </tr>\n",
       "    <tr>\n",
       "      <th>6449</th>\n",
       "      <td>KCs</td>\n",
       "      <td>Monocytes</td>\n",
       "      <td>F13a1</td>\n",
       "      <td>19151</td>\n",
       "    </tr>\n",
       "    <tr>\n",
       "      <th>4970</th>\n",
       "      <td>KCs</td>\n",
       "      <td>Stellate cells_portal</td>\n",
       "      <td>Dcn</td>\n",
       "      <td>18874</td>\n",
       "    </tr>\n",
       "    <tr>\n",
       "      <th>1758</th>\n",
       "      <td>MoMac2</td>\n",
       "      <td>Capsule fibroblasts</td>\n",
       "      <td>Cd9</td>\n",
       "      <td>18746</td>\n",
       "    </tr>\n",
       "    <tr>\n",
       "      <th>12836</th>\n",
       "      <td>MoMac2</td>\n",
       "      <td>Fibroblast</td>\n",
       "      <td>Ncam1</td>\n",
       "      <td>18425</td>\n",
       "    </tr>\n",
       "    <tr>\n",
       "      <th>17476</th>\n",
       "      <td>MoMac2</td>\n",
       "      <td>pDCs</td>\n",
       "      <td>Siglech</td>\n",
       "      <td>18279</td>\n",
       "    </tr>\n",
       "    <tr>\n",
       "      <th>10016</th>\n",
       "      <td>KCs</td>\n",
       "      <td>Stellate cells_portal</td>\n",
       "      <td>Igfbp3</td>\n",
       "      <td>17496</td>\n",
       "    </tr>\n",
       "  </tbody>\n",
       "</table>\n",
       "</div>"
      ],
      "text/plain": [
       "      cell1_type                      cell2_type   ligand  coactivity\n",
       "134       MoMac2                           cDC2s   Cd209a       36407\n",
       "6456      MoMac2                       Monocytes    F13a1       31980\n",
       "2106      MoMac2     Lymphatic Endothelial cells      Cd9       29695\n",
       "4281      MoMac2             Capsule fibroblasts      Dcn       27053\n",
       "9994      MoMac2          Stellate cells_central   Igfbp3       25982\n",
       "15881     MoMac2          Stellate cells_central     Reln       25939\n",
       "4948      MoMac2          Stellate cells_central      Dcn       23655\n",
       "4941         KCs          Stellate cells_central      Dcn       23577\n",
       "4107      MoMac2          Stellate cells_central   Cxcl12       23162\n",
       "10023     MoMac2           Stellate cells_portal   Igfbp3       22311\n",
       "16722     MoMac2          Stellate cells_central    Rspo3       20650\n",
       "22551     MoMac2  Portain Vein Endothelial cells      Vwf       20563\n",
       "7297      MoMac2                       Monocytes      Fn1       20045\n",
       "20086     MoMac2          Stellate cells_central    Spon2       19579\n",
       "6449         KCs                       Monocytes    F13a1       19151\n",
       "4970         KCs           Stellate cells_portal      Dcn       18874\n",
       "1758      MoMac2             Capsule fibroblasts      Cd9       18746\n",
       "12836     MoMac2                      Fibroblast    Ncam1       18425\n",
       "17476     MoMac2                            pDCs  Siglech       18279\n",
       "10016        KCs           Stellate cells_portal   Igfbp3       17496"
      ]
     },
     "execution_count": 18,
     "metadata": {},
     "output_type": "execute_result"
    }
   ],
   "source": [
    "coexp_cc_df.sort_values('coactivity', ascending=False).head(20)"
   ]
  },
  {
   "cell_type": "markdown",
   "metadata": {},
   "source": [
    "The final result filtered for KCs is shown below. This is used for Table 3.5 in the dissertation."
   ]
  },
  {
   "cell_type": "code",
   "execution_count": 8,
   "metadata": {},
   "outputs": [
    {
     "data": {
      "text/html": [
       "<div>\n",
       "<style scoped>\n",
       "    .dataframe tbody tr th:only-of-type {\n",
       "        vertical-align: middle;\n",
       "    }\n",
       "\n",
       "    .dataframe tbody tr th {\n",
       "        vertical-align: top;\n",
       "    }\n",
       "\n",
       "    .dataframe thead th {\n",
       "        text-align: right;\n",
       "    }\n",
       "</style>\n",
       "<table border=\"1\" class=\"dataframe\">\n",
       "  <thead>\n",
       "    <tr style=\"text-align: right;\">\n",
       "      <th></th>\n",
       "      <th>cell1_type</th>\n",
       "      <th>cell2_type</th>\n",
       "      <th>ligand</th>\n",
       "      <th>coactivity</th>\n",
       "    </tr>\n",
       "  </thead>\n",
       "  <tbody>\n",
       "    <tr>\n",
       "      <th>4941</th>\n",
       "      <td>KCs</td>\n",
       "      <td>Stellate cells_central</td>\n",
       "      <td>Dcn</td>\n",
       "      <td>23577</td>\n",
       "    </tr>\n",
       "    <tr>\n",
       "      <th>6449</th>\n",
       "      <td>KCs</td>\n",
       "      <td>Monocytes</td>\n",
       "      <td>F13a1</td>\n",
       "      <td>19151</td>\n",
       "    </tr>\n",
       "    <tr>\n",
       "      <th>4970</th>\n",
       "      <td>KCs</td>\n",
       "      <td>Stellate cells_portal</td>\n",
       "      <td>Dcn</td>\n",
       "      <td>18874</td>\n",
       "    </tr>\n",
       "    <tr>\n",
       "      <th>10016</th>\n",
       "      <td>KCs</td>\n",
       "      <td>Stellate cells_portal</td>\n",
       "      <td>Igfbp3</td>\n",
       "      <td>17496</td>\n",
       "    </tr>\n",
       "    <tr>\n",
       "      <th>9987</th>\n",
       "      <td>KCs</td>\n",
       "      <td>Stellate cells_central</td>\n",
       "      <td>Igfbp3</td>\n",
       "      <td>15446</td>\n",
       "    </tr>\n",
       "    <tr>\n",
       "      <th>11669</th>\n",
       "      <td>KCs</td>\n",
       "      <td>Stellate cells_central</td>\n",
       "      <td>Lpl</td>\n",
       "      <td>6801</td>\n",
       "    </tr>\n",
       "    <tr>\n",
       "      <th>4100</th>\n",
       "      <td>KCs</td>\n",
       "      <td>Stellate cells_central</td>\n",
       "      <td>Cxcl12</td>\n",
       "      <td>4242</td>\n",
       "    </tr>\n",
       "    <tr>\n",
       "      <th>11698</th>\n",
       "      <td>KCs</td>\n",
       "      <td>Stellate cells_portal</td>\n",
       "      <td>Lpl</td>\n",
       "      <td>4147</td>\n",
       "    </tr>\n",
       "    <tr>\n",
       "      <th>4129</th>\n",
       "      <td>KCs</td>\n",
       "      <td>Stellate cells_portal</td>\n",
       "      <td>Cxcl12</td>\n",
       "      <td>3905</td>\n",
       "    </tr>\n",
       "    <tr>\n",
       "      <th>11495</th>\n",
       "      <td>KCs</td>\n",
       "      <td>Monocytes</td>\n",
       "      <td>Lpl</td>\n",
       "      <td>3310</td>\n",
       "    </tr>\n",
       "    <tr>\n",
       "      <th>18223</th>\n",
       "      <td>KCs</td>\n",
       "      <td>Monocytes</td>\n",
       "      <td>Sirpa</td>\n",
       "      <td>2728</td>\n",
       "    </tr>\n",
       "    <tr>\n",
       "      <th>9668</th>\n",
       "      <td>KCs</td>\n",
       "      <td>Lymphatic Endothelial cells</td>\n",
       "      <td>Igfbp3</td>\n",
       "      <td>2520</td>\n",
       "    </tr>\n",
       "    <tr>\n",
       "      <th>18252</th>\n",
       "      <td>KCs</td>\n",
       "      <td>Neutrophils</td>\n",
       "      <td>Sirpa</td>\n",
       "      <td>2420</td>\n",
       "    </tr>\n",
       "    <tr>\n",
       "      <th>4419</th>\n",
       "      <td>KCs</td>\n",
       "      <td>Fibroblast</td>\n",
       "      <td>Dcn</td>\n",
       "      <td>2235</td>\n",
       "    </tr>\n",
       "    <tr>\n",
       "      <th>9958</th>\n",
       "      <td>KCs</td>\n",
       "      <td>Stellate cells</td>\n",
       "      <td>Igfbp3</td>\n",
       "      <td>1994</td>\n",
       "    </tr>\n",
       "    <tr>\n",
       "      <th>11408</th>\n",
       "      <td>KCs</td>\n",
       "      <td>Mig. cDCs</td>\n",
       "      <td>Lpl</td>\n",
       "      <td>1573</td>\n",
       "    </tr>\n",
       "    <tr>\n",
       "      <th>17788</th>\n",
       "      <td>KCs</td>\n",
       "      <td>cDC2s</td>\n",
       "      <td>Sirpa</td>\n",
       "      <td>1438</td>\n",
       "    </tr>\n",
       "    <tr>\n",
       "      <th>9465</th>\n",
       "      <td>KCs</td>\n",
       "      <td>Fibroblast</td>\n",
       "      <td>Igfbp3</td>\n",
       "      <td>1435</td>\n",
       "    </tr>\n",
       "    <tr>\n",
       "      <th>6014</th>\n",
       "      <td>KCs</td>\n",
       "      <td>cDC2s</td>\n",
       "      <td>F13a1</td>\n",
       "      <td>1331</td>\n",
       "    </tr>\n",
       "    <tr>\n",
       "      <th>10074</th>\n",
       "      <td>KCs</td>\n",
       "      <td>VSMCs</td>\n",
       "      <td>Igfbp3</td>\n",
       "      <td>1149</td>\n",
       "    </tr>\n",
       "  </tbody>\n",
       "</table>\n",
       "</div>"
      ],
      "text/plain": [
       "      cell1_type                   cell2_type  ligand  coactivity\n",
       "4941         KCs       Stellate cells_central     Dcn       23577\n",
       "6449         KCs                    Monocytes   F13a1       19151\n",
       "4970         KCs        Stellate cells_portal     Dcn       18874\n",
       "10016        KCs        Stellate cells_portal  Igfbp3       17496\n",
       "9987         KCs       Stellate cells_central  Igfbp3       15446\n",
       "11669        KCs       Stellate cells_central     Lpl        6801\n",
       "4100         KCs       Stellate cells_central  Cxcl12        4242\n",
       "11698        KCs        Stellate cells_portal     Lpl        4147\n",
       "4129         KCs        Stellate cells_portal  Cxcl12        3905\n",
       "11495        KCs                    Monocytes     Lpl        3310\n",
       "18223        KCs                    Monocytes   Sirpa        2728\n",
       "9668         KCs  Lymphatic Endothelial cells  Igfbp3        2520\n",
       "18252        KCs                  Neutrophils   Sirpa        2420\n",
       "4419         KCs                   Fibroblast     Dcn        2235\n",
       "9958         KCs               Stellate cells  Igfbp3        1994\n",
       "11408        KCs                    Mig. cDCs     Lpl        1573\n",
       "17788        KCs                        cDC2s   Sirpa        1438\n",
       "9465         KCs                   Fibroblast  Igfbp3        1435\n",
       "6014         KCs                        cDC2s   F13a1        1331\n",
       "10074        KCs                        VSMCs  Igfbp3        1149"
      ]
     },
     "execution_count": 8,
     "metadata": {},
     "output_type": "execute_result"
    }
   ],
   "source": [
    "coexp_cc_df[(coexp_cc_df['cell1_type']=='KCs')&(coexp_cc_df['coactivity']>0)].sort_values('coactivity', ascending=False).head(20)"
   ]
  },
  {
   "cell_type": "markdown",
   "metadata": {},
   "source": [
    "#### Find the unique ligand-receptor pairs for KCs"
   ]
  },
  {
   "cell_type": "code",
   "execution_count": 10,
   "metadata": {},
   "outputs": [],
   "source": [
    "# Cell types and ligands for the two macrophages\n",
    "momac = coexp_cc_df[coexp_cc_df['cell1_type'].isin(['MoMac1','MoMac2'])&(coexp_cc_df['coactivity']>0)]"
   ]
  },
  {
   "cell_type": "code",
   "execution_count": 11,
   "metadata": {},
   "outputs": [
    {
     "name": "stderr",
     "output_type": "stream",
     "text": [
      "C:\\Users\\yunseolp\\AppData\\Local\\Temp\\ipykernel_15032\\3231749877.py:9: SettingWithCopyWarning: \n",
      "A value is trying to be set on a copy of a slice from a DataFrame\n",
      "\n",
      "See the caveats in the documentation: https://pandas.pydata.org/pandas-docs/stable/user_guide/indexing.html#returning-a-view-versus-a-copy\n",
      "  kc.drop(index, inplace=True)\n",
      "C:\\Users\\yunseolp\\AppData\\Local\\Temp\\ipykernel_15032\\3231749877.py:9: SettingWithCopyWarning: \n",
      "A value is trying to be set on a copy of a slice from a DataFrame\n",
      "\n",
      "See the caveats in the documentation: https://pandas.pydata.org/pandas-docs/stable/user_guide/indexing.html#returning-a-view-versus-a-copy\n",
      "  kc.drop(index, inplace=True)\n",
      "C:\\Users\\yunseolp\\AppData\\Local\\Temp\\ipykernel_15032\\3231749877.py:9: SettingWithCopyWarning: \n",
      "A value is trying to be set on a copy of a slice from a DataFrame\n",
      "\n",
      "See the caveats in the documentation: https://pandas.pydata.org/pandas-docs/stable/user_guide/indexing.html#returning-a-view-versus-a-copy\n",
      "  kc.drop(index, inplace=True)\n",
      "C:\\Users\\yunseolp\\AppData\\Local\\Temp\\ipykernel_15032\\3231749877.py:9: SettingWithCopyWarning: \n",
      "A value is trying to be set on a copy of a slice from a DataFrame\n",
      "\n",
      "See the caveats in the documentation: https://pandas.pydata.org/pandas-docs/stable/user_guide/indexing.html#returning-a-view-versus-a-copy\n",
      "  kc.drop(index, inplace=True)\n",
      "C:\\Users\\yunseolp\\AppData\\Local\\Temp\\ipykernel_15032\\3231749877.py:9: SettingWithCopyWarning: \n",
      "A value is trying to be set on a copy of a slice from a DataFrame\n",
      "\n",
      "See the caveats in the documentation: https://pandas.pydata.org/pandas-docs/stable/user_guide/indexing.html#returning-a-view-versus-a-copy\n",
      "  kc.drop(index, inplace=True)\n",
      "C:\\Users\\yunseolp\\AppData\\Local\\Temp\\ipykernel_15032\\3231749877.py:9: SettingWithCopyWarning: \n",
      "A value is trying to be set on a copy of a slice from a DataFrame\n",
      "\n",
      "See the caveats in the documentation: https://pandas.pydata.org/pandas-docs/stable/user_guide/indexing.html#returning-a-view-versus-a-copy\n",
      "  kc.drop(index, inplace=True)\n",
      "C:\\Users\\yunseolp\\AppData\\Local\\Temp\\ipykernel_15032\\3231749877.py:9: SettingWithCopyWarning: \n",
      "A value is trying to be set on a copy of a slice from a DataFrame\n",
      "\n",
      "See the caveats in the documentation: https://pandas.pydata.org/pandas-docs/stable/user_guide/indexing.html#returning-a-view-versus-a-copy\n",
      "  kc.drop(index, inplace=True)\n",
      "C:\\Users\\yunseolp\\AppData\\Local\\Temp\\ipykernel_15032\\3231749877.py:9: SettingWithCopyWarning: \n",
      "A value is trying to be set on a copy of a slice from a DataFrame\n",
      "\n",
      "See the caveats in the documentation: https://pandas.pydata.org/pandas-docs/stable/user_guide/indexing.html#returning-a-view-versus-a-copy\n",
      "  kc.drop(index, inplace=True)\n",
      "C:\\Users\\yunseolp\\AppData\\Local\\Temp\\ipykernel_15032\\3231749877.py:9: SettingWithCopyWarning: \n",
      "A value is trying to be set on a copy of a slice from a DataFrame\n",
      "\n",
      "See the caveats in the documentation: https://pandas.pydata.org/pandas-docs/stable/user_guide/indexing.html#returning-a-view-versus-a-copy\n",
      "  kc.drop(index, inplace=True)\n",
      "C:\\Users\\yunseolp\\AppData\\Local\\Temp\\ipykernel_15032\\3231749877.py:9: SettingWithCopyWarning: \n",
      "A value is trying to be set on a copy of a slice from a DataFrame\n",
      "\n",
      "See the caveats in the documentation: https://pandas.pydata.org/pandas-docs/stable/user_guide/indexing.html#returning-a-view-versus-a-copy\n",
      "  kc.drop(index, inplace=True)\n",
      "C:\\Users\\yunseolp\\AppData\\Local\\Temp\\ipykernel_15032\\3231749877.py:9: SettingWithCopyWarning: \n",
      "A value is trying to be set on a copy of a slice from a DataFrame\n",
      "\n",
      "See the caveats in the documentation: https://pandas.pydata.org/pandas-docs/stable/user_guide/indexing.html#returning-a-view-versus-a-copy\n",
      "  kc.drop(index, inplace=True)\n",
      "C:\\Users\\yunseolp\\AppData\\Local\\Temp\\ipykernel_15032\\3231749877.py:9: SettingWithCopyWarning: \n",
      "A value is trying to be set on a copy of a slice from a DataFrame\n",
      "\n",
      "See the caveats in the documentation: https://pandas.pydata.org/pandas-docs/stable/user_guide/indexing.html#returning-a-view-versus-a-copy\n",
      "  kc.drop(index, inplace=True)\n",
      "C:\\Users\\yunseolp\\AppData\\Local\\Temp\\ipykernel_15032\\3231749877.py:9: SettingWithCopyWarning: \n",
      "A value is trying to be set on a copy of a slice from a DataFrame\n",
      "\n",
      "See the caveats in the documentation: https://pandas.pydata.org/pandas-docs/stable/user_guide/indexing.html#returning-a-view-versus-a-copy\n",
      "  kc.drop(index, inplace=True)\n",
      "C:\\Users\\yunseolp\\AppData\\Local\\Temp\\ipykernel_15032\\3231749877.py:9: SettingWithCopyWarning: \n",
      "A value is trying to be set on a copy of a slice from a DataFrame\n",
      "\n",
      "See the caveats in the documentation: https://pandas.pydata.org/pandas-docs/stable/user_guide/indexing.html#returning-a-view-versus-a-copy\n",
      "  kc.drop(index, inplace=True)\n",
      "C:\\Users\\yunseolp\\AppData\\Local\\Temp\\ipykernel_15032\\3231749877.py:9: SettingWithCopyWarning: \n",
      "A value is trying to be set on a copy of a slice from a DataFrame\n",
      "\n",
      "See the caveats in the documentation: https://pandas.pydata.org/pandas-docs/stable/user_guide/indexing.html#returning-a-view-versus-a-copy\n",
      "  kc.drop(index, inplace=True)\n",
      "C:\\Users\\yunseolp\\AppData\\Local\\Temp\\ipykernel_15032\\3231749877.py:9: SettingWithCopyWarning: \n",
      "A value is trying to be set on a copy of a slice from a DataFrame\n",
      "\n",
      "See the caveats in the documentation: https://pandas.pydata.org/pandas-docs/stable/user_guide/indexing.html#returning-a-view-versus-a-copy\n",
      "  kc.drop(index, inplace=True)\n",
      "C:\\Users\\yunseolp\\AppData\\Local\\Temp\\ipykernel_15032\\3231749877.py:9: SettingWithCopyWarning: \n",
      "A value is trying to be set on a copy of a slice from a DataFrame\n",
      "\n",
      "See the caveats in the documentation: https://pandas.pydata.org/pandas-docs/stable/user_guide/indexing.html#returning-a-view-versus-a-copy\n",
      "  kc.drop(index, inplace=True)\n",
      "C:\\Users\\yunseolp\\AppData\\Local\\Temp\\ipykernel_15032\\3231749877.py:9: SettingWithCopyWarning: \n",
      "A value is trying to be set on a copy of a slice from a DataFrame\n",
      "\n",
      "See the caveats in the documentation: https://pandas.pydata.org/pandas-docs/stable/user_guide/indexing.html#returning-a-view-versus-a-copy\n",
      "  kc.drop(index, inplace=True)\n",
      "C:\\Users\\yunseolp\\AppData\\Local\\Temp\\ipykernel_15032\\3231749877.py:9: SettingWithCopyWarning: \n",
      "A value is trying to be set on a copy of a slice from a DataFrame\n",
      "\n",
      "See the caveats in the documentation: https://pandas.pydata.org/pandas-docs/stable/user_guide/indexing.html#returning-a-view-versus-a-copy\n",
      "  kc.drop(index, inplace=True)\n",
      "C:\\Users\\yunseolp\\AppData\\Local\\Temp\\ipykernel_15032\\3231749877.py:9: SettingWithCopyWarning: \n",
      "A value is trying to be set on a copy of a slice from a DataFrame\n",
      "\n",
      "See the caveats in the documentation: https://pandas.pydata.org/pandas-docs/stable/user_guide/indexing.html#returning-a-view-versus-a-copy\n",
      "  kc.drop(index, inplace=True)\n",
      "C:\\Users\\yunseolp\\AppData\\Local\\Temp\\ipykernel_15032\\3231749877.py:9: SettingWithCopyWarning: \n",
      "A value is trying to be set on a copy of a slice from a DataFrame\n",
      "\n",
      "See the caveats in the documentation: https://pandas.pydata.org/pandas-docs/stable/user_guide/indexing.html#returning-a-view-versus-a-copy\n",
      "  kc.drop(index, inplace=True)\n",
      "C:\\Users\\yunseolp\\AppData\\Local\\Temp\\ipykernel_15032\\3231749877.py:9: SettingWithCopyWarning: \n",
      "A value is trying to be set on a copy of a slice from a DataFrame\n",
      "\n",
      "See the caveats in the documentation: https://pandas.pydata.org/pandas-docs/stable/user_guide/indexing.html#returning-a-view-versus-a-copy\n",
      "  kc.drop(index, inplace=True)\n",
      "C:\\Users\\yunseolp\\AppData\\Local\\Temp\\ipykernel_15032\\3231749877.py:9: SettingWithCopyWarning: \n",
      "A value is trying to be set on a copy of a slice from a DataFrame\n",
      "\n",
      "See the caveats in the documentation: https://pandas.pydata.org/pandas-docs/stable/user_guide/indexing.html#returning-a-view-versus-a-copy\n",
      "  kc.drop(index, inplace=True)\n",
      "C:\\Users\\yunseolp\\AppData\\Local\\Temp\\ipykernel_15032\\3231749877.py:9: SettingWithCopyWarning: \n",
      "A value is trying to be set on a copy of a slice from a DataFrame\n",
      "\n",
      "See the caveats in the documentation: https://pandas.pydata.org/pandas-docs/stable/user_guide/indexing.html#returning-a-view-versus-a-copy\n",
      "  kc.drop(index, inplace=True)\n",
      "C:\\Users\\yunseolp\\AppData\\Local\\Temp\\ipykernel_15032\\3231749877.py:9: SettingWithCopyWarning: \n",
      "A value is trying to be set on a copy of a slice from a DataFrame\n",
      "\n",
      "See the caveats in the documentation: https://pandas.pydata.org/pandas-docs/stable/user_guide/indexing.html#returning-a-view-versus-a-copy\n",
      "  kc.drop(index, inplace=True)\n",
      "C:\\Users\\yunseolp\\AppData\\Local\\Temp\\ipykernel_15032\\3231749877.py:9: SettingWithCopyWarning: \n",
      "A value is trying to be set on a copy of a slice from a DataFrame\n",
      "\n",
      "See the caveats in the documentation: https://pandas.pydata.org/pandas-docs/stable/user_guide/indexing.html#returning-a-view-versus-a-copy\n",
      "  kc.drop(index, inplace=True)\n",
      "C:\\Users\\yunseolp\\AppData\\Local\\Temp\\ipykernel_15032\\3231749877.py:9: SettingWithCopyWarning: \n",
      "A value is trying to be set on a copy of a slice from a DataFrame\n",
      "\n",
      "See the caveats in the documentation: https://pandas.pydata.org/pandas-docs/stable/user_guide/indexing.html#returning-a-view-versus-a-copy\n",
      "  kc.drop(index, inplace=True)\n",
      "C:\\Users\\yunseolp\\AppData\\Local\\Temp\\ipykernel_15032\\3231749877.py:9: SettingWithCopyWarning: \n",
      "A value is trying to be set on a copy of a slice from a DataFrame\n",
      "\n",
      "See the caveats in the documentation: https://pandas.pydata.org/pandas-docs/stable/user_guide/indexing.html#returning-a-view-versus-a-copy\n",
      "  kc.drop(index, inplace=True)\n",
      "C:\\Users\\yunseolp\\AppData\\Local\\Temp\\ipykernel_15032\\3231749877.py:9: SettingWithCopyWarning: \n",
      "A value is trying to be set on a copy of a slice from a DataFrame\n",
      "\n",
      "See the caveats in the documentation: https://pandas.pydata.org/pandas-docs/stable/user_guide/indexing.html#returning-a-view-versus-a-copy\n",
      "  kc.drop(index, inplace=True)\n",
      "C:\\Users\\yunseolp\\AppData\\Local\\Temp\\ipykernel_15032\\3231749877.py:9: SettingWithCopyWarning: \n",
      "A value is trying to be set on a copy of a slice from a DataFrame\n",
      "\n",
      "See the caveats in the documentation: https://pandas.pydata.org/pandas-docs/stable/user_guide/indexing.html#returning-a-view-versus-a-copy\n",
      "  kc.drop(index, inplace=True)\n",
      "C:\\Users\\yunseolp\\AppData\\Local\\Temp\\ipykernel_15032\\3231749877.py:9: SettingWithCopyWarning: \n",
      "A value is trying to be set on a copy of a slice from a DataFrame\n",
      "\n",
      "See the caveats in the documentation: https://pandas.pydata.org/pandas-docs/stable/user_guide/indexing.html#returning-a-view-versus-a-copy\n",
      "  kc.drop(index, inplace=True)\n",
      "C:\\Users\\yunseolp\\AppData\\Local\\Temp\\ipykernel_15032\\3231749877.py:9: SettingWithCopyWarning: \n",
      "A value is trying to be set on a copy of a slice from a DataFrame\n",
      "\n",
      "See the caveats in the documentation: https://pandas.pydata.org/pandas-docs/stable/user_guide/indexing.html#returning-a-view-versus-a-copy\n",
      "  kc.drop(index, inplace=True)\n",
      "C:\\Users\\yunseolp\\AppData\\Local\\Temp\\ipykernel_15032\\3231749877.py:9: SettingWithCopyWarning: \n",
      "A value is trying to be set on a copy of a slice from a DataFrame\n",
      "\n",
      "See the caveats in the documentation: https://pandas.pydata.org/pandas-docs/stable/user_guide/indexing.html#returning-a-view-versus-a-copy\n",
      "  kc.drop(index, inplace=True)\n",
      "C:\\Users\\yunseolp\\AppData\\Local\\Temp\\ipykernel_15032\\3231749877.py:9: SettingWithCopyWarning: \n",
      "A value is trying to be set on a copy of a slice from a DataFrame\n",
      "\n",
      "See the caveats in the documentation: https://pandas.pydata.org/pandas-docs/stable/user_guide/indexing.html#returning-a-view-versus-a-copy\n",
      "  kc.drop(index, inplace=True)\n",
      "C:\\Users\\yunseolp\\AppData\\Local\\Temp\\ipykernel_15032\\3231749877.py:9: SettingWithCopyWarning: \n",
      "A value is trying to be set on a copy of a slice from a DataFrame\n",
      "\n",
      "See the caveats in the documentation: https://pandas.pydata.org/pandas-docs/stable/user_guide/indexing.html#returning-a-view-versus-a-copy\n",
      "  kc.drop(index, inplace=True)\n",
      "C:\\Users\\yunseolp\\AppData\\Local\\Temp\\ipykernel_15032\\3231749877.py:9: SettingWithCopyWarning: \n",
      "A value is trying to be set on a copy of a slice from a DataFrame\n",
      "\n",
      "See the caveats in the documentation: https://pandas.pydata.org/pandas-docs/stable/user_guide/indexing.html#returning-a-view-versus-a-copy\n",
      "  kc.drop(index, inplace=True)\n",
      "C:\\Users\\yunseolp\\AppData\\Local\\Temp\\ipykernel_15032\\3231749877.py:9: SettingWithCopyWarning: \n",
      "A value is trying to be set on a copy of a slice from a DataFrame\n",
      "\n",
      "See the caveats in the documentation: https://pandas.pydata.org/pandas-docs/stable/user_guide/indexing.html#returning-a-view-versus-a-copy\n",
      "  kc.drop(index, inplace=True)\n",
      "C:\\Users\\yunseolp\\AppData\\Local\\Temp\\ipykernel_15032\\3231749877.py:9: SettingWithCopyWarning: \n",
      "A value is trying to be set on a copy of a slice from a DataFrame\n",
      "\n",
      "See the caveats in the documentation: https://pandas.pydata.org/pandas-docs/stable/user_guide/indexing.html#returning-a-view-versus-a-copy\n",
      "  kc.drop(index, inplace=True)\n",
      "C:\\Users\\yunseolp\\AppData\\Local\\Temp\\ipykernel_15032\\3231749877.py:9: SettingWithCopyWarning: \n",
      "A value is trying to be set on a copy of a slice from a DataFrame\n",
      "\n",
      "See the caveats in the documentation: https://pandas.pydata.org/pandas-docs/stable/user_guide/indexing.html#returning-a-view-versus-a-copy\n",
      "  kc.drop(index, inplace=True)\n",
      "C:\\Users\\yunseolp\\AppData\\Local\\Temp\\ipykernel_15032\\3231749877.py:9: SettingWithCopyWarning: \n",
      "A value is trying to be set on a copy of a slice from a DataFrame\n",
      "\n",
      "See the caveats in the documentation: https://pandas.pydata.org/pandas-docs/stable/user_guide/indexing.html#returning-a-view-versus-a-copy\n",
      "  kc.drop(index, inplace=True)\n",
      "C:\\Users\\yunseolp\\AppData\\Local\\Temp\\ipykernel_15032\\3231749877.py:9: SettingWithCopyWarning: \n",
      "A value is trying to be set on a copy of a slice from a DataFrame\n",
      "\n",
      "See the caveats in the documentation: https://pandas.pydata.org/pandas-docs/stable/user_guide/indexing.html#returning-a-view-versus-a-copy\n",
      "  kc.drop(index, inplace=True)\n",
      "C:\\Users\\yunseolp\\AppData\\Local\\Temp\\ipykernel_15032\\3231749877.py:9: SettingWithCopyWarning: \n",
      "A value is trying to be set on a copy of a slice from a DataFrame\n",
      "\n",
      "See the caveats in the documentation: https://pandas.pydata.org/pandas-docs/stable/user_guide/indexing.html#returning-a-view-versus-a-copy\n",
      "  kc.drop(index, inplace=True)\n",
      "C:\\Users\\yunseolp\\AppData\\Local\\Temp\\ipykernel_15032\\3231749877.py:9: SettingWithCopyWarning: \n",
      "A value is trying to be set on a copy of a slice from a DataFrame\n",
      "\n",
      "See the caveats in the documentation: https://pandas.pydata.org/pandas-docs/stable/user_guide/indexing.html#returning-a-view-versus-a-copy\n",
      "  kc.drop(index, inplace=True)\n",
      "C:\\Users\\yunseolp\\AppData\\Local\\Temp\\ipykernel_15032\\3231749877.py:9: SettingWithCopyWarning: \n",
      "A value is trying to be set on a copy of a slice from a DataFrame\n",
      "\n",
      "See the caveats in the documentation: https://pandas.pydata.org/pandas-docs/stable/user_guide/indexing.html#returning-a-view-versus-a-copy\n",
      "  kc.drop(index, inplace=True)\n",
      "C:\\Users\\yunseolp\\AppData\\Local\\Temp\\ipykernel_15032\\3231749877.py:9: SettingWithCopyWarning: \n",
      "A value is trying to be set on a copy of a slice from a DataFrame\n",
      "\n",
      "See the caveats in the documentation: https://pandas.pydata.org/pandas-docs/stable/user_guide/indexing.html#returning-a-view-versus-a-copy\n",
      "  kc.drop(index, inplace=True)\n",
      "C:\\Users\\yunseolp\\AppData\\Local\\Temp\\ipykernel_15032\\3231749877.py:9: SettingWithCopyWarning: \n",
      "A value is trying to be set on a copy of a slice from a DataFrame\n",
      "\n",
      "See the caveats in the documentation: https://pandas.pydata.org/pandas-docs/stable/user_guide/indexing.html#returning-a-view-versus-a-copy\n",
      "  kc.drop(index, inplace=True)\n",
      "C:\\Users\\yunseolp\\AppData\\Local\\Temp\\ipykernel_15032\\3231749877.py:9: SettingWithCopyWarning: \n",
      "A value is trying to be set on a copy of a slice from a DataFrame\n",
      "\n",
      "See the caveats in the documentation: https://pandas.pydata.org/pandas-docs/stable/user_guide/indexing.html#returning-a-view-versus-a-copy\n",
      "  kc.drop(index, inplace=True)\n",
      "C:\\Users\\yunseolp\\AppData\\Local\\Temp\\ipykernel_15032\\3231749877.py:9: SettingWithCopyWarning: \n",
      "A value is trying to be set on a copy of a slice from a DataFrame\n",
      "\n",
      "See the caveats in the documentation: https://pandas.pydata.org/pandas-docs/stable/user_guide/indexing.html#returning-a-view-versus-a-copy\n",
      "  kc.drop(index, inplace=True)\n",
      "C:\\Users\\yunseolp\\AppData\\Local\\Temp\\ipykernel_15032\\3231749877.py:9: SettingWithCopyWarning: \n",
      "A value is trying to be set on a copy of a slice from a DataFrame\n",
      "\n",
      "See the caveats in the documentation: https://pandas.pydata.org/pandas-docs/stable/user_guide/indexing.html#returning-a-view-versus-a-copy\n",
      "  kc.drop(index, inplace=True)\n",
      "C:\\Users\\yunseolp\\AppData\\Local\\Temp\\ipykernel_15032\\3231749877.py:9: SettingWithCopyWarning: \n",
      "A value is trying to be set on a copy of a slice from a DataFrame\n",
      "\n",
      "See the caveats in the documentation: https://pandas.pydata.org/pandas-docs/stable/user_guide/indexing.html#returning-a-view-versus-a-copy\n",
      "  kc.drop(index, inplace=True)\n",
      "C:\\Users\\yunseolp\\AppData\\Local\\Temp\\ipykernel_15032\\3231749877.py:9: SettingWithCopyWarning: \n",
      "A value is trying to be set on a copy of a slice from a DataFrame\n",
      "\n",
      "See the caveats in the documentation: https://pandas.pydata.org/pandas-docs/stable/user_guide/indexing.html#returning-a-view-versus-a-copy\n",
      "  kc.drop(index, inplace=True)\n",
      "C:\\Users\\yunseolp\\AppData\\Local\\Temp\\ipykernel_15032\\3231749877.py:9: SettingWithCopyWarning: \n",
      "A value is trying to be set on a copy of a slice from a DataFrame\n",
      "\n",
      "See the caveats in the documentation: https://pandas.pydata.org/pandas-docs/stable/user_guide/indexing.html#returning-a-view-versus-a-copy\n",
      "  kc.drop(index, inplace=True)\n",
      "C:\\Users\\yunseolp\\AppData\\Local\\Temp\\ipykernel_15032\\3231749877.py:9: SettingWithCopyWarning: \n",
      "A value is trying to be set on a copy of a slice from a DataFrame\n",
      "\n",
      "See the caveats in the documentation: https://pandas.pydata.org/pandas-docs/stable/user_guide/indexing.html#returning-a-view-versus-a-copy\n",
      "  kc.drop(index, inplace=True)\n",
      "C:\\Users\\yunseolp\\AppData\\Local\\Temp\\ipykernel_15032\\3231749877.py:9: SettingWithCopyWarning: \n",
      "A value is trying to be set on a copy of a slice from a DataFrame\n",
      "\n",
      "See the caveats in the documentation: https://pandas.pydata.org/pandas-docs/stable/user_guide/indexing.html#returning-a-view-versus-a-copy\n",
      "  kc.drop(index, inplace=True)\n",
      "C:\\Users\\yunseolp\\AppData\\Local\\Temp\\ipykernel_15032\\3231749877.py:9: SettingWithCopyWarning: \n",
      "A value is trying to be set on a copy of a slice from a DataFrame\n",
      "\n",
      "See the caveats in the documentation: https://pandas.pydata.org/pandas-docs/stable/user_guide/indexing.html#returning-a-view-versus-a-copy\n",
      "  kc.drop(index, inplace=True)\n",
      "C:\\Users\\yunseolp\\AppData\\Local\\Temp\\ipykernel_15032\\3231749877.py:9: SettingWithCopyWarning: \n",
      "A value is trying to be set on a copy of a slice from a DataFrame\n",
      "\n",
      "See the caveats in the documentation: https://pandas.pydata.org/pandas-docs/stable/user_guide/indexing.html#returning-a-view-versus-a-copy\n",
      "  kc.drop(index, inplace=True)\n",
      "C:\\Users\\yunseolp\\AppData\\Local\\Temp\\ipykernel_15032\\3231749877.py:9: SettingWithCopyWarning: \n",
      "A value is trying to be set on a copy of a slice from a DataFrame\n",
      "\n",
      "See the caveats in the documentation: https://pandas.pydata.org/pandas-docs/stable/user_guide/indexing.html#returning-a-view-versus-a-copy\n",
      "  kc.drop(index, inplace=True)\n",
      "C:\\Users\\yunseolp\\AppData\\Local\\Temp\\ipykernel_15032\\3231749877.py:9: SettingWithCopyWarning: \n",
      "A value is trying to be set on a copy of a slice from a DataFrame\n",
      "\n",
      "See the caveats in the documentation: https://pandas.pydata.org/pandas-docs/stable/user_guide/indexing.html#returning-a-view-versus-a-copy\n",
      "  kc.drop(index, inplace=True)\n",
      "C:\\Users\\yunseolp\\AppData\\Local\\Temp\\ipykernel_15032\\3231749877.py:9: SettingWithCopyWarning: \n",
      "A value is trying to be set on a copy of a slice from a DataFrame\n",
      "\n",
      "See the caveats in the documentation: https://pandas.pydata.org/pandas-docs/stable/user_guide/indexing.html#returning-a-view-versus-a-copy\n",
      "  kc.drop(index, inplace=True)\n",
      "C:\\Users\\yunseolp\\AppData\\Local\\Temp\\ipykernel_15032\\3231749877.py:9: SettingWithCopyWarning: \n",
      "A value is trying to be set on a copy of a slice from a DataFrame\n",
      "\n",
      "See the caveats in the documentation: https://pandas.pydata.org/pandas-docs/stable/user_guide/indexing.html#returning-a-view-versus-a-copy\n",
      "  kc.drop(index, inplace=True)\n",
      "C:\\Users\\yunseolp\\AppData\\Local\\Temp\\ipykernel_15032\\3231749877.py:9: SettingWithCopyWarning: \n",
      "A value is trying to be set on a copy of a slice from a DataFrame\n",
      "\n",
      "See the caveats in the documentation: https://pandas.pydata.org/pandas-docs/stable/user_guide/indexing.html#returning-a-view-versus-a-copy\n",
      "  kc.drop(index, inplace=True)\n",
      "C:\\Users\\yunseolp\\AppData\\Local\\Temp\\ipykernel_15032\\3231749877.py:9: SettingWithCopyWarning: \n",
      "A value is trying to be set on a copy of a slice from a DataFrame\n",
      "\n",
      "See the caveats in the documentation: https://pandas.pydata.org/pandas-docs/stable/user_guide/indexing.html#returning-a-view-versus-a-copy\n",
      "  kc.drop(index, inplace=True)\n",
      "C:\\Users\\yunseolp\\AppData\\Local\\Temp\\ipykernel_15032\\3231749877.py:9: SettingWithCopyWarning: \n",
      "A value is trying to be set on a copy of a slice from a DataFrame\n",
      "\n",
      "See the caveats in the documentation: https://pandas.pydata.org/pandas-docs/stable/user_guide/indexing.html#returning-a-view-versus-a-copy\n",
      "  kc.drop(index, inplace=True)\n",
      "C:\\Users\\yunseolp\\AppData\\Local\\Temp\\ipykernel_15032\\3231749877.py:9: SettingWithCopyWarning: \n",
      "A value is trying to be set on a copy of a slice from a DataFrame\n",
      "\n",
      "See the caveats in the documentation: https://pandas.pydata.org/pandas-docs/stable/user_guide/indexing.html#returning-a-view-versus-a-copy\n",
      "  kc.drop(index, inplace=True)\n",
      "C:\\Users\\yunseolp\\AppData\\Local\\Temp\\ipykernel_15032\\3231749877.py:9: SettingWithCopyWarning: \n",
      "A value is trying to be set on a copy of a slice from a DataFrame\n",
      "\n",
      "See the caveats in the documentation: https://pandas.pydata.org/pandas-docs/stable/user_guide/indexing.html#returning-a-view-versus-a-copy\n",
      "  kc.drop(index, inplace=True)\n",
      "C:\\Users\\yunseolp\\AppData\\Local\\Temp\\ipykernel_15032\\3231749877.py:9: SettingWithCopyWarning: \n",
      "A value is trying to be set on a copy of a slice from a DataFrame\n",
      "\n",
      "See the caveats in the documentation: https://pandas.pydata.org/pandas-docs/stable/user_guide/indexing.html#returning-a-view-versus-a-copy\n",
      "  kc.drop(index, inplace=True)\n",
      "C:\\Users\\yunseolp\\AppData\\Local\\Temp\\ipykernel_15032\\3231749877.py:9: SettingWithCopyWarning: \n",
      "A value is trying to be set on a copy of a slice from a DataFrame\n",
      "\n",
      "See the caveats in the documentation: https://pandas.pydata.org/pandas-docs/stable/user_guide/indexing.html#returning-a-view-versus-a-copy\n",
      "  kc.drop(index, inplace=True)\n",
      "C:\\Users\\yunseolp\\AppData\\Local\\Temp\\ipykernel_15032\\3231749877.py:9: SettingWithCopyWarning: \n",
      "A value is trying to be set on a copy of a slice from a DataFrame\n",
      "\n",
      "See the caveats in the documentation: https://pandas.pydata.org/pandas-docs/stable/user_guide/indexing.html#returning-a-view-versus-a-copy\n",
      "  kc.drop(index, inplace=True)\n",
      "C:\\Users\\yunseolp\\AppData\\Local\\Temp\\ipykernel_15032\\3231749877.py:9: SettingWithCopyWarning: \n",
      "A value is trying to be set on a copy of a slice from a DataFrame\n",
      "\n",
      "See the caveats in the documentation: https://pandas.pydata.org/pandas-docs/stable/user_guide/indexing.html#returning-a-view-versus-a-copy\n",
      "  kc.drop(index, inplace=True)\n",
      "C:\\Users\\yunseolp\\AppData\\Local\\Temp\\ipykernel_15032\\3231749877.py:9: SettingWithCopyWarning: \n",
      "A value is trying to be set on a copy of a slice from a DataFrame\n",
      "\n",
      "See the caveats in the documentation: https://pandas.pydata.org/pandas-docs/stable/user_guide/indexing.html#returning-a-view-versus-a-copy\n",
      "  kc.drop(index, inplace=True)\n",
      "C:\\Users\\yunseolp\\AppData\\Local\\Temp\\ipykernel_15032\\3231749877.py:9: SettingWithCopyWarning: \n",
      "A value is trying to be set on a copy of a slice from a DataFrame\n",
      "\n",
      "See the caveats in the documentation: https://pandas.pydata.org/pandas-docs/stable/user_guide/indexing.html#returning-a-view-versus-a-copy\n",
      "  kc.drop(index, inplace=True)\n",
      "C:\\Users\\yunseolp\\AppData\\Local\\Temp\\ipykernel_15032\\3231749877.py:9: SettingWithCopyWarning: \n",
      "A value is trying to be set on a copy of a slice from a DataFrame\n",
      "\n",
      "See the caveats in the documentation: https://pandas.pydata.org/pandas-docs/stable/user_guide/indexing.html#returning-a-view-versus-a-copy\n",
      "  kc.drop(index, inplace=True)\n",
      "C:\\Users\\yunseolp\\AppData\\Local\\Temp\\ipykernel_15032\\3231749877.py:9: SettingWithCopyWarning: \n",
      "A value is trying to be set on a copy of a slice from a DataFrame\n",
      "\n",
      "See the caveats in the documentation: https://pandas.pydata.org/pandas-docs/stable/user_guide/indexing.html#returning-a-view-versus-a-copy\n",
      "  kc.drop(index, inplace=True)\n",
      "C:\\Users\\yunseolp\\AppData\\Local\\Temp\\ipykernel_15032\\3231749877.py:9: SettingWithCopyWarning: \n",
      "A value is trying to be set on a copy of a slice from a DataFrame\n",
      "\n",
      "See the caveats in the documentation: https://pandas.pydata.org/pandas-docs/stable/user_guide/indexing.html#returning-a-view-versus-a-copy\n",
      "  kc.drop(index, inplace=True)\n",
      "C:\\Users\\yunseolp\\AppData\\Local\\Temp\\ipykernel_15032\\3231749877.py:9: SettingWithCopyWarning: \n",
      "A value is trying to be set on a copy of a slice from a DataFrame\n",
      "\n",
      "See the caveats in the documentation: https://pandas.pydata.org/pandas-docs/stable/user_guide/indexing.html#returning-a-view-versus-a-copy\n",
      "  kc.drop(index, inplace=True)\n",
      "C:\\Users\\yunseolp\\AppData\\Local\\Temp\\ipykernel_15032\\3231749877.py:9: SettingWithCopyWarning: \n",
      "A value is trying to be set on a copy of a slice from a DataFrame\n",
      "\n",
      "See the caveats in the documentation: https://pandas.pydata.org/pandas-docs/stable/user_guide/indexing.html#returning-a-view-versus-a-copy\n",
      "  kc.drop(index, inplace=True)\n",
      "C:\\Users\\yunseolp\\AppData\\Local\\Temp\\ipykernel_15032\\3231749877.py:9: SettingWithCopyWarning: \n",
      "A value is trying to be set on a copy of a slice from a DataFrame\n",
      "\n",
      "See the caveats in the documentation: https://pandas.pydata.org/pandas-docs/stable/user_guide/indexing.html#returning-a-view-versus-a-copy\n",
      "  kc.drop(index, inplace=True)\n",
      "C:\\Users\\yunseolp\\AppData\\Local\\Temp\\ipykernel_15032\\3231749877.py:9: SettingWithCopyWarning: \n",
      "A value is trying to be set on a copy of a slice from a DataFrame\n",
      "\n",
      "See the caveats in the documentation: https://pandas.pydata.org/pandas-docs/stable/user_guide/indexing.html#returning-a-view-versus-a-copy\n",
      "  kc.drop(index, inplace=True)\n",
      "C:\\Users\\yunseolp\\AppData\\Local\\Temp\\ipykernel_15032\\3231749877.py:9: SettingWithCopyWarning: \n",
      "A value is trying to be set on a copy of a slice from a DataFrame\n",
      "\n",
      "See the caveats in the documentation: https://pandas.pydata.org/pandas-docs/stable/user_guide/indexing.html#returning-a-view-versus-a-copy\n",
      "  kc.drop(index, inplace=True)\n",
      "C:\\Users\\yunseolp\\AppData\\Local\\Temp\\ipykernel_15032\\3231749877.py:9: SettingWithCopyWarning: \n",
      "A value is trying to be set on a copy of a slice from a DataFrame\n",
      "\n",
      "See the caveats in the documentation: https://pandas.pydata.org/pandas-docs/stable/user_guide/indexing.html#returning-a-view-versus-a-copy\n",
      "  kc.drop(index, inplace=True)\n",
      "C:\\Users\\yunseolp\\AppData\\Local\\Temp\\ipykernel_15032\\3231749877.py:9: SettingWithCopyWarning: \n",
      "A value is trying to be set on a copy of a slice from a DataFrame\n",
      "\n",
      "See the caveats in the documentation: https://pandas.pydata.org/pandas-docs/stable/user_guide/indexing.html#returning-a-view-versus-a-copy\n",
      "  kc.drop(index, inplace=True)\n",
      "C:\\Users\\yunseolp\\AppData\\Local\\Temp\\ipykernel_15032\\3231749877.py:9: SettingWithCopyWarning: \n",
      "A value is trying to be set on a copy of a slice from a DataFrame\n",
      "\n",
      "See the caveats in the documentation: https://pandas.pydata.org/pandas-docs/stable/user_guide/indexing.html#returning-a-view-versus-a-copy\n",
      "  kc.drop(index, inplace=True)\n",
      "C:\\Users\\yunseolp\\AppData\\Local\\Temp\\ipykernel_15032\\3231749877.py:9: SettingWithCopyWarning: \n",
      "A value is trying to be set on a copy of a slice from a DataFrame\n",
      "\n",
      "See the caveats in the documentation: https://pandas.pydata.org/pandas-docs/stable/user_guide/indexing.html#returning-a-view-versus-a-copy\n",
      "  kc.drop(index, inplace=True)\n",
      "C:\\Users\\yunseolp\\AppData\\Local\\Temp\\ipykernel_15032\\3231749877.py:9: SettingWithCopyWarning: \n",
      "A value is trying to be set on a copy of a slice from a DataFrame\n",
      "\n",
      "See the caveats in the documentation: https://pandas.pydata.org/pandas-docs/stable/user_guide/indexing.html#returning-a-view-versus-a-copy\n",
      "  kc.drop(index, inplace=True)\n",
      "C:\\Users\\yunseolp\\AppData\\Local\\Temp\\ipykernel_15032\\3231749877.py:9: SettingWithCopyWarning: \n",
      "A value is trying to be set on a copy of a slice from a DataFrame\n",
      "\n",
      "See the caveats in the documentation: https://pandas.pydata.org/pandas-docs/stable/user_guide/indexing.html#returning-a-view-versus-a-copy\n",
      "  kc.drop(index, inplace=True)\n",
      "C:\\Users\\yunseolp\\AppData\\Local\\Temp\\ipykernel_15032\\3231749877.py:9: SettingWithCopyWarning: \n",
      "A value is trying to be set on a copy of a slice from a DataFrame\n",
      "\n",
      "See the caveats in the documentation: https://pandas.pydata.org/pandas-docs/stable/user_guide/indexing.html#returning-a-view-versus-a-copy\n",
      "  kc.drop(index, inplace=True)\n",
      "C:\\Users\\yunseolp\\AppData\\Local\\Temp\\ipykernel_15032\\3231749877.py:9: SettingWithCopyWarning: \n",
      "A value is trying to be set on a copy of a slice from a DataFrame\n",
      "\n",
      "See the caveats in the documentation: https://pandas.pydata.org/pandas-docs/stable/user_guide/indexing.html#returning-a-view-versus-a-copy\n",
      "  kc.drop(index, inplace=True)\n",
      "C:\\Users\\yunseolp\\AppData\\Local\\Temp\\ipykernel_15032\\3231749877.py:9: SettingWithCopyWarning: \n",
      "A value is trying to be set on a copy of a slice from a DataFrame\n",
      "\n",
      "See the caveats in the documentation: https://pandas.pydata.org/pandas-docs/stable/user_guide/indexing.html#returning-a-view-versus-a-copy\n",
      "  kc.drop(index, inplace=True)\n",
      "C:\\Users\\yunseolp\\AppData\\Local\\Temp\\ipykernel_15032\\3231749877.py:9: SettingWithCopyWarning: \n",
      "A value is trying to be set on a copy of a slice from a DataFrame\n",
      "\n",
      "See the caveats in the documentation: https://pandas.pydata.org/pandas-docs/stable/user_guide/indexing.html#returning-a-view-versus-a-copy\n",
      "  kc.drop(index, inplace=True)\n",
      "C:\\Users\\yunseolp\\AppData\\Local\\Temp\\ipykernel_15032\\3231749877.py:9: SettingWithCopyWarning: \n",
      "A value is trying to be set on a copy of a slice from a DataFrame\n",
      "\n",
      "See the caveats in the documentation: https://pandas.pydata.org/pandas-docs/stable/user_guide/indexing.html#returning-a-view-versus-a-copy\n",
      "  kc.drop(index, inplace=True)\n",
      "C:\\Users\\yunseolp\\AppData\\Local\\Temp\\ipykernel_15032\\3231749877.py:9: SettingWithCopyWarning: \n",
      "A value is trying to be set on a copy of a slice from a DataFrame\n",
      "\n",
      "See the caveats in the documentation: https://pandas.pydata.org/pandas-docs/stable/user_guide/indexing.html#returning-a-view-versus-a-copy\n",
      "  kc.drop(index, inplace=True)\n",
      "C:\\Users\\yunseolp\\AppData\\Local\\Temp\\ipykernel_15032\\3231749877.py:9: SettingWithCopyWarning: \n",
      "A value is trying to be set on a copy of a slice from a DataFrame\n",
      "\n",
      "See the caveats in the documentation: https://pandas.pydata.org/pandas-docs/stable/user_guide/indexing.html#returning-a-view-versus-a-copy\n",
      "  kc.drop(index, inplace=True)\n",
      "C:\\Users\\yunseolp\\AppData\\Local\\Temp\\ipykernel_15032\\3231749877.py:9: SettingWithCopyWarning: \n",
      "A value is trying to be set on a copy of a slice from a DataFrame\n",
      "\n",
      "See the caveats in the documentation: https://pandas.pydata.org/pandas-docs/stable/user_guide/indexing.html#returning-a-view-versus-a-copy\n",
      "  kc.drop(index, inplace=True)\n",
      "C:\\Users\\yunseolp\\AppData\\Local\\Temp\\ipykernel_15032\\3231749877.py:9: SettingWithCopyWarning: \n",
      "A value is trying to be set on a copy of a slice from a DataFrame\n",
      "\n",
      "See the caveats in the documentation: https://pandas.pydata.org/pandas-docs/stable/user_guide/indexing.html#returning-a-view-versus-a-copy\n",
      "  kc.drop(index, inplace=True)\n",
      "C:\\Users\\yunseolp\\AppData\\Local\\Temp\\ipykernel_15032\\3231749877.py:9: SettingWithCopyWarning: \n",
      "A value is trying to be set on a copy of a slice from a DataFrame\n",
      "\n",
      "See the caveats in the documentation: https://pandas.pydata.org/pandas-docs/stable/user_guide/indexing.html#returning-a-view-versus-a-copy\n",
      "  kc.drop(index, inplace=True)\n",
      "C:\\Users\\yunseolp\\AppData\\Local\\Temp\\ipykernel_15032\\3231749877.py:9: SettingWithCopyWarning: \n",
      "A value is trying to be set on a copy of a slice from a DataFrame\n",
      "\n",
      "See the caveats in the documentation: https://pandas.pydata.org/pandas-docs/stable/user_guide/indexing.html#returning-a-view-versus-a-copy\n",
      "  kc.drop(index, inplace=True)\n",
      "C:\\Users\\yunseolp\\AppData\\Local\\Temp\\ipykernel_15032\\3231749877.py:9: SettingWithCopyWarning: \n",
      "A value is trying to be set on a copy of a slice from a DataFrame\n",
      "\n",
      "See the caveats in the documentation: https://pandas.pydata.org/pandas-docs/stable/user_guide/indexing.html#returning-a-view-versus-a-copy\n",
      "  kc.drop(index, inplace=True)\n",
      "C:\\Users\\yunseolp\\AppData\\Local\\Temp\\ipykernel_15032\\3231749877.py:9: SettingWithCopyWarning: \n",
      "A value is trying to be set on a copy of a slice from a DataFrame\n",
      "\n",
      "See the caveats in the documentation: https://pandas.pydata.org/pandas-docs/stable/user_guide/indexing.html#returning-a-view-versus-a-copy\n",
      "  kc.drop(index, inplace=True)\n",
      "C:\\Users\\yunseolp\\AppData\\Local\\Temp\\ipykernel_15032\\3231749877.py:9: SettingWithCopyWarning: \n",
      "A value is trying to be set on a copy of a slice from a DataFrame\n",
      "\n",
      "See the caveats in the documentation: https://pandas.pydata.org/pandas-docs/stable/user_guide/indexing.html#returning-a-view-versus-a-copy\n",
      "  kc.drop(index, inplace=True)\n",
      "C:\\Users\\yunseolp\\AppData\\Local\\Temp\\ipykernel_15032\\3231749877.py:9: SettingWithCopyWarning: \n",
      "A value is trying to be set on a copy of a slice from a DataFrame\n",
      "\n",
      "See the caveats in the documentation: https://pandas.pydata.org/pandas-docs/stable/user_guide/indexing.html#returning-a-view-versus-a-copy\n",
      "  kc.drop(index, inplace=True)\n",
      "C:\\Users\\yunseolp\\AppData\\Local\\Temp\\ipykernel_15032\\3231749877.py:9: SettingWithCopyWarning: \n",
      "A value is trying to be set on a copy of a slice from a DataFrame\n",
      "\n",
      "See the caveats in the documentation: https://pandas.pydata.org/pandas-docs/stable/user_guide/indexing.html#returning-a-view-versus-a-copy\n",
      "  kc.drop(index, inplace=True)\n",
      "C:\\Users\\yunseolp\\AppData\\Local\\Temp\\ipykernel_15032\\3231749877.py:9: SettingWithCopyWarning: \n",
      "A value is trying to be set on a copy of a slice from a DataFrame\n",
      "\n",
      "See the caveats in the documentation: https://pandas.pydata.org/pandas-docs/stable/user_guide/indexing.html#returning-a-view-versus-a-copy\n",
      "  kc.drop(index, inplace=True)\n",
      "C:\\Users\\yunseolp\\AppData\\Local\\Temp\\ipykernel_15032\\3231749877.py:9: SettingWithCopyWarning: \n",
      "A value is trying to be set on a copy of a slice from a DataFrame\n",
      "\n",
      "See the caveats in the documentation: https://pandas.pydata.org/pandas-docs/stable/user_guide/indexing.html#returning-a-view-versus-a-copy\n",
      "  kc.drop(index, inplace=True)\n",
      "C:\\Users\\yunseolp\\AppData\\Local\\Temp\\ipykernel_15032\\3231749877.py:9: SettingWithCopyWarning: \n",
      "A value is trying to be set on a copy of a slice from a DataFrame\n",
      "\n",
      "See the caveats in the documentation: https://pandas.pydata.org/pandas-docs/stable/user_guide/indexing.html#returning-a-view-versus-a-copy\n",
      "  kc.drop(index, inplace=True)\n",
      "C:\\Users\\yunseolp\\AppData\\Local\\Temp\\ipykernel_15032\\3231749877.py:9: SettingWithCopyWarning: \n",
      "A value is trying to be set on a copy of a slice from a DataFrame\n",
      "\n",
      "See the caveats in the documentation: https://pandas.pydata.org/pandas-docs/stable/user_guide/indexing.html#returning-a-view-versus-a-copy\n",
      "  kc.drop(index, inplace=True)\n",
      "C:\\Users\\yunseolp\\AppData\\Local\\Temp\\ipykernel_15032\\3231749877.py:9: SettingWithCopyWarning: \n",
      "A value is trying to be set on a copy of a slice from a DataFrame\n",
      "\n",
      "See the caveats in the documentation: https://pandas.pydata.org/pandas-docs/stable/user_guide/indexing.html#returning-a-view-versus-a-copy\n",
      "  kc.drop(index, inplace=True)\n",
      "C:\\Users\\yunseolp\\AppData\\Local\\Temp\\ipykernel_15032\\3231749877.py:9: SettingWithCopyWarning: \n",
      "A value is trying to be set on a copy of a slice from a DataFrame\n",
      "\n",
      "See the caveats in the documentation: https://pandas.pydata.org/pandas-docs/stable/user_guide/indexing.html#returning-a-view-versus-a-copy\n",
      "  kc.drop(index, inplace=True)\n",
      "C:\\Users\\yunseolp\\AppData\\Local\\Temp\\ipykernel_15032\\3231749877.py:9: SettingWithCopyWarning: \n",
      "A value is trying to be set on a copy of a slice from a DataFrame\n",
      "\n",
      "See the caveats in the documentation: https://pandas.pydata.org/pandas-docs/stable/user_guide/indexing.html#returning-a-view-versus-a-copy\n",
      "  kc.drop(index, inplace=True)\n",
      "C:\\Users\\yunseolp\\AppData\\Local\\Temp\\ipykernel_15032\\3231749877.py:9: SettingWithCopyWarning: \n",
      "A value is trying to be set on a copy of a slice from a DataFrame\n",
      "\n",
      "See the caveats in the documentation: https://pandas.pydata.org/pandas-docs/stable/user_guide/indexing.html#returning-a-view-versus-a-copy\n",
      "  kc.drop(index, inplace=True)\n",
      "C:\\Users\\yunseolp\\AppData\\Local\\Temp\\ipykernel_15032\\3231749877.py:9: SettingWithCopyWarning: \n",
      "A value is trying to be set on a copy of a slice from a DataFrame\n",
      "\n",
      "See the caveats in the documentation: https://pandas.pydata.org/pandas-docs/stable/user_guide/indexing.html#returning-a-view-versus-a-copy\n",
      "  kc.drop(index, inplace=True)\n",
      "C:\\Users\\yunseolp\\AppData\\Local\\Temp\\ipykernel_15032\\3231749877.py:9: SettingWithCopyWarning: \n",
      "A value is trying to be set on a copy of a slice from a DataFrame\n",
      "\n",
      "See the caveats in the documentation: https://pandas.pydata.org/pandas-docs/stable/user_guide/indexing.html#returning-a-view-versus-a-copy\n",
      "  kc.drop(index, inplace=True)\n",
      "C:\\Users\\yunseolp\\AppData\\Local\\Temp\\ipykernel_15032\\3231749877.py:9: SettingWithCopyWarning: \n",
      "A value is trying to be set on a copy of a slice from a DataFrame\n",
      "\n",
      "See the caveats in the documentation: https://pandas.pydata.org/pandas-docs/stable/user_guide/indexing.html#returning-a-view-versus-a-copy\n",
      "  kc.drop(index, inplace=True)\n",
      "C:\\Users\\yunseolp\\AppData\\Local\\Temp\\ipykernel_15032\\3231749877.py:9: SettingWithCopyWarning: \n",
      "A value is trying to be set on a copy of a slice from a DataFrame\n",
      "\n",
      "See the caveats in the documentation: https://pandas.pydata.org/pandas-docs/stable/user_guide/indexing.html#returning-a-view-versus-a-copy\n",
      "  kc.drop(index, inplace=True)\n",
      "C:\\Users\\yunseolp\\AppData\\Local\\Temp\\ipykernel_15032\\3231749877.py:9: SettingWithCopyWarning: \n",
      "A value is trying to be set on a copy of a slice from a DataFrame\n",
      "\n",
      "See the caveats in the documentation: https://pandas.pydata.org/pandas-docs/stable/user_guide/indexing.html#returning-a-view-versus-a-copy\n",
      "  kc.drop(index, inplace=True)\n",
      "C:\\Users\\yunseolp\\AppData\\Local\\Temp\\ipykernel_15032\\3231749877.py:9: SettingWithCopyWarning: \n",
      "A value is trying to be set on a copy of a slice from a DataFrame\n",
      "\n",
      "See the caveats in the documentation: https://pandas.pydata.org/pandas-docs/stable/user_guide/indexing.html#returning-a-view-versus-a-copy\n",
      "  kc.drop(index, inplace=True)\n",
      "C:\\Users\\yunseolp\\AppData\\Local\\Temp\\ipykernel_15032\\3231749877.py:9: SettingWithCopyWarning: \n",
      "A value is trying to be set on a copy of a slice from a DataFrame\n",
      "\n",
      "See the caveats in the documentation: https://pandas.pydata.org/pandas-docs/stable/user_guide/indexing.html#returning-a-view-versus-a-copy\n",
      "  kc.drop(index, inplace=True)\n",
      "C:\\Users\\yunseolp\\AppData\\Local\\Temp\\ipykernel_15032\\3231749877.py:9: SettingWithCopyWarning: \n",
      "A value is trying to be set on a copy of a slice from a DataFrame\n",
      "\n",
      "See the caveats in the documentation: https://pandas.pydata.org/pandas-docs/stable/user_guide/indexing.html#returning-a-view-versus-a-copy\n",
      "  kc.drop(index, inplace=True)\n",
      "C:\\Users\\yunseolp\\AppData\\Local\\Temp\\ipykernel_15032\\3231749877.py:9: SettingWithCopyWarning: \n",
      "A value is trying to be set on a copy of a slice from a DataFrame\n",
      "\n",
      "See the caveats in the documentation: https://pandas.pydata.org/pandas-docs/stable/user_guide/indexing.html#returning-a-view-versus-a-copy\n",
      "  kc.drop(index, inplace=True)\n",
      "C:\\Users\\yunseolp\\AppData\\Local\\Temp\\ipykernel_15032\\3231749877.py:9: SettingWithCopyWarning: \n",
      "A value is trying to be set on a copy of a slice from a DataFrame\n",
      "\n",
      "See the caveats in the documentation: https://pandas.pydata.org/pandas-docs/stable/user_guide/indexing.html#returning-a-view-versus-a-copy\n",
      "  kc.drop(index, inplace=True)\n",
      "C:\\Users\\yunseolp\\AppData\\Local\\Temp\\ipykernel_15032\\3231749877.py:9: SettingWithCopyWarning: \n",
      "A value is trying to be set on a copy of a slice from a DataFrame\n",
      "\n",
      "See the caveats in the documentation: https://pandas.pydata.org/pandas-docs/stable/user_guide/indexing.html#returning-a-view-versus-a-copy\n",
      "  kc.drop(index, inplace=True)\n",
      "C:\\Users\\yunseolp\\AppData\\Local\\Temp\\ipykernel_15032\\3231749877.py:9: SettingWithCopyWarning: \n",
      "A value is trying to be set on a copy of a slice from a DataFrame\n",
      "\n",
      "See the caveats in the documentation: https://pandas.pydata.org/pandas-docs/stable/user_guide/indexing.html#returning-a-view-versus-a-copy\n",
      "  kc.drop(index, inplace=True)\n",
      "C:\\Users\\yunseolp\\AppData\\Local\\Temp\\ipykernel_15032\\3231749877.py:9: SettingWithCopyWarning: \n",
      "A value is trying to be set on a copy of a slice from a DataFrame\n",
      "\n",
      "See the caveats in the documentation: https://pandas.pydata.org/pandas-docs/stable/user_guide/indexing.html#returning-a-view-versus-a-copy\n",
      "  kc.drop(index, inplace=True)\n",
      "C:\\Users\\yunseolp\\AppData\\Local\\Temp\\ipykernel_15032\\3231749877.py:9: SettingWithCopyWarning: \n",
      "A value is trying to be set on a copy of a slice from a DataFrame\n",
      "\n",
      "See the caveats in the documentation: https://pandas.pydata.org/pandas-docs/stable/user_guide/indexing.html#returning-a-view-versus-a-copy\n",
      "  kc.drop(index, inplace=True)\n",
      "C:\\Users\\yunseolp\\AppData\\Local\\Temp\\ipykernel_15032\\3231749877.py:9: SettingWithCopyWarning: \n",
      "A value is trying to be set on a copy of a slice from a DataFrame\n",
      "\n",
      "See the caveats in the documentation: https://pandas.pydata.org/pandas-docs/stable/user_guide/indexing.html#returning-a-view-versus-a-copy\n",
      "  kc.drop(index, inplace=True)\n",
      "C:\\Users\\yunseolp\\AppData\\Local\\Temp\\ipykernel_15032\\3231749877.py:9: SettingWithCopyWarning: \n",
      "A value is trying to be set on a copy of a slice from a DataFrame\n",
      "\n",
      "See the caveats in the documentation: https://pandas.pydata.org/pandas-docs/stable/user_guide/indexing.html#returning-a-view-versus-a-copy\n",
      "  kc.drop(index, inplace=True)\n",
      "C:\\Users\\yunseolp\\AppData\\Local\\Temp\\ipykernel_15032\\3231749877.py:9: SettingWithCopyWarning: \n",
      "A value is trying to be set on a copy of a slice from a DataFrame\n",
      "\n",
      "See the caveats in the documentation: https://pandas.pydata.org/pandas-docs/stable/user_guide/indexing.html#returning-a-view-versus-a-copy\n",
      "  kc.drop(index, inplace=True)\n",
      "C:\\Users\\yunseolp\\AppData\\Local\\Temp\\ipykernel_15032\\3231749877.py:9: SettingWithCopyWarning: \n",
      "A value is trying to be set on a copy of a slice from a DataFrame\n",
      "\n",
      "See the caveats in the documentation: https://pandas.pydata.org/pandas-docs/stable/user_guide/indexing.html#returning-a-view-versus-a-copy\n",
      "  kc.drop(index, inplace=True)\n",
      "C:\\Users\\yunseolp\\AppData\\Local\\Temp\\ipykernel_15032\\3231749877.py:9: SettingWithCopyWarning: \n",
      "A value is trying to be set on a copy of a slice from a DataFrame\n",
      "\n",
      "See the caveats in the documentation: https://pandas.pydata.org/pandas-docs/stable/user_guide/indexing.html#returning-a-view-versus-a-copy\n",
      "  kc.drop(index, inplace=True)\n",
      "C:\\Users\\yunseolp\\AppData\\Local\\Temp\\ipykernel_15032\\3231749877.py:9: SettingWithCopyWarning: \n",
      "A value is trying to be set on a copy of a slice from a DataFrame\n",
      "\n",
      "See the caveats in the documentation: https://pandas.pydata.org/pandas-docs/stable/user_guide/indexing.html#returning-a-view-versus-a-copy\n",
      "  kc.drop(index, inplace=True)\n",
      "C:\\Users\\yunseolp\\AppData\\Local\\Temp\\ipykernel_15032\\3231749877.py:9: SettingWithCopyWarning: \n",
      "A value is trying to be set on a copy of a slice from a DataFrame\n",
      "\n",
      "See the caveats in the documentation: https://pandas.pydata.org/pandas-docs/stable/user_guide/indexing.html#returning-a-view-versus-a-copy\n",
      "  kc.drop(index, inplace=True)\n",
      "C:\\Users\\yunseolp\\AppData\\Local\\Temp\\ipykernel_15032\\3231749877.py:9: SettingWithCopyWarning: \n",
      "A value is trying to be set on a copy of a slice from a DataFrame\n",
      "\n",
      "See the caveats in the documentation: https://pandas.pydata.org/pandas-docs/stable/user_guide/indexing.html#returning-a-view-versus-a-copy\n",
      "  kc.drop(index, inplace=True)\n",
      "C:\\Users\\yunseolp\\AppData\\Local\\Temp\\ipykernel_15032\\3231749877.py:9: SettingWithCopyWarning: \n",
      "A value is trying to be set on a copy of a slice from a DataFrame\n",
      "\n",
      "See the caveats in the documentation: https://pandas.pydata.org/pandas-docs/stable/user_guide/indexing.html#returning-a-view-versus-a-copy\n",
      "  kc.drop(index, inplace=True)\n",
      "C:\\Users\\yunseolp\\AppData\\Local\\Temp\\ipykernel_15032\\3231749877.py:9: SettingWithCopyWarning: \n",
      "A value is trying to be set on a copy of a slice from a DataFrame\n",
      "\n",
      "See the caveats in the documentation: https://pandas.pydata.org/pandas-docs/stable/user_guide/indexing.html#returning-a-view-versus-a-copy\n",
      "  kc.drop(index, inplace=True)\n",
      "C:\\Users\\yunseolp\\AppData\\Local\\Temp\\ipykernel_15032\\3231749877.py:9: SettingWithCopyWarning: \n",
      "A value is trying to be set on a copy of a slice from a DataFrame\n",
      "\n",
      "See the caveats in the documentation: https://pandas.pydata.org/pandas-docs/stable/user_guide/indexing.html#returning-a-view-versus-a-copy\n",
      "  kc.drop(index, inplace=True)\n",
      "C:\\Users\\yunseolp\\AppData\\Local\\Temp\\ipykernel_15032\\3231749877.py:9: SettingWithCopyWarning: \n",
      "A value is trying to be set on a copy of a slice from a DataFrame\n",
      "\n",
      "See the caveats in the documentation: https://pandas.pydata.org/pandas-docs/stable/user_guide/indexing.html#returning-a-view-versus-a-copy\n",
      "  kc.drop(index, inplace=True)\n",
      "C:\\Users\\yunseolp\\AppData\\Local\\Temp\\ipykernel_15032\\3231749877.py:9: SettingWithCopyWarning: \n",
      "A value is trying to be set on a copy of a slice from a DataFrame\n",
      "\n",
      "See the caveats in the documentation: https://pandas.pydata.org/pandas-docs/stable/user_guide/indexing.html#returning-a-view-versus-a-copy\n",
      "  kc.drop(index, inplace=True)\n",
      "C:\\Users\\yunseolp\\AppData\\Local\\Temp\\ipykernel_15032\\3231749877.py:9: SettingWithCopyWarning: \n",
      "A value is trying to be set on a copy of a slice from a DataFrame\n",
      "\n",
      "See the caveats in the documentation: https://pandas.pydata.org/pandas-docs/stable/user_guide/indexing.html#returning-a-view-versus-a-copy\n",
      "  kc.drop(index, inplace=True)\n",
      "C:\\Users\\yunseolp\\AppData\\Local\\Temp\\ipykernel_15032\\3231749877.py:9: SettingWithCopyWarning: \n",
      "A value is trying to be set on a copy of a slice from a DataFrame\n",
      "\n",
      "See the caveats in the documentation: https://pandas.pydata.org/pandas-docs/stable/user_guide/indexing.html#returning-a-view-versus-a-copy\n",
      "  kc.drop(index, inplace=True)\n",
      "C:\\Users\\yunseolp\\AppData\\Local\\Temp\\ipykernel_15032\\3231749877.py:9: SettingWithCopyWarning: \n",
      "A value is trying to be set on a copy of a slice from a DataFrame\n",
      "\n",
      "See the caveats in the documentation: https://pandas.pydata.org/pandas-docs/stable/user_guide/indexing.html#returning-a-view-versus-a-copy\n",
      "  kc.drop(index, inplace=True)\n",
      "C:\\Users\\yunseolp\\AppData\\Local\\Temp\\ipykernel_15032\\3231749877.py:9: SettingWithCopyWarning: \n",
      "A value is trying to be set on a copy of a slice from a DataFrame\n",
      "\n",
      "See the caveats in the documentation: https://pandas.pydata.org/pandas-docs/stable/user_guide/indexing.html#returning-a-view-versus-a-copy\n",
      "  kc.drop(index, inplace=True)\n",
      "C:\\Users\\yunseolp\\AppData\\Local\\Temp\\ipykernel_15032\\3231749877.py:9: SettingWithCopyWarning: \n",
      "A value is trying to be set on a copy of a slice from a DataFrame\n",
      "\n",
      "See the caveats in the documentation: https://pandas.pydata.org/pandas-docs/stable/user_guide/indexing.html#returning-a-view-versus-a-copy\n",
      "  kc.drop(index, inplace=True)\n",
      "C:\\Users\\yunseolp\\AppData\\Local\\Temp\\ipykernel_15032\\3231749877.py:9: SettingWithCopyWarning: \n",
      "A value is trying to be set on a copy of a slice from a DataFrame\n",
      "\n",
      "See the caveats in the documentation: https://pandas.pydata.org/pandas-docs/stable/user_guide/indexing.html#returning-a-view-versus-a-copy\n",
      "  kc.drop(index, inplace=True)\n",
      "C:\\Users\\yunseolp\\AppData\\Local\\Temp\\ipykernel_15032\\3231749877.py:9: SettingWithCopyWarning: \n",
      "A value is trying to be set on a copy of a slice from a DataFrame\n",
      "\n",
      "See the caveats in the documentation: https://pandas.pydata.org/pandas-docs/stable/user_guide/indexing.html#returning-a-view-versus-a-copy\n",
      "  kc.drop(index, inplace=True)\n",
      "C:\\Users\\yunseolp\\AppData\\Local\\Temp\\ipykernel_15032\\3231749877.py:9: SettingWithCopyWarning: \n",
      "A value is trying to be set on a copy of a slice from a DataFrame\n",
      "\n",
      "See the caveats in the documentation: https://pandas.pydata.org/pandas-docs/stable/user_guide/indexing.html#returning-a-view-versus-a-copy\n",
      "  kc.drop(index, inplace=True)\n",
      "C:\\Users\\yunseolp\\AppData\\Local\\Temp\\ipykernel_15032\\3231749877.py:9: SettingWithCopyWarning: \n",
      "A value is trying to be set on a copy of a slice from a DataFrame\n",
      "\n",
      "See the caveats in the documentation: https://pandas.pydata.org/pandas-docs/stable/user_guide/indexing.html#returning-a-view-versus-a-copy\n",
      "  kc.drop(index, inplace=True)\n",
      "C:\\Users\\yunseolp\\AppData\\Local\\Temp\\ipykernel_15032\\3231749877.py:9: SettingWithCopyWarning: \n",
      "A value is trying to be set on a copy of a slice from a DataFrame\n",
      "\n",
      "See the caveats in the documentation: https://pandas.pydata.org/pandas-docs/stable/user_guide/indexing.html#returning-a-view-versus-a-copy\n",
      "  kc.drop(index, inplace=True)\n",
      "C:\\Users\\yunseolp\\AppData\\Local\\Temp\\ipykernel_15032\\3231749877.py:9: SettingWithCopyWarning: \n",
      "A value is trying to be set on a copy of a slice from a DataFrame\n",
      "\n",
      "See the caveats in the documentation: https://pandas.pydata.org/pandas-docs/stable/user_guide/indexing.html#returning-a-view-versus-a-copy\n",
      "  kc.drop(index, inplace=True)\n",
      "C:\\Users\\yunseolp\\AppData\\Local\\Temp\\ipykernel_15032\\3231749877.py:9: SettingWithCopyWarning: \n",
      "A value is trying to be set on a copy of a slice from a DataFrame\n",
      "\n",
      "See the caveats in the documentation: https://pandas.pydata.org/pandas-docs/stable/user_guide/indexing.html#returning-a-view-versus-a-copy\n",
      "  kc.drop(index, inplace=True)\n",
      "C:\\Users\\yunseolp\\AppData\\Local\\Temp\\ipykernel_15032\\3231749877.py:9: SettingWithCopyWarning: \n",
      "A value is trying to be set on a copy of a slice from a DataFrame\n",
      "\n",
      "See the caveats in the documentation: https://pandas.pydata.org/pandas-docs/stable/user_guide/indexing.html#returning-a-view-versus-a-copy\n",
      "  kc.drop(index, inplace=True)\n",
      "C:\\Users\\yunseolp\\AppData\\Local\\Temp\\ipykernel_15032\\3231749877.py:9: SettingWithCopyWarning: \n",
      "A value is trying to be set on a copy of a slice from a DataFrame\n",
      "\n",
      "See the caveats in the documentation: https://pandas.pydata.org/pandas-docs/stable/user_guide/indexing.html#returning-a-view-versus-a-copy\n",
      "  kc.drop(index, inplace=True)\n",
      "C:\\Users\\yunseolp\\AppData\\Local\\Temp\\ipykernel_15032\\3231749877.py:9: SettingWithCopyWarning: \n",
      "A value is trying to be set on a copy of a slice from a DataFrame\n",
      "\n",
      "See the caveats in the documentation: https://pandas.pydata.org/pandas-docs/stable/user_guide/indexing.html#returning-a-view-versus-a-copy\n",
      "  kc.drop(index, inplace=True)\n",
      "C:\\Users\\yunseolp\\AppData\\Local\\Temp\\ipykernel_15032\\3231749877.py:9: SettingWithCopyWarning: \n",
      "A value is trying to be set on a copy of a slice from a DataFrame\n",
      "\n",
      "See the caveats in the documentation: https://pandas.pydata.org/pandas-docs/stable/user_guide/indexing.html#returning-a-view-versus-a-copy\n",
      "  kc.drop(index, inplace=True)\n",
      "C:\\Users\\yunseolp\\AppData\\Local\\Temp\\ipykernel_15032\\3231749877.py:9: SettingWithCopyWarning: \n",
      "A value is trying to be set on a copy of a slice from a DataFrame\n",
      "\n",
      "See the caveats in the documentation: https://pandas.pydata.org/pandas-docs/stable/user_guide/indexing.html#returning-a-view-versus-a-copy\n",
      "  kc.drop(index, inplace=True)\n",
      "C:\\Users\\yunseolp\\AppData\\Local\\Temp\\ipykernel_15032\\3231749877.py:9: SettingWithCopyWarning: \n",
      "A value is trying to be set on a copy of a slice from a DataFrame\n",
      "\n",
      "See the caveats in the documentation: https://pandas.pydata.org/pandas-docs/stable/user_guide/indexing.html#returning-a-view-versus-a-copy\n",
      "  kc.drop(index, inplace=True)\n",
      "C:\\Users\\yunseolp\\AppData\\Local\\Temp\\ipykernel_15032\\3231749877.py:9: SettingWithCopyWarning: \n",
      "A value is trying to be set on a copy of a slice from a DataFrame\n",
      "\n",
      "See the caveats in the documentation: https://pandas.pydata.org/pandas-docs/stable/user_guide/indexing.html#returning-a-view-versus-a-copy\n",
      "  kc.drop(index, inplace=True)\n",
      "C:\\Users\\yunseolp\\AppData\\Local\\Temp\\ipykernel_15032\\3231749877.py:9: SettingWithCopyWarning: \n",
      "A value is trying to be set on a copy of a slice from a DataFrame\n",
      "\n",
      "See the caveats in the documentation: https://pandas.pydata.org/pandas-docs/stable/user_guide/indexing.html#returning-a-view-versus-a-copy\n",
      "  kc.drop(index, inplace=True)\n",
      "C:\\Users\\yunseolp\\AppData\\Local\\Temp\\ipykernel_15032\\3231749877.py:9: SettingWithCopyWarning: \n",
      "A value is trying to be set on a copy of a slice from a DataFrame\n",
      "\n",
      "See the caveats in the documentation: https://pandas.pydata.org/pandas-docs/stable/user_guide/indexing.html#returning-a-view-versus-a-copy\n",
      "  kc.drop(index, inplace=True)\n",
      "C:\\Users\\yunseolp\\AppData\\Local\\Temp\\ipykernel_15032\\3231749877.py:9: SettingWithCopyWarning: \n",
      "A value is trying to be set on a copy of a slice from a DataFrame\n",
      "\n",
      "See the caveats in the documentation: https://pandas.pydata.org/pandas-docs/stable/user_guide/indexing.html#returning-a-view-versus-a-copy\n",
      "  kc.drop(index, inplace=True)\n",
      "C:\\Users\\yunseolp\\AppData\\Local\\Temp\\ipykernel_15032\\3231749877.py:9: SettingWithCopyWarning: \n",
      "A value is trying to be set on a copy of a slice from a DataFrame\n",
      "\n",
      "See the caveats in the documentation: https://pandas.pydata.org/pandas-docs/stable/user_guide/indexing.html#returning-a-view-versus-a-copy\n",
      "  kc.drop(index, inplace=True)\n",
      "C:\\Users\\yunseolp\\AppData\\Local\\Temp\\ipykernel_15032\\3231749877.py:9: SettingWithCopyWarning: \n",
      "A value is trying to be set on a copy of a slice from a DataFrame\n",
      "\n",
      "See the caveats in the documentation: https://pandas.pydata.org/pandas-docs/stable/user_guide/indexing.html#returning-a-view-versus-a-copy\n",
      "  kc.drop(index, inplace=True)\n",
      "C:\\Users\\yunseolp\\AppData\\Local\\Temp\\ipykernel_15032\\3231749877.py:9: SettingWithCopyWarning: \n",
      "A value is trying to be set on a copy of a slice from a DataFrame\n",
      "\n",
      "See the caveats in the documentation: https://pandas.pydata.org/pandas-docs/stable/user_guide/indexing.html#returning-a-view-versus-a-copy\n",
      "  kc.drop(index, inplace=True)\n",
      "C:\\Users\\yunseolp\\AppData\\Local\\Temp\\ipykernel_15032\\3231749877.py:9: SettingWithCopyWarning: \n",
      "A value is trying to be set on a copy of a slice from a DataFrame\n",
      "\n",
      "See the caveats in the documentation: https://pandas.pydata.org/pandas-docs/stable/user_guide/indexing.html#returning-a-view-versus-a-copy\n",
      "  kc.drop(index, inplace=True)\n",
      "C:\\Users\\yunseolp\\AppData\\Local\\Temp\\ipykernel_15032\\3231749877.py:9: SettingWithCopyWarning: \n",
      "A value is trying to be set on a copy of a slice from a DataFrame\n",
      "\n",
      "See the caveats in the documentation: https://pandas.pydata.org/pandas-docs/stable/user_guide/indexing.html#returning-a-view-versus-a-copy\n",
      "  kc.drop(index, inplace=True)\n",
      "C:\\Users\\yunseolp\\AppData\\Local\\Temp\\ipykernel_15032\\3231749877.py:9: SettingWithCopyWarning: \n",
      "A value is trying to be set on a copy of a slice from a DataFrame\n",
      "\n",
      "See the caveats in the documentation: https://pandas.pydata.org/pandas-docs/stable/user_guide/indexing.html#returning-a-view-versus-a-copy\n",
      "  kc.drop(index, inplace=True)\n",
      "C:\\Users\\yunseolp\\AppData\\Local\\Temp\\ipykernel_15032\\3231749877.py:9: SettingWithCopyWarning: \n",
      "A value is trying to be set on a copy of a slice from a DataFrame\n",
      "\n",
      "See the caveats in the documentation: https://pandas.pydata.org/pandas-docs/stable/user_guide/indexing.html#returning-a-view-versus-a-copy\n",
      "  kc.drop(index, inplace=True)\n",
      "C:\\Users\\yunseolp\\AppData\\Local\\Temp\\ipykernel_15032\\3231749877.py:9: SettingWithCopyWarning: \n",
      "A value is trying to be set on a copy of a slice from a DataFrame\n",
      "\n",
      "See the caveats in the documentation: https://pandas.pydata.org/pandas-docs/stable/user_guide/indexing.html#returning-a-view-versus-a-copy\n",
      "  kc.drop(index, inplace=True)\n",
      "C:\\Users\\yunseolp\\AppData\\Local\\Temp\\ipykernel_15032\\3231749877.py:9: SettingWithCopyWarning: \n",
      "A value is trying to be set on a copy of a slice from a DataFrame\n",
      "\n",
      "See the caveats in the documentation: https://pandas.pydata.org/pandas-docs/stable/user_guide/indexing.html#returning-a-view-versus-a-copy\n",
      "  kc.drop(index, inplace=True)\n",
      "C:\\Users\\yunseolp\\AppData\\Local\\Temp\\ipykernel_15032\\3231749877.py:9: SettingWithCopyWarning: \n",
      "A value is trying to be set on a copy of a slice from a DataFrame\n",
      "\n",
      "See the caveats in the documentation: https://pandas.pydata.org/pandas-docs/stable/user_guide/indexing.html#returning-a-view-versus-a-copy\n",
      "  kc.drop(index, inplace=True)\n",
      "C:\\Users\\yunseolp\\AppData\\Local\\Temp\\ipykernel_15032\\3231749877.py:9: SettingWithCopyWarning: \n",
      "A value is trying to be set on a copy of a slice from a DataFrame\n",
      "\n",
      "See the caveats in the documentation: https://pandas.pydata.org/pandas-docs/stable/user_guide/indexing.html#returning-a-view-versus-a-copy\n",
      "  kc.drop(index, inplace=True)\n",
      "C:\\Users\\yunseolp\\AppData\\Local\\Temp\\ipykernel_15032\\3231749877.py:9: SettingWithCopyWarning: \n",
      "A value is trying to be set on a copy of a slice from a DataFrame\n",
      "\n",
      "See the caveats in the documentation: https://pandas.pydata.org/pandas-docs/stable/user_guide/indexing.html#returning-a-view-versus-a-copy\n",
      "  kc.drop(index, inplace=True)\n",
      "C:\\Users\\yunseolp\\AppData\\Local\\Temp\\ipykernel_15032\\3231749877.py:9: SettingWithCopyWarning: \n",
      "A value is trying to be set on a copy of a slice from a DataFrame\n",
      "\n",
      "See the caveats in the documentation: https://pandas.pydata.org/pandas-docs/stable/user_guide/indexing.html#returning-a-view-versus-a-copy\n",
      "  kc.drop(index, inplace=True)\n",
      "C:\\Users\\yunseolp\\AppData\\Local\\Temp\\ipykernel_15032\\3231749877.py:9: SettingWithCopyWarning: \n",
      "A value is trying to be set on a copy of a slice from a DataFrame\n",
      "\n",
      "See the caveats in the documentation: https://pandas.pydata.org/pandas-docs/stable/user_guide/indexing.html#returning-a-view-versus-a-copy\n",
      "  kc.drop(index, inplace=True)\n",
      "C:\\Users\\yunseolp\\AppData\\Local\\Temp\\ipykernel_15032\\3231749877.py:9: SettingWithCopyWarning: \n",
      "A value is trying to be set on a copy of a slice from a DataFrame\n",
      "\n",
      "See the caveats in the documentation: https://pandas.pydata.org/pandas-docs/stable/user_guide/indexing.html#returning-a-view-versus-a-copy\n",
      "  kc.drop(index, inplace=True)\n",
      "C:\\Users\\yunseolp\\AppData\\Local\\Temp\\ipykernel_15032\\3231749877.py:9: SettingWithCopyWarning: \n",
      "A value is trying to be set on a copy of a slice from a DataFrame\n",
      "\n",
      "See the caveats in the documentation: https://pandas.pydata.org/pandas-docs/stable/user_guide/indexing.html#returning-a-view-versus-a-copy\n",
      "  kc.drop(index, inplace=True)\n",
      "C:\\Users\\yunseolp\\AppData\\Local\\Temp\\ipykernel_15032\\3231749877.py:9: SettingWithCopyWarning: \n",
      "A value is trying to be set on a copy of a slice from a DataFrame\n",
      "\n",
      "See the caveats in the documentation: https://pandas.pydata.org/pandas-docs/stable/user_guide/indexing.html#returning-a-view-versus-a-copy\n",
      "  kc.drop(index, inplace=True)\n",
      "C:\\Users\\yunseolp\\AppData\\Local\\Temp\\ipykernel_15032\\3231749877.py:9: SettingWithCopyWarning: \n",
      "A value is trying to be set on a copy of a slice from a DataFrame\n",
      "\n",
      "See the caveats in the documentation: https://pandas.pydata.org/pandas-docs/stable/user_guide/indexing.html#returning-a-view-versus-a-copy\n",
      "  kc.drop(index, inplace=True)\n",
      "C:\\Users\\yunseolp\\AppData\\Local\\Temp\\ipykernel_15032\\3231749877.py:9: SettingWithCopyWarning: \n",
      "A value is trying to be set on a copy of a slice from a DataFrame\n",
      "\n",
      "See the caveats in the documentation: https://pandas.pydata.org/pandas-docs/stable/user_guide/indexing.html#returning-a-view-versus-a-copy\n",
      "  kc.drop(index, inplace=True)\n",
      "C:\\Users\\yunseolp\\AppData\\Local\\Temp\\ipykernel_15032\\3231749877.py:9: SettingWithCopyWarning: \n",
      "A value is trying to be set on a copy of a slice from a DataFrame\n",
      "\n",
      "See the caveats in the documentation: https://pandas.pydata.org/pandas-docs/stable/user_guide/indexing.html#returning-a-view-versus-a-copy\n",
      "  kc.drop(index, inplace=True)\n",
      "C:\\Users\\yunseolp\\AppData\\Local\\Temp\\ipykernel_15032\\3231749877.py:9: SettingWithCopyWarning: \n",
      "A value is trying to be set on a copy of a slice from a DataFrame\n",
      "\n",
      "See the caveats in the documentation: https://pandas.pydata.org/pandas-docs/stable/user_guide/indexing.html#returning-a-view-versus-a-copy\n",
      "  kc.drop(index, inplace=True)\n",
      "C:\\Users\\yunseolp\\AppData\\Local\\Temp\\ipykernel_15032\\3231749877.py:9: SettingWithCopyWarning: \n",
      "A value is trying to be set on a copy of a slice from a DataFrame\n",
      "\n",
      "See the caveats in the documentation: https://pandas.pydata.org/pandas-docs/stable/user_guide/indexing.html#returning-a-view-versus-a-copy\n",
      "  kc.drop(index, inplace=True)\n",
      "C:\\Users\\yunseolp\\AppData\\Local\\Temp\\ipykernel_15032\\3231749877.py:9: SettingWithCopyWarning: \n",
      "A value is trying to be set on a copy of a slice from a DataFrame\n",
      "\n",
      "See the caveats in the documentation: https://pandas.pydata.org/pandas-docs/stable/user_guide/indexing.html#returning-a-view-versus-a-copy\n",
      "  kc.drop(index, inplace=True)\n",
      "C:\\Users\\yunseolp\\AppData\\Local\\Temp\\ipykernel_15032\\3231749877.py:9: SettingWithCopyWarning: \n",
      "A value is trying to be set on a copy of a slice from a DataFrame\n",
      "\n",
      "See the caveats in the documentation: https://pandas.pydata.org/pandas-docs/stable/user_guide/indexing.html#returning-a-view-versus-a-copy\n",
      "  kc.drop(index, inplace=True)\n",
      "C:\\Users\\yunseolp\\AppData\\Local\\Temp\\ipykernel_15032\\3231749877.py:9: SettingWithCopyWarning: \n",
      "A value is trying to be set on a copy of a slice from a DataFrame\n",
      "\n",
      "See the caveats in the documentation: https://pandas.pydata.org/pandas-docs/stable/user_guide/indexing.html#returning-a-view-versus-a-copy\n",
      "  kc.drop(index, inplace=True)\n",
      "C:\\Users\\yunseolp\\AppData\\Local\\Temp\\ipykernel_15032\\3231749877.py:9: SettingWithCopyWarning: \n",
      "A value is trying to be set on a copy of a slice from a DataFrame\n",
      "\n",
      "See the caveats in the documentation: https://pandas.pydata.org/pandas-docs/stable/user_guide/indexing.html#returning-a-view-versus-a-copy\n",
      "  kc.drop(index, inplace=True)\n",
      "C:\\Users\\yunseolp\\AppData\\Local\\Temp\\ipykernel_15032\\3231749877.py:9: SettingWithCopyWarning: \n",
      "A value is trying to be set on a copy of a slice from a DataFrame\n",
      "\n",
      "See the caveats in the documentation: https://pandas.pydata.org/pandas-docs/stable/user_guide/indexing.html#returning-a-view-versus-a-copy\n",
      "  kc.drop(index, inplace=True)\n",
      "C:\\Users\\yunseolp\\AppData\\Local\\Temp\\ipykernel_15032\\3231749877.py:9: SettingWithCopyWarning: \n",
      "A value is trying to be set on a copy of a slice from a DataFrame\n",
      "\n",
      "See the caveats in the documentation: https://pandas.pydata.org/pandas-docs/stable/user_guide/indexing.html#returning-a-view-versus-a-copy\n",
      "  kc.drop(index, inplace=True)\n",
      "C:\\Users\\yunseolp\\AppData\\Local\\Temp\\ipykernel_15032\\3231749877.py:9: SettingWithCopyWarning: \n",
      "A value is trying to be set on a copy of a slice from a DataFrame\n",
      "\n",
      "See the caveats in the documentation: https://pandas.pydata.org/pandas-docs/stable/user_guide/indexing.html#returning-a-view-versus-a-copy\n",
      "  kc.drop(index, inplace=True)\n",
      "C:\\Users\\yunseolp\\AppData\\Local\\Temp\\ipykernel_15032\\3231749877.py:9: SettingWithCopyWarning: \n",
      "A value is trying to be set on a copy of a slice from a DataFrame\n",
      "\n",
      "See the caveats in the documentation: https://pandas.pydata.org/pandas-docs/stable/user_guide/indexing.html#returning-a-view-versus-a-copy\n",
      "  kc.drop(index, inplace=True)\n",
      "C:\\Users\\yunseolp\\AppData\\Local\\Temp\\ipykernel_15032\\3231749877.py:9: SettingWithCopyWarning: \n",
      "A value is trying to be set on a copy of a slice from a DataFrame\n",
      "\n",
      "See the caveats in the documentation: https://pandas.pydata.org/pandas-docs/stable/user_guide/indexing.html#returning-a-view-versus-a-copy\n",
      "  kc.drop(index, inplace=True)\n",
      "C:\\Users\\yunseolp\\AppData\\Local\\Temp\\ipykernel_15032\\3231749877.py:9: SettingWithCopyWarning: \n",
      "A value is trying to be set on a copy of a slice from a DataFrame\n",
      "\n",
      "See the caveats in the documentation: https://pandas.pydata.org/pandas-docs/stable/user_guide/indexing.html#returning-a-view-versus-a-copy\n",
      "  kc.drop(index, inplace=True)\n",
      "C:\\Users\\yunseolp\\AppData\\Local\\Temp\\ipykernel_15032\\3231749877.py:9: SettingWithCopyWarning: \n",
      "A value is trying to be set on a copy of a slice from a DataFrame\n",
      "\n",
      "See the caveats in the documentation: https://pandas.pydata.org/pandas-docs/stable/user_guide/indexing.html#returning-a-view-versus-a-copy\n",
      "  kc.drop(index, inplace=True)\n",
      "C:\\Users\\yunseolp\\AppData\\Local\\Temp\\ipykernel_15032\\3231749877.py:9: SettingWithCopyWarning: \n",
      "A value is trying to be set on a copy of a slice from a DataFrame\n",
      "\n",
      "See the caveats in the documentation: https://pandas.pydata.org/pandas-docs/stable/user_guide/indexing.html#returning-a-view-versus-a-copy\n",
      "  kc.drop(index, inplace=True)\n",
      "C:\\Users\\yunseolp\\AppData\\Local\\Temp\\ipykernel_15032\\3231749877.py:9: SettingWithCopyWarning: \n",
      "A value is trying to be set on a copy of a slice from a DataFrame\n",
      "\n",
      "See the caveats in the documentation: https://pandas.pydata.org/pandas-docs/stable/user_guide/indexing.html#returning-a-view-versus-a-copy\n",
      "  kc.drop(index, inplace=True)\n",
      "C:\\Users\\yunseolp\\AppData\\Local\\Temp\\ipykernel_15032\\3231749877.py:9: SettingWithCopyWarning: \n",
      "A value is trying to be set on a copy of a slice from a DataFrame\n",
      "\n",
      "See the caveats in the documentation: https://pandas.pydata.org/pandas-docs/stable/user_guide/indexing.html#returning-a-view-versus-a-copy\n",
      "  kc.drop(index, inplace=True)\n",
      "C:\\Users\\yunseolp\\AppData\\Local\\Temp\\ipykernel_15032\\3231749877.py:9: SettingWithCopyWarning: \n",
      "A value is trying to be set on a copy of a slice from a DataFrame\n",
      "\n",
      "See the caveats in the documentation: https://pandas.pydata.org/pandas-docs/stable/user_guide/indexing.html#returning-a-view-versus-a-copy\n",
      "  kc.drop(index, inplace=True)\n",
      "C:\\Users\\yunseolp\\AppData\\Local\\Temp\\ipykernel_15032\\3231749877.py:9: SettingWithCopyWarning: \n",
      "A value is trying to be set on a copy of a slice from a DataFrame\n",
      "\n",
      "See the caveats in the documentation: https://pandas.pydata.org/pandas-docs/stable/user_guide/indexing.html#returning-a-view-versus-a-copy\n",
      "  kc.drop(index, inplace=True)\n",
      "C:\\Users\\yunseolp\\AppData\\Local\\Temp\\ipykernel_15032\\3231749877.py:9: SettingWithCopyWarning: \n",
      "A value is trying to be set on a copy of a slice from a DataFrame\n",
      "\n",
      "See the caveats in the documentation: https://pandas.pydata.org/pandas-docs/stable/user_guide/indexing.html#returning-a-view-versus-a-copy\n",
      "  kc.drop(index, inplace=True)\n",
      "C:\\Users\\yunseolp\\AppData\\Local\\Temp\\ipykernel_15032\\3231749877.py:9: SettingWithCopyWarning: \n",
      "A value is trying to be set on a copy of a slice from a DataFrame\n",
      "\n",
      "See the caveats in the documentation: https://pandas.pydata.org/pandas-docs/stable/user_guide/indexing.html#returning-a-view-versus-a-copy\n",
      "  kc.drop(index, inplace=True)\n",
      "C:\\Users\\yunseolp\\AppData\\Local\\Temp\\ipykernel_15032\\3231749877.py:9: SettingWithCopyWarning: \n",
      "A value is trying to be set on a copy of a slice from a DataFrame\n",
      "\n",
      "See the caveats in the documentation: https://pandas.pydata.org/pandas-docs/stable/user_guide/indexing.html#returning-a-view-versus-a-copy\n",
      "  kc.drop(index, inplace=True)\n",
      "C:\\Users\\yunseolp\\AppData\\Local\\Temp\\ipykernel_15032\\3231749877.py:9: SettingWithCopyWarning: \n",
      "A value is trying to be set on a copy of a slice from a DataFrame\n",
      "\n",
      "See the caveats in the documentation: https://pandas.pydata.org/pandas-docs/stable/user_guide/indexing.html#returning-a-view-versus-a-copy\n",
      "  kc.drop(index, inplace=True)\n",
      "C:\\Users\\yunseolp\\AppData\\Local\\Temp\\ipykernel_15032\\3231749877.py:9: SettingWithCopyWarning: \n",
      "A value is trying to be set on a copy of a slice from a DataFrame\n",
      "\n",
      "See the caveats in the documentation: https://pandas.pydata.org/pandas-docs/stable/user_guide/indexing.html#returning-a-view-versus-a-copy\n",
      "  kc.drop(index, inplace=True)\n",
      "C:\\Users\\yunseolp\\AppData\\Local\\Temp\\ipykernel_15032\\3231749877.py:9: SettingWithCopyWarning: \n",
      "A value is trying to be set on a copy of a slice from a DataFrame\n",
      "\n",
      "See the caveats in the documentation: https://pandas.pydata.org/pandas-docs/stable/user_guide/indexing.html#returning-a-view-versus-a-copy\n",
      "  kc.drop(index, inplace=True)\n",
      "C:\\Users\\yunseolp\\AppData\\Local\\Temp\\ipykernel_15032\\3231749877.py:9: SettingWithCopyWarning: \n",
      "A value is trying to be set on a copy of a slice from a DataFrame\n",
      "\n",
      "See the caveats in the documentation: https://pandas.pydata.org/pandas-docs/stable/user_guide/indexing.html#returning-a-view-versus-a-copy\n",
      "  kc.drop(index, inplace=True)\n",
      "C:\\Users\\yunseolp\\AppData\\Local\\Temp\\ipykernel_15032\\3231749877.py:9: SettingWithCopyWarning: \n",
      "A value is trying to be set on a copy of a slice from a DataFrame\n",
      "\n",
      "See the caveats in the documentation: https://pandas.pydata.org/pandas-docs/stable/user_guide/indexing.html#returning-a-view-versus-a-copy\n",
      "  kc.drop(index, inplace=True)\n",
      "C:\\Users\\yunseolp\\AppData\\Local\\Temp\\ipykernel_15032\\3231749877.py:9: SettingWithCopyWarning: \n",
      "A value is trying to be set on a copy of a slice from a DataFrame\n",
      "\n",
      "See the caveats in the documentation: https://pandas.pydata.org/pandas-docs/stable/user_guide/indexing.html#returning-a-view-versus-a-copy\n",
      "  kc.drop(index, inplace=True)\n",
      "C:\\Users\\yunseolp\\AppData\\Local\\Temp\\ipykernel_15032\\3231749877.py:9: SettingWithCopyWarning: \n",
      "A value is trying to be set on a copy of a slice from a DataFrame\n",
      "\n",
      "See the caveats in the documentation: https://pandas.pydata.org/pandas-docs/stable/user_guide/indexing.html#returning-a-view-versus-a-copy\n",
      "  kc.drop(index, inplace=True)\n",
      "C:\\Users\\yunseolp\\AppData\\Local\\Temp\\ipykernel_15032\\3231749877.py:9: SettingWithCopyWarning: \n",
      "A value is trying to be set on a copy of a slice from a DataFrame\n",
      "\n",
      "See the caveats in the documentation: https://pandas.pydata.org/pandas-docs/stable/user_guide/indexing.html#returning-a-view-versus-a-copy\n",
      "  kc.drop(index, inplace=True)\n",
      "C:\\Users\\yunseolp\\AppData\\Local\\Temp\\ipykernel_15032\\3231749877.py:9: SettingWithCopyWarning: \n",
      "A value is trying to be set on a copy of a slice from a DataFrame\n",
      "\n",
      "See the caveats in the documentation: https://pandas.pydata.org/pandas-docs/stable/user_guide/indexing.html#returning-a-view-versus-a-copy\n",
      "  kc.drop(index, inplace=True)\n",
      "C:\\Users\\yunseolp\\AppData\\Local\\Temp\\ipykernel_15032\\3231749877.py:9: SettingWithCopyWarning: \n",
      "A value is trying to be set on a copy of a slice from a DataFrame\n",
      "\n",
      "See the caveats in the documentation: https://pandas.pydata.org/pandas-docs/stable/user_guide/indexing.html#returning-a-view-versus-a-copy\n",
      "  kc.drop(index, inplace=True)\n",
      "C:\\Users\\yunseolp\\AppData\\Local\\Temp\\ipykernel_15032\\3231749877.py:9: SettingWithCopyWarning: \n",
      "A value is trying to be set on a copy of a slice from a DataFrame\n",
      "\n",
      "See the caveats in the documentation: https://pandas.pydata.org/pandas-docs/stable/user_guide/indexing.html#returning-a-view-versus-a-copy\n",
      "  kc.drop(index, inplace=True)\n",
      "C:\\Users\\yunseolp\\AppData\\Local\\Temp\\ipykernel_15032\\3231749877.py:9: SettingWithCopyWarning: \n",
      "A value is trying to be set on a copy of a slice from a DataFrame\n",
      "\n",
      "See the caveats in the documentation: https://pandas.pydata.org/pandas-docs/stable/user_guide/indexing.html#returning-a-view-versus-a-copy\n",
      "  kc.drop(index, inplace=True)\n",
      "C:\\Users\\yunseolp\\AppData\\Local\\Temp\\ipykernel_15032\\3231749877.py:9: SettingWithCopyWarning: \n",
      "A value is trying to be set on a copy of a slice from a DataFrame\n",
      "\n",
      "See the caveats in the documentation: https://pandas.pydata.org/pandas-docs/stable/user_guide/indexing.html#returning-a-view-versus-a-copy\n",
      "  kc.drop(index, inplace=True)\n",
      "C:\\Users\\yunseolp\\AppData\\Local\\Temp\\ipykernel_15032\\3231749877.py:9: SettingWithCopyWarning: \n",
      "A value is trying to be set on a copy of a slice from a DataFrame\n",
      "\n",
      "See the caveats in the documentation: https://pandas.pydata.org/pandas-docs/stable/user_guide/indexing.html#returning-a-view-versus-a-copy\n",
      "  kc.drop(index, inplace=True)\n",
      "C:\\Users\\yunseolp\\AppData\\Local\\Temp\\ipykernel_15032\\3231749877.py:9: SettingWithCopyWarning: \n",
      "A value is trying to be set on a copy of a slice from a DataFrame\n",
      "\n",
      "See the caveats in the documentation: https://pandas.pydata.org/pandas-docs/stable/user_guide/indexing.html#returning-a-view-versus-a-copy\n",
      "  kc.drop(index, inplace=True)\n",
      "C:\\Users\\yunseolp\\AppData\\Local\\Temp\\ipykernel_15032\\3231749877.py:9: SettingWithCopyWarning: \n",
      "A value is trying to be set on a copy of a slice from a DataFrame\n",
      "\n",
      "See the caveats in the documentation: https://pandas.pydata.org/pandas-docs/stable/user_guide/indexing.html#returning-a-view-versus-a-copy\n",
      "  kc.drop(index, inplace=True)\n",
      "C:\\Users\\yunseolp\\AppData\\Local\\Temp\\ipykernel_15032\\3231749877.py:9: SettingWithCopyWarning: \n",
      "A value is trying to be set on a copy of a slice from a DataFrame\n",
      "\n",
      "See the caveats in the documentation: https://pandas.pydata.org/pandas-docs/stable/user_guide/indexing.html#returning-a-view-versus-a-copy\n",
      "  kc.drop(index, inplace=True)\n",
      "C:\\Users\\yunseolp\\AppData\\Local\\Temp\\ipykernel_15032\\3231749877.py:9: SettingWithCopyWarning: \n",
      "A value is trying to be set on a copy of a slice from a DataFrame\n",
      "\n",
      "See the caveats in the documentation: https://pandas.pydata.org/pandas-docs/stable/user_guide/indexing.html#returning-a-view-versus-a-copy\n",
      "  kc.drop(index, inplace=True)\n",
      "C:\\Users\\yunseolp\\AppData\\Local\\Temp\\ipykernel_15032\\3231749877.py:9: SettingWithCopyWarning: \n",
      "A value is trying to be set on a copy of a slice from a DataFrame\n",
      "\n",
      "See the caveats in the documentation: https://pandas.pydata.org/pandas-docs/stable/user_guide/indexing.html#returning-a-view-versus-a-copy\n",
      "  kc.drop(index, inplace=True)\n",
      "C:\\Users\\yunseolp\\AppData\\Local\\Temp\\ipykernel_15032\\3231749877.py:9: SettingWithCopyWarning: \n",
      "A value is trying to be set on a copy of a slice from a DataFrame\n",
      "\n",
      "See the caveats in the documentation: https://pandas.pydata.org/pandas-docs/stable/user_guide/indexing.html#returning-a-view-versus-a-copy\n",
      "  kc.drop(index, inplace=True)\n",
      "C:\\Users\\yunseolp\\AppData\\Local\\Temp\\ipykernel_15032\\3231749877.py:9: SettingWithCopyWarning: \n",
      "A value is trying to be set on a copy of a slice from a DataFrame\n",
      "\n",
      "See the caveats in the documentation: https://pandas.pydata.org/pandas-docs/stable/user_guide/indexing.html#returning-a-view-versus-a-copy\n",
      "  kc.drop(index, inplace=True)\n",
      "C:\\Users\\yunseolp\\AppData\\Local\\Temp\\ipykernel_15032\\3231749877.py:9: SettingWithCopyWarning: \n",
      "A value is trying to be set on a copy of a slice from a DataFrame\n",
      "\n",
      "See the caveats in the documentation: https://pandas.pydata.org/pandas-docs/stable/user_guide/indexing.html#returning-a-view-versus-a-copy\n",
      "  kc.drop(index, inplace=True)\n",
      "C:\\Users\\yunseolp\\AppData\\Local\\Temp\\ipykernel_15032\\3231749877.py:9: SettingWithCopyWarning: \n",
      "A value is trying to be set on a copy of a slice from a DataFrame\n",
      "\n",
      "See the caveats in the documentation: https://pandas.pydata.org/pandas-docs/stable/user_guide/indexing.html#returning-a-view-versus-a-copy\n",
      "  kc.drop(index, inplace=True)\n",
      "C:\\Users\\yunseolp\\AppData\\Local\\Temp\\ipykernel_15032\\3231749877.py:9: SettingWithCopyWarning: \n",
      "A value is trying to be set on a copy of a slice from a DataFrame\n",
      "\n",
      "See the caveats in the documentation: https://pandas.pydata.org/pandas-docs/stable/user_guide/indexing.html#returning-a-view-versus-a-copy\n",
      "  kc.drop(index, inplace=True)\n",
      "C:\\Users\\yunseolp\\AppData\\Local\\Temp\\ipykernel_15032\\3231749877.py:9: SettingWithCopyWarning: \n",
      "A value is trying to be set on a copy of a slice from a DataFrame\n",
      "\n",
      "See the caveats in the documentation: https://pandas.pydata.org/pandas-docs/stable/user_guide/indexing.html#returning-a-view-versus-a-copy\n",
      "  kc.drop(index, inplace=True)\n",
      "C:\\Users\\yunseolp\\AppData\\Local\\Temp\\ipykernel_15032\\3231749877.py:9: SettingWithCopyWarning: \n",
      "A value is trying to be set on a copy of a slice from a DataFrame\n",
      "\n",
      "See the caveats in the documentation: https://pandas.pydata.org/pandas-docs/stable/user_guide/indexing.html#returning-a-view-versus-a-copy\n",
      "  kc.drop(index, inplace=True)\n",
      "C:\\Users\\yunseolp\\AppData\\Local\\Temp\\ipykernel_15032\\3231749877.py:9: SettingWithCopyWarning: \n",
      "A value is trying to be set on a copy of a slice from a DataFrame\n",
      "\n",
      "See the caveats in the documentation: https://pandas.pydata.org/pandas-docs/stable/user_guide/indexing.html#returning-a-view-versus-a-copy\n",
      "  kc.drop(index, inplace=True)\n",
      "C:\\Users\\yunseolp\\AppData\\Local\\Temp\\ipykernel_15032\\3231749877.py:9: SettingWithCopyWarning: \n",
      "A value is trying to be set on a copy of a slice from a DataFrame\n",
      "\n",
      "See the caveats in the documentation: https://pandas.pydata.org/pandas-docs/stable/user_guide/indexing.html#returning-a-view-versus-a-copy\n",
      "  kc.drop(index, inplace=True)\n",
      "C:\\Users\\yunseolp\\AppData\\Local\\Temp\\ipykernel_15032\\3231749877.py:9: SettingWithCopyWarning: \n",
      "A value is trying to be set on a copy of a slice from a DataFrame\n",
      "\n",
      "See the caveats in the documentation: https://pandas.pydata.org/pandas-docs/stable/user_guide/indexing.html#returning-a-view-versus-a-copy\n",
      "  kc.drop(index, inplace=True)\n",
      "C:\\Users\\yunseolp\\AppData\\Local\\Temp\\ipykernel_15032\\3231749877.py:9: SettingWithCopyWarning: \n",
      "A value is trying to be set on a copy of a slice from a DataFrame\n",
      "\n",
      "See the caveats in the documentation: https://pandas.pydata.org/pandas-docs/stable/user_guide/indexing.html#returning-a-view-versus-a-copy\n",
      "  kc.drop(index, inplace=True)\n",
      "C:\\Users\\yunseolp\\AppData\\Local\\Temp\\ipykernel_15032\\3231749877.py:9: SettingWithCopyWarning: \n",
      "A value is trying to be set on a copy of a slice from a DataFrame\n",
      "\n",
      "See the caveats in the documentation: https://pandas.pydata.org/pandas-docs/stable/user_guide/indexing.html#returning-a-view-versus-a-copy\n",
      "  kc.drop(index, inplace=True)\n",
      "C:\\Users\\yunseolp\\AppData\\Local\\Temp\\ipykernel_15032\\3231749877.py:9: SettingWithCopyWarning: \n",
      "A value is trying to be set on a copy of a slice from a DataFrame\n",
      "\n",
      "See the caveats in the documentation: https://pandas.pydata.org/pandas-docs/stable/user_guide/indexing.html#returning-a-view-versus-a-copy\n",
      "  kc.drop(index, inplace=True)\n",
      "C:\\Users\\yunseolp\\AppData\\Local\\Temp\\ipykernel_15032\\3231749877.py:9: SettingWithCopyWarning: \n",
      "A value is trying to be set on a copy of a slice from a DataFrame\n",
      "\n",
      "See the caveats in the documentation: https://pandas.pydata.org/pandas-docs/stable/user_guide/indexing.html#returning-a-view-versus-a-copy\n",
      "  kc.drop(index, inplace=True)\n",
      "C:\\Users\\yunseolp\\AppData\\Local\\Temp\\ipykernel_15032\\3231749877.py:9: SettingWithCopyWarning: \n",
      "A value is trying to be set on a copy of a slice from a DataFrame\n",
      "\n",
      "See the caveats in the documentation: https://pandas.pydata.org/pandas-docs/stable/user_guide/indexing.html#returning-a-view-versus-a-copy\n",
      "  kc.drop(index, inplace=True)\n",
      "C:\\Users\\yunseolp\\AppData\\Local\\Temp\\ipykernel_15032\\3231749877.py:9: SettingWithCopyWarning: \n",
      "A value is trying to be set on a copy of a slice from a DataFrame\n",
      "\n",
      "See the caveats in the documentation: https://pandas.pydata.org/pandas-docs/stable/user_guide/indexing.html#returning-a-view-versus-a-copy\n",
      "  kc.drop(index, inplace=True)\n",
      "C:\\Users\\yunseolp\\AppData\\Local\\Temp\\ipykernel_15032\\3231749877.py:9: SettingWithCopyWarning: \n",
      "A value is trying to be set on a copy of a slice from a DataFrame\n",
      "\n",
      "See the caveats in the documentation: https://pandas.pydata.org/pandas-docs/stable/user_guide/indexing.html#returning-a-view-versus-a-copy\n",
      "  kc.drop(index, inplace=True)\n",
      "C:\\Users\\yunseolp\\AppData\\Local\\Temp\\ipykernel_15032\\3231749877.py:9: SettingWithCopyWarning: \n",
      "A value is trying to be set on a copy of a slice from a DataFrame\n",
      "\n",
      "See the caveats in the documentation: https://pandas.pydata.org/pandas-docs/stable/user_guide/indexing.html#returning-a-view-versus-a-copy\n",
      "  kc.drop(index, inplace=True)\n",
      "C:\\Users\\yunseolp\\AppData\\Local\\Temp\\ipykernel_15032\\3231749877.py:9: SettingWithCopyWarning: \n",
      "A value is trying to be set on a copy of a slice from a DataFrame\n",
      "\n",
      "See the caveats in the documentation: https://pandas.pydata.org/pandas-docs/stable/user_guide/indexing.html#returning-a-view-versus-a-copy\n",
      "  kc.drop(index, inplace=True)\n",
      "C:\\Users\\yunseolp\\AppData\\Local\\Temp\\ipykernel_15032\\3231749877.py:9: SettingWithCopyWarning: \n",
      "A value is trying to be set on a copy of a slice from a DataFrame\n",
      "\n",
      "See the caveats in the documentation: https://pandas.pydata.org/pandas-docs/stable/user_guide/indexing.html#returning-a-view-versus-a-copy\n",
      "  kc.drop(index, inplace=True)\n",
      "C:\\Users\\yunseolp\\AppData\\Local\\Temp\\ipykernel_15032\\3231749877.py:9: SettingWithCopyWarning: \n",
      "A value is trying to be set on a copy of a slice from a DataFrame\n",
      "\n",
      "See the caveats in the documentation: https://pandas.pydata.org/pandas-docs/stable/user_guide/indexing.html#returning-a-view-versus-a-copy\n",
      "  kc.drop(index, inplace=True)\n",
      "C:\\Users\\yunseolp\\AppData\\Local\\Temp\\ipykernel_15032\\3231749877.py:9: SettingWithCopyWarning: \n",
      "A value is trying to be set on a copy of a slice from a DataFrame\n",
      "\n",
      "See the caveats in the documentation: https://pandas.pydata.org/pandas-docs/stable/user_guide/indexing.html#returning-a-view-versus-a-copy\n",
      "  kc.drop(index, inplace=True)\n",
      "C:\\Users\\yunseolp\\AppData\\Local\\Temp\\ipykernel_15032\\3231749877.py:9: SettingWithCopyWarning: \n",
      "A value is trying to be set on a copy of a slice from a DataFrame\n",
      "\n",
      "See the caveats in the documentation: https://pandas.pydata.org/pandas-docs/stable/user_guide/indexing.html#returning-a-view-versus-a-copy\n",
      "  kc.drop(index, inplace=True)\n",
      "C:\\Users\\yunseolp\\AppData\\Local\\Temp\\ipykernel_15032\\3231749877.py:9: SettingWithCopyWarning: \n",
      "A value is trying to be set on a copy of a slice from a DataFrame\n",
      "\n",
      "See the caveats in the documentation: https://pandas.pydata.org/pandas-docs/stable/user_guide/indexing.html#returning-a-view-versus-a-copy\n",
      "  kc.drop(index, inplace=True)\n",
      "C:\\Users\\yunseolp\\AppData\\Local\\Temp\\ipykernel_15032\\3231749877.py:9: SettingWithCopyWarning: \n",
      "A value is trying to be set on a copy of a slice from a DataFrame\n",
      "\n",
      "See the caveats in the documentation: https://pandas.pydata.org/pandas-docs/stable/user_guide/indexing.html#returning-a-view-versus-a-copy\n",
      "  kc.drop(index, inplace=True)\n",
      "C:\\Users\\yunseolp\\AppData\\Local\\Temp\\ipykernel_15032\\3231749877.py:9: SettingWithCopyWarning: \n",
      "A value is trying to be set on a copy of a slice from a DataFrame\n",
      "\n",
      "See the caveats in the documentation: https://pandas.pydata.org/pandas-docs/stable/user_guide/indexing.html#returning-a-view-versus-a-copy\n",
      "  kc.drop(index, inplace=True)\n",
      "C:\\Users\\yunseolp\\AppData\\Local\\Temp\\ipykernel_15032\\3231749877.py:9: SettingWithCopyWarning: \n",
      "A value is trying to be set on a copy of a slice from a DataFrame\n",
      "\n",
      "See the caveats in the documentation: https://pandas.pydata.org/pandas-docs/stable/user_guide/indexing.html#returning-a-view-versus-a-copy\n",
      "  kc.drop(index, inplace=True)\n",
      "C:\\Users\\yunseolp\\AppData\\Local\\Temp\\ipykernel_15032\\3231749877.py:9: SettingWithCopyWarning: \n",
      "A value is trying to be set on a copy of a slice from a DataFrame\n",
      "\n",
      "See the caveats in the documentation: https://pandas.pydata.org/pandas-docs/stable/user_guide/indexing.html#returning-a-view-versus-a-copy\n",
      "  kc.drop(index, inplace=True)\n",
      "C:\\Users\\yunseolp\\AppData\\Local\\Temp\\ipykernel_15032\\3231749877.py:9: SettingWithCopyWarning: \n",
      "A value is trying to be set on a copy of a slice from a DataFrame\n",
      "\n",
      "See the caveats in the documentation: https://pandas.pydata.org/pandas-docs/stable/user_guide/indexing.html#returning-a-view-versus-a-copy\n",
      "  kc.drop(index, inplace=True)\n",
      "C:\\Users\\yunseolp\\AppData\\Local\\Temp\\ipykernel_15032\\3231749877.py:9: SettingWithCopyWarning: \n",
      "A value is trying to be set on a copy of a slice from a DataFrame\n",
      "\n",
      "See the caveats in the documentation: https://pandas.pydata.org/pandas-docs/stable/user_guide/indexing.html#returning-a-view-versus-a-copy\n",
      "  kc.drop(index, inplace=True)\n",
      "C:\\Users\\yunseolp\\AppData\\Local\\Temp\\ipykernel_15032\\3231749877.py:9: SettingWithCopyWarning: \n",
      "A value is trying to be set on a copy of a slice from a DataFrame\n",
      "\n",
      "See the caveats in the documentation: https://pandas.pydata.org/pandas-docs/stable/user_guide/indexing.html#returning-a-view-versus-a-copy\n",
      "  kc.drop(index, inplace=True)\n",
      "C:\\Users\\yunseolp\\AppData\\Local\\Temp\\ipykernel_15032\\3231749877.py:9: SettingWithCopyWarning: \n",
      "A value is trying to be set on a copy of a slice from a DataFrame\n",
      "\n",
      "See the caveats in the documentation: https://pandas.pydata.org/pandas-docs/stable/user_guide/indexing.html#returning-a-view-versus-a-copy\n",
      "  kc.drop(index, inplace=True)\n",
      "C:\\Users\\yunseolp\\AppData\\Local\\Temp\\ipykernel_15032\\3231749877.py:9: SettingWithCopyWarning: \n",
      "A value is trying to be set on a copy of a slice from a DataFrame\n",
      "\n",
      "See the caveats in the documentation: https://pandas.pydata.org/pandas-docs/stable/user_guide/indexing.html#returning-a-view-versus-a-copy\n",
      "  kc.drop(index, inplace=True)\n",
      "C:\\Users\\yunseolp\\AppData\\Local\\Temp\\ipykernel_15032\\3231749877.py:9: SettingWithCopyWarning: \n",
      "A value is trying to be set on a copy of a slice from a DataFrame\n",
      "\n",
      "See the caveats in the documentation: https://pandas.pydata.org/pandas-docs/stable/user_guide/indexing.html#returning-a-view-versus-a-copy\n",
      "  kc.drop(index, inplace=True)\n",
      "C:\\Users\\yunseolp\\AppData\\Local\\Temp\\ipykernel_15032\\3231749877.py:9: SettingWithCopyWarning: \n",
      "A value is trying to be set on a copy of a slice from a DataFrame\n",
      "\n",
      "See the caveats in the documentation: https://pandas.pydata.org/pandas-docs/stable/user_guide/indexing.html#returning-a-view-versus-a-copy\n",
      "  kc.drop(index, inplace=True)\n",
      "C:\\Users\\yunseolp\\AppData\\Local\\Temp\\ipykernel_15032\\3231749877.py:9: SettingWithCopyWarning: \n",
      "A value is trying to be set on a copy of a slice from a DataFrame\n",
      "\n",
      "See the caveats in the documentation: https://pandas.pydata.org/pandas-docs/stable/user_guide/indexing.html#returning-a-view-versus-a-copy\n",
      "  kc.drop(index, inplace=True)\n",
      "C:\\Users\\yunseolp\\AppData\\Local\\Temp\\ipykernel_15032\\3231749877.py:9: SettingWithCopyWarning: \n",
      "A value is trying to be set on a copy of a slice from a DataFrame\n",
      "\n",
      "See the caveats in the documentation: https://pandas.pydata.org/pandas-docs/stable/user_guide/indexing.html#returning-a-view-versus-a-copy\n",
      "  kc.drop(index, inplace=True)\n",
      "C:\\Users\\yunseolp\\AppData\\Local\\Temp\\ipykernel_15032\\3231749877.py:9: SettingWithCopyWarning: \n",
      "A value is trying to be set on a copy of a slice from a DataFrame\n",
      "\n",
      "See the caveats in the documentation: https://pandas.pydata.org/pandas-docs/stable/user_guide/indexing.html#returning-a-view-versus-a-copy\n",
      "  kc.drop(index, inplace=True)\n",
      "C:\\Users\\yunseolp\\AppData\\Local\\Temp\\ipykernel_15032\\3231749877.py:9: SettingWithCopyWarning: \n",
      "A value is trying to be set on a copy of a slice from a DataFrame\n",
      "\n",
      "See the caveats in the documentation: https://pandas.pydata.org/pandas-docs/stable/user_guide/indexing.html#returning-a-view-versus-a-copy\n",
      "  kc.drop(index, inplace=True)\n",
      "C:\\Users\\yunseolp\\AppData\\Local\\Temp\\ipykernel_15032\\3231749877.py:9: SettingWithCopyWarning: \n",
      "A value is trying to be set on a copy of a slice from a DataFrame\n",
      "\n",
      "See the caveats in the documentation: https://pandas.pydata.org/pandas-docs/stable/user_guide/indexing.html#returning-a-view-versus-a-copy\n",
      "  kc.drop(index, inplace=True)\n",
      "C:\\Users\\yunseolp\\AppData\\Local\\Temp\\ipykernel_15032\\3231749877.py:9: SettingWithCopyWarning: \n",
      "A value is trying to be set on a copy of a slice from a DataFrame\n",
      "\n",
      "See the caveats in the documentation: https://pandas.pydata.org/pandas-docs/stable/user_guide/indexing.html#returning-a-view-versus-a-copy\n",
      "  kc.drop(index, inplace=True)\n",
      "C:\\Users\\yunseolp\\AppData\\Local\\Temp\\ipykernel_15032\\3231749877.py:9: SettingWithCopyWarning: \n",
      "A value is trying to be set on a copy of a slice from a DataFrame\n",
      "\n",
      "See the caveats in the documentation: https://pandas.pydata.org/pandas-docs/stable/user_guide/indexing.html#returning-a-view-versus-a-copy\n",
      "  kc.drop(index, inplace=True)\n",
      "C:\\Users\\yunseolp\\AppData\\Local\\Temp\\ipykernel_15032\\3231749877.py:9: SettingWithCopyWarning: \n",
      "A value is trying to be set on a copy of a slice from a DataFrame\n",
      "\n",
      "See the caveats in the documentation: https://pandas.pydata.org/pandas-docs/stable/user_guide/indexing.html#returning-a-view-versus-a-copy\n",
      "  kc.drop(index, inplace=True)\n",
      "C:\\Users\\yunseolp\\AppData\\Local\\Temp\\ipykernel_15032\\3231749877.py:9: SettingWithCopyWarning: \n",
      "A value is trying to be set on a copy of a slice from a DataFrame\n",
      "\n",
      "See the caveats in the documentation: https://pandas.pydata.org/pandas-docs/stable/user_guide/indexing.html#returning-a-view-versus-a-copy\n",
      "  kc.drop(index, inplace=True)\n",
      "C:\\Users\\yunseolp\\AppData\\Local\\Temp\\ipykernel_15032\\3231749877.py:9: SettingWithCopyWarning: \n",
      "A value is trying to be set on a copy of a slice from a DataFrame\n",
      "\n",
      "See the caveats in the documentation: https://pandas.pydata.org/pandas-docs/stable/user_guide/indexing.html#returning-a-view-versus-a-copy\n",
      "  kc.drop(index, inplace=True)\n",
      "C:\\Users\\yunseolp\\AppData\\Local\\Temp\\ipykernel_15032\\3231749877.py:9: SettingWithCopyWarning: \n",
      "A value is trying to be set on a copy of a slice from a DataFrame\n",
      "\n",
      "See the caveats in the documentation: https://pandas.pydata.org/pandas-docs/stable/user_guide/indexing.html#returning-a-view-versus-a-copy\n",
      "  kc.drop(index, inplace=True)\n",
      "C:\\Users\\yunseolp\\AppData\\Local\\Temp\\ipykernel_15032\\3231749877.py:9: SettingWithCopyWarning: \n",
      "A value is trying to be set on a copy of a slice from a DataFrame\n",
      "\n",
      "See the caveats in the documentation: https://pandas.pydata.org/pandas-docs/stable/user_guide/indexing.html#returning-a-view-versus-a-copy\n",
      "  kc.drop(index, inplace=True)\n",
      "C:\\Users\\yunseolp\\AppData\\Local\\Temp\\ipykernel_15032\\3231749877.py:9: SettingWithCopyWarning: \n",
      "A value is trying to be set on a copy of a slice from a DataFrame\n",
      "\n",
      "See the caveats in the documentation: https://pandas.pydata.org/pandas-docs/stable/user_guide/indexing.html#returning-a-view-versus-a-copy\n",
      "  kc.drop(index, inplace=True)\n",
      "C:\\Users\\yunseolp\\AppData\\Local\\Temp\\ipykernel_15032\\3231749877.py:9: SettingWithCopyWarning: \n",
      "A value is trying to be set on a copy of a slice from a DataFrame\n",
      "\n",
      "See the caveats in the documentation: https://pandas.pydata.org/pandas-docs/stable/user_guide/indexing.html#returning-a-view-versus-a-copy\n",
      "  kc.drop(index, inplace=True)\n",
      "C:\\Users\\yunseolp\\AppData\\Local\\Temp\\ipykernel_15032\\3231749877.py:9: SettingWithCopyWarning: \n",
      "A value is trying to be set on a copy of a slice from a DataFrame\n",
      "\n",
      "See the caveats in the documentation: https://pandas.pydata.org/pandas-docs/stable/user_guide/indexing.html#returning-a-view-versus-a-copy\n",
      "  kc.drop(index, inplace=True)\n",
      "C:\\Users\\yunseolp\\AppData\\Local\\Temp\\ipykernel_15032\\3231749877.py:9: SettingWithCopyWarning: \n",
      "A value is trying to be set on a copy of a slice from a DataFrame\n",
      "\n",
      "See the caveats in the documentation: https://pandas.pydata.org/pandas-docs/stable/user_guide/indexing.html#returning-a-view-versus-a-copy\n",
      "  kc.drop(index, inplace=True)\n",
      "C:\\Users\\yunseolp\\AppData\\Local\\Temp\\ipykernel_15032\\3231749877.py:9: SettingWithCopyWarning: \n",
      "A value is trying to be set on a copy of a slice from a DataFrame\n",
      "\n",
      "See the caveats in the documentation: https://pandas.pydata.org/pandas-docs/stable/user_guide/indexing.html#returning-a-view-versus-a-copy\n",
      "  kc.drop(index, inplace=True)\n",
      "C:\\Users\\yunseolp\\AppData\\Local\\Temp\\ipykernel_15032\\3231749877.py:9: SettingWithCopyWarning: \n",
      "A value is trying to be set on a copy of a slice from a DataFrame\n",
      "\n",
      "See the caveats in the documentation: https://pandas.pydata.org/pandas-docs/stable/user_guide/indexing.html#returning-a-view-versus-a-copy\n",
      "  kc.drop(index, inplace=True)\n",
      "C:\\Users\\yunseolp\\AppData\\Local\\Temp\\ipykernel_15032\\3231749877.py:9: SettingWithCopyWarning: \n",
      "A value is trying to be set on a copy of a slice from a DataFrame\n",
      "\n",
      "See the caveats in the documentation: https://pandas.pydata.org/pandas-docs/stable/user_guide/indexing.html#returning-a-view-versus-a-copy\n",
      "  kc.drop(index, inplace=True)\n",
      "C:\\Users\\yunseolp\\AppData\\Local\\Temp\\ipykernel_15032\\3231749877.py:9: SettingWithCopyWarning: \n",
      "A value is trying to be set on a copy of a slice from a DataFrame\n",
      "\n",
      "See the caveats in the documentation: https://pandas.pydata.org/pandas-docs/stable/user_guide/indexing.html#returning-a-view-versus-a-copy\n",
      "  kc.drop(index, inplace=True)\n",
      "C:\\Users\\yunseolp\\AppData\\Local\\Temp\\ipykernel_15032\\3231749877.py:9: SettingWithCopyWarning: \n",
      "A value is trying to be set on a copy of a slice from a DataFrame\n",
      "\n",
      "See the caveats in the documentation: https://pandas.pydata.org/pandas-docs/stable/user_guide/indexing.html#returning-a-view-versus-a-copy\n",
      "  kc.drop(index, inplace=True)\n",
      "C:\\Users\\yunseolp\\AppData\\Local\\Temp\\ipykernel_15032\\3231749877.py:9: SettingWithCopyWarning: \n",
      "A value is trying to be set on a copy of a slice from a DataFrame\n",
      "\n",
      "See the caveats in the documentation: https://pandas.pydata.org/pandas-docs/stable/user_guide/indexing.html#returning-a-view-versus-a-copy\n",
      "  kc.drop(index, inplace=True)\n",
      "C:\\Users\\yunseolp\\AppData\\Local\\Temp\\ipykernel_15032\\3231749877.py:9: SettingWithCopyWarning: \n",
      "A value is trying to be set on a copy of a slice from a DataFrame\n",
      "\n",
      "See the caveats in the documentation: https://pandas.pydata.org/pandas-docs/stable/user_guide/indexing.html#returning-a-view-versus-a-copy\n",
      "  kc.drop(index, inplace=True)\n",
      "C:\\Users\\yunseolp\\AppData\\Local\\Temp\\ipykernel_15032\\3231749877.py:9: SettingWithCopyWarning: \n",
      "A value is trying to be set on a copy of a slice from a DataFrame\n",
      "\n",
      "See the caveats in the documentation: https://pandas.pydata.org/pandas-docs/stable/user_guide/indexing.html#returning-a-view-versus-a-copy\n",
      "  kc.drop(index, inplace=True)\n",
      "C:\\Users\\yunseolp\\AppData\\Local\\Temp\\ipykernel_15032\\3231749877.py:9: SettingWithCopyWarning: \n",
      "A value is trying to be set on a copy of a slice from a DataFrame\n",
      "\n",
      "See the caveats in the documentation: https://pandas.pydata.org/pandas-docs/stable/user_guide/indexing.html#returning-a-view-versus-a-copy\n",
      "  kc.drop(index, inplace=True)\n",
      "C:\\Users\\yunseolp\\AppData\\Local\\Temp\\ipykernel_15032\\3231749877.py:9: SettingWithCopyWarning: \n",
      "A value is trying to be set on a copy of a slice from a DataFrame\n",
      "\n",
      "See the caveats in the documentation: https://pandas.pydata.org/pandas-docs/stable/user_guide/indexing.html#returning-a-view-versus-a-copy\n",
      "  kc.drop(index, inplace=True)\n",
      "C:\\Users\\yunseolp\\AppData\\Local\\Temp\\ipykernel_15032\\3231749877.py:9: SettingWithCopyWarning: \n",
      "A value is trying to be set on a copy of a slice from a DataFrame\n",
      "\n",
      "See the caveats in the documentation: https://pandas.pydata.org/pandas-docs/stable/user_guide/indexing.html#returning-a-view-versus-a-copy\n",
      "  kc.drop(index, inplace=True)\n",
      "C:\\Users\\yunseolp\\AppData\\Local\\Temp\\ipykernel_15032\\3231749877.py:9: SettingWithCopyWarning: \n",
      "A value is trying to be set on a copy of a slice from a DataFrame\n",
      "\n",
      "See the caveats in the documentation: https://pandas.pydata.org/pandas-docs/stable/user_guide/indexing.html#returning-a-view-versus-a-copy\n",
      "  kc.drop(index, inplace=True)\n",
      "C:\\Users\\yunseolp\\AppData\\Local\\Temp\\ipykernel_15032\\3231749877.py:9: SettingWithCopyWarning: \n",
      "A value is trying to be set on a copy of a slice from a DataFrame\n",
      "\n",
      "See the caveats in the documentation: https://pandas.pydata.org/pandas-docs/stable/user_guide/indexing.html#returning-a-view-versus-a-copy\n",
      "  kc.drop(index, inplace=True)\n",
      "C:\\Users\\yunseolp\\AppData\\Local\\Temp\\ipykernel_15032\\3231749877.py:9: SettingWithCopyWarning: \n",
      "A value is trying to be set on a copy of a slice from a DataFrame\n",
      "\n",
      "See the caveats in the documentation: https://pandas.pydata.org/pandas-docs/stable/user_guide/indexing.html#returning-a-view-versus-a-copy\n",
      "  kc.drop(index, inplace=True)\n",
      "C:\\Users\\yunseolp\\AppData\\Local\\Temp\\ipykernel_15032\\3231749877.py:9: SettingWithCopyWarning: \n",
      "A value is trying to be set on a copy of a slice from a DataFrame\n",
      "\n",
      "See the caveats in the documentation: https://pandas.pydata.org/pandas-docs/stable/user_guide/indexing.html#returning-a-view-versus-a-copy\n",
      "  kc.drop(index, inplace=True)\n",
      "C:\\Users\\yunseolp\\AppData\\Local\\Temp\\ipykernel_15032\\3231749877.py:9: SettingWithCopyWarning: \n",
      "A value is trying to be set on a copy of a slice from a DataFrame\n",
      "\n",
      "See the caveats in the documentation: https://pandas.pydata.org/pandas-docs/stable/user_guide/indexing.html#returning-a-view-versus-a-copy\n",
      "  kc.drop(index, inplace=True)\n",
      "C:\\Users\\yunseolp\\AppData\\Local\\Temp\\ipykernel_15032\\3231749877.py:9: SettingWithCopyWarning: \n",
      "A value is trying to be set on a copy of a slice from a DataFrame\n",
      "\n",
      "See the caveats in the documentation: https://pandas.pydata.org/pandas-docs/stable/user_guide/indexing.html#returning-a-view-versus-a-copy\n",
      "  kc.drop(index, inplace=True)\n",
      "C:\\Users\\yunseolp\\AppData\\Local\\Temp\\ipykernel_15032\\3231749877.py:9: SettingWithCopyWarning: \n",
      "A value is trying to be set on a copy of a slice from a DataFrame\n",
      "\n",
      "See the caveats in the documentation: https://pandas.pydata.org/pandas-docs/stable/user_guide/indexing.html#returning-a-view-versus-a-copy\n",
      "  kc.drop(index, inplace=True)\n",
      "C:\\Users\\yunseolp\\AppData\\Local\\Temp\\ipykernel_15032\\3231749877.py:9: SettingWithCopyWarning: \n",
      "A value is trying to be set on a copy of a slice from a DataFrame\n",
      "\n",
      "See the caveats in the documentation: https://pandas.pydata.org/pandas-docs/stable/user_guide/indexing.html#returning-a-view-versus-a-copy\n",
      "  kc.drop(index, inplace=True)\n",
      "C:\\Users\\yunseolp\\AppData\\Local\\Temp\\ipykernel_15032\\3231749877.py:9: SettingWithCopyWarning: \n",
      "A value is trying to be set on a copy of a slice from a DataFrame\n",
      "\n",
      "See the caveats in the documentation: https://pandas.pydata.org/pandas-docs/stable/user_guide/indexing.html#returning-a-view-versus-a-copy\n",
      "  kc.drop(index, inplace=True)\n",
      "C:\\Users\\yunseolp\\AppData\\Local\\Temp\\ipykernel_15032\\3231749877.py:9: SettingWithCopyWarning: \n",
      "A value is trying to be set on a copy of a slice from a DataFrame\n",
      "\n",
      "See the caveats in the documentation: https://pandas.pydata.org/pandas-docs/stable/user_guide/indexing.html#returning-a-view-versus-a-copy\n",
      "  kc.drop(index, inplace=True)\n",
      "C:\\Users\\yunseolp\\AppData\\Local\\Temp\\ipykernel_15032\\3231749877.py:9: SettingWithCopyWarning: \n",
      "A value is trying to be set on a copy of a slice from a DataFrame\n",
      "\n",
      "See the caveats in the documentation: https://pandas.pydata.org/pandas-docs/stable/user_guide/indexing.html#returning-a-view-versus-a-copy\n",
      "  kc.drop(index, inplace=True)\n",
      "C:\\Users\\yunseolp\\AppData\\Local\\Temp\\ipykernel_15032\\3231749877.py:9: SettingWithCopyWarning: \n",
      "A value is trying to be set on a copy of a slice from a DataFrame\n",
      "\n",
      "See the caveats in the documentation: https://pandas.pydata.org/pandas-docs/stable/user_guide/indexing.html#returning-a-view-versus-a-copy\n",
      "  kc.drop(index, inplace=True)\n",
      "C:\\Users\\yunseolp\\AppData\\Local\\Temp\\ipykernel_15032\\3231749877.py:9: SettingWithCopyWarning: \n",
      "A value is trying to be set on a copy of a slice from a DataFrame\n",
      "\n",
      "See the caveats in the documentation: https://pandas.pydata.org/pandas-docs/stable/user_guide/indexing.html#returning-a-view-versus-a-copy\n",
      "  kc.drop(index, inplace=True)\n",
      "C:\\Users\\yunseolp\\AppData\\Local\\Temp\\ipykernel_15032\\3231749877.py:9: SettingWithCopyWarning: \n",
      "A value is trying to be set on a copy of a slice from a DataFrame\n",
      "\n",
      "See the caveats in the documentation: https://pandas.pydata.org/pandas-docs/stable/user_guide/indexing.html#returning-a-view-versus-a-copy\n",
      "  kc.drop(index, inplace=True)\n",
      "C:\\Users\\yunseolp\\AppData\\Local\\Temp\\ipykernel_15032\\3231749877.py:9: SettingWithCopyWarning: \n",
      "A value is trying to be set on a copy of a slice from a DataFrame\n",
      "\n",
      "See the caveats in the documentation: https://pandas.pydata.org/pandas-docs/stable/user_guide/indexing.html#returning-a-view-versus-a-copy\n",
      "  kc.drop(index, inplace=True)\n",
      "C:\\Users\\yunseolp\\AppData\\Local\\Temp\\ipykernel_15032\\3231749877.py:9: SettingWithCopyWarning: \n",
      "A value is trying to be set on a copy of a slice from a DataFrame\n",
      "\n",
      "See the caveats in the documentation: https://pandas.pydata.org/pandas-docs/stable/user_guide/indexing.html#returning-a-view-versus-a-copy\n",
      "  kc.drop(index, inplace=True)\n",
      "C:\\Users\\yunseolp\\AppData\\Local\\Temp\\ipykernel_15032\\3231749877.py:9: SettingWithCopyWarning: \n",
      "A value is trying to be set on a copy of a slice from a DataFrame\n",
      "\n",
      "See the caveats in the documentation: https://pandas.pydata.org/pandas-docs/stable/user_guide/indexing.html#returning-a-view-versus-a-copy\n",
      "  kc.drop(index, inplace=True)\n",
      "C:\\Users\\yunseolp\\AppData\\Local\\Temp\\ipykernel_15032\\3231749877.py:9: SettingWithCopyWarning: \n",
      "A value is trying to be set on a copy of a slice from a DataFrame\n",
      "\n",
      "See the caveats in the documentation: https://pandas.pydata.org/pandas-docs/stable/user_guide/indexing.html#returning-a-view-versus-a-copy\n",
      "  kc.drop(index, inplace=True)\n",
      "C:\\Users\\yunseolp\\AppData\\Local\\Temp\\ipykernel_15032\\3231749877.py:9: SettingWithCopyWarning: \n",
      "A value is trying to be set on a copy of a slice from a DataFrame\n",
      "\n",
      "See the caveats in the documentation: https://pandas.pydata.org/pandas-docs/stable/user_guide/indexing.html#returning-a-view-versus-a-copy\n",
      "  kc.drop(index, inplace=True)\n",
      "C:\\Users\\yunseolp\\AppData\\Local\\Temp\\ipykernel_15032\\3231749877.py:9: SettingWithCopyWarning: \n",
      "A value is trying to be set on a copy of a slice from a DataFrame\n",
      "\n",
      "See the caveats in the documentation: https://pandas.pydata.org/pandas-docs/stable/user_guide/indexing.html#returning-a-view-versus-a-copy\n",
      "  kc.drop(index, inplace=True)\n",
      "C:\\Users\\yunseolp\\AppData\\Local\\Temp\\ipykernel_15032\\3231749877.py:9: SettingWithCopyWarning: \n",
      "A value is trying to be set on a copy of a slice from a DataFrame\n",
      "\n",
      "See the caveats in the documentation: https://pandas.pydata.org/pandas-docs/stable/user_guide/indexing.html#returning-a-view-versus-a-copy\n",
      "  kc.drop(index, inplace=True)\n",
      "C:\\Users\\yunseolp\\AppData\\Local\\Temp\\ipykernel_15032\\3231749877.py:9: SettingWithCopyWarning: \n",
      "A value is trying to be set on a copy of a slice from a DataFrame\n",
      "\n",
      "See the caveats in the documentation: https://pandas.pydata.org/pandas-docs/stable/user_guide/indexing.html#returning-a-view-versus-a-copy\n",
      "  kc.drop(index, inplace=True)\n",
      "C:\\Users\\yunseolp\\AppData\\Local\\Temp\\ipykernel_15032\\3231749877.py:9: SettingWithCopyWarning: \n",
      "A value is trying to be set on a copy of a slice from a DataFrame\n",
      "\n",
      "See the caveats in the documentation: https://pandas.pydata.org/pandas-docs/stable/user_guide/indexing.html#returning-a-view-versus-a-copy\n",
      "  kc.drop(index, inplace=True)\n",
      "C:\\Users\\yunseolp\\AppData\\Local\\Temp\\ipykernel_15032\\3231749877.py:9: SettingWithCopyWarning: \n",
      "A value is trying to be set on a copy of a slice from a DataFrame\n",
      "\n",
      "See the caveats in the documentation: https://pandas.pydata.org/pandas-docs/stable/user_guide/indexing.html#returning-a-view-versus-a-copy\n",
      "  kc.drop(index, inplace=True)\n",
      "C:\\Users\\yunseolp\\AppData\\Local\\Temp\\ipykernel_15032\\3231749877.py:9: SettingWithCopyWarning: \n",
      "A value is trying to be set on a copy of a slice from a DataFrame\n",
      "\n",
      "See the caveats in the documentation: https://pandas.pydata.org/pandas-docs/stable/user_guide/indexing.html#returning-a-view-versus-a-copy\n",
      "  kc.drop(index, inplace=True)\n",
      "C:\\Users\\yunseolp\\AppData\\Local\\Temp\\ipykernel_15032\\3231749877.py:9: SettingWithCopyWarning: \n",
      "A value is trying to be set on a copy of a slice from a DataFrame\n",
      "\n",
      "See the caveats in the documentation: https://pandas.pydata.org/pandas-docs/stable/user_guide/indexing.html#returning-a-view-versus-a-copy\n",
      "  kc.drop(index, inplace=True)\n",
      "C:\\Users\\yunseolp\\AppData\\Local\\Temp\\ipykernel_15032\\3231749877.py:9: SettingWithCopyWarning: \n",
      "A value is trying to be set on a copy of a slice from a DataFrame\n",
      "\n",
      "See the caveats in the documentation: https://pandas.pydata.org/pandas-docs/stable/user_guide/indexing.html#returning-a-view-versus-a-copy\n",
      "  kc.drop(index, inplace=True)\n",
      "C:\\Users\\yunseolp\\AppData\\Local\\Temp\\ipykernel_15032\\3231749877.py:9: SettingWithCopyWarning: \n",
      "A value is trying to be set on a copy of a slice from a DataFrame\n",
      "\n",
      "See the caveats in the documentation: https://pandas.pydata.org/pandas-docs/stable/user_guide/indexing.html#returning-a-view-versus-a-copy\n",
      "  kc.drop(index, inplace=True)\n",
      "C:\\Users\\yunseolp\\AppData\\Local\\Temp\\ipykernel_15032\\3231749877.py:9: SettingWithCopyWarning: \n",
      "A value is trying to be set on a copy of a slice from a DataFrame\n",
      "\n",
      "See the caveats in the documentation: https://pandas.pydata.org/pandas-docs/stable/user_guide/indexing.html#returning-a-view-versus-a-copy\n",
      "  kc.drop(index, inplace=True)\n",
      "C:\\Users\\yunseolp\\AppData\\Local\\Temp\\ipykernel_15032\\3231749877.py:9: SettingWithCopyWarning: \n",
      "A value is trying to be set on a copy of a slice from a DataFrame\n",
      "\n",
      "See the caveats in the documentation: https://pandas.pydata.org/pandas-docs/stable/user_guide/indexing.html#returning-a-view-versus-a-copy\n",
      "  kc.drop(index, inplace=True)\n",
      "C:\\Users\\yunseolp\\AppData\\Local\\Temp\\ipykernel_15032\\3231749877.py:9: SettingWithCopyWarning: \n",
      "A value is trying to be set on a copy of a slice from a DataFrame\n",
      "\n",
      "See the caveats in the documentation: https://pandas.pydata.org/pandas-docs/stable/user_guide/indexing.html#returning-a-view-versus-a-copy\n",
      "  kc.drop(index, inplace=True)\n",
      "C:\\Users\\yunseolp\\AppData\\Local\\Temp\\ipykernel_15032\\3231749877.py:9: SettingWithCopyWarning: \n",
      "A value is trying to be set on a copy of a slice from a DataFrame\n",
      "\n",
      "See the caveats in the documentation: https://pandas.pydata.org/pandas-docs/stable/user_guide/indexing.html#returning-a-view-versus-a-copy\n",
      "  kc.drop(index, inplace=True)\n",
      "C:\\Users\\yunseolp\\AppData\\Local\\Temp\\ipykernel_15032\\3231749877.py:9: SettingWithCopyWarning: \n",
      "A value is trying to be set on a copy of a slice from a DataFrame\n",
      "\n",
      "See the caveats in the documentation: https://pandas.pydata.org/pandas-docs/stable/user_guide/indexing.html#returning-a-view-versus-a-copy\n",
      "  kc.drop(index, inplace=True)\n",
      "C:\\Users\\yunseolp\\AppData\\Local\\Temp\\ipykernel_15032\\3231749877.py:9: SettingWithCopyWarning: \n",
      "A value is trying to be set on a copy of a slice from a DataFrame\n",
      "\n",
      "See the caveats in the documentation: https://pandas.pydata.org/pandas-docs/stable/user_guide/indexing.html#returning-a-view-versus-a-copy\n",
      "  kc.drop(index, inplace=True)\n",
      "C:\\Users\\yunseolp\\AppData\\Local\\Temp\\ipykernel_15032\\3231749877.py:9: SettingWithCopyWarning: \n",
      "A value is trying to be set on a copy of a slice from a DataFrame\n",
      "\n",
      "See the caveats in the documentation: https://pandas.pydata.org/pandas-docs/stable/user_guide/indexing.html#returning-a-view-versus-a-copy\n",
      "  kc.drop(index, inplace=True)\n",
      "C:\\Users\\yunseolp\\AppData\\Local\\Temp\\ipykernel_15032\\3231749877.py:9: SettingWithCopyWarning: \n",
      "A value is trying to be set on a copy of a slice from a DataFrame\n",
      "\n",
      "See the caveats in the documentation: https://pandas.pydata.org/pandas-docs/stable/user_guide/indexing.html#returning-a-view-versus-a-copy\n",
      "  kc.drop(index, inplace=True)\n",
      "C:\\Users\\yunseolp\\AppData\\Local\\Temp\\ipykernel_15032\\3231749877.py:9: SettingWithCopyWarning: \n",
      "A value is trying to be set on a copy of a slice from a DataFrame\n",
      "\n",
      "See the caveats in the documentation: https://pandas.pydata.org/pandas-docs/stable/user_guide/indexing.html#returning-a-view-versus-a-copy\n",
      "  kc.drop(index, inplace=True)\n",
      "C:\\Users\\yunseolp\\AppData\\Local\\Temp\\ipykernel_15032\\3231749877.py:9: SettingWithCopyWarning: \n",
      "A value is trying to be set on a copy of a slice from a DataFrame\n",
      "\n",
      "See the caveats in the documentation: https://pandas.pydata.org/pandas-docs/stable/user_guide/indexing.html#returning-a-view-versus-a-copy\n",
      "  kc.drop(index, inplace=True)\n",
      "C:\\Users\\yunseolp\\AppData\\Local\\Temp\\ipykernel_15032\\3231749877.py:9: SettingWithCopyWarning: \n",
      "A value is trying to be set on a copy of a slice from a DataFrame\n",
      "\n",
      "See the caveats in the documentation: https://pandas.pydata.org/pandas-docs/stable/user_guide/indexing.html#returning-a-view-versus-a-copy\n",
      "  kc.drop(index, inplace=True)\n",
      "C:\\Users\\yunseolp\\AppData\\Local\\Temp\\ipykernel_15032\\3231749877.py:9: SettingWithCopyWarning: \n",
      "A value is trying to be set on a copy of a slice from a DataFrame\n",
      "\n",
      "See the caveats in the documentation: https://pandas.pydata.org/pandas-docs/stable/user_guide/indexing.html#returning-a-view-versus-a-copy\n",
      "  kc.drop(index, inplace=True)\n",
      "C:\\Users\\yunseolp\\AppData\\Local\\Temp\\ipykernel_15032\\3231749877.py:9: SettingWithCopyWarning: \n",
      "A value is trying to be set on a copy of a slice from a DataFrame\n",
      "\n",
      "See the caveats in the documentation: https://pandas.pydata.org/pandas-docs/stable/user_guide/indexing.html#returning-a-view-versus-a-copy\n",
      "  kc.drop(index, inplace=True)\n",
      "C:\\Users\\yunseolp\\AppData\\Local\\Temp\\ipykernel_15032\\3231749877.py:9: SettingWithCopyWarning: \n",
      "A value is trying to be set on a copy of a slice from a DataFrame\n",
      "\n",
      "See the caveats in the documentation: https://pandas.pydata.org/pandas-docs/stable/user_guide/indexing.html#returning-a-view-versus-a-copy\n",
      "  kc.drop(index, inplace=True)\n",
      "C:\\Users\\yunseolp\\AppData\\Local\\Temp\\ipykernel_15032\\3231749877.py:9: SettingWithCopyWarning: \n",
      "A value is trying to be set on a copy of a slice from a DataFrame\n",
      "\n",
      "See the caveats in the documentation: https://pandas.pydata.org/pandas-docs/stable/user_guide/indexing.html#returning-a-view-versus-a-copy\n",
      "  kc.drop(index, inplace=True)\n",
      "C:\\Users\\yunseolp\\AppData\\Local\\Temp\\ipykernel_15032\\3231749877.py:9: SettingWithCopyWarning: \n",
      "A value is trying to be set on a copy of a slice from a DataFrame\n",
      "\n",
      "See the caveats in the documentation: https://pandas.pydata.org/pandas-docs/stable/user_guide/indexing.html#returning-a-view-versus-a-copy\n",
      "  kc.drop(index, inplace=True)\n",
      "C:\\Users\\yunseolp\\AppData\\Local\\Temp\\ipykernel_15032\\3231749877.py:9: SettingWithCopyWarning: \n",
      "A value is trying to be set on a copy of a slice from a DataFrame\n",
      "\n",
      "See the caveats in the documentation: https://pandas.pydata.org/pandas-docs/stable/user_guide/indexing.html#returning-a-view-versus-a-copy\n",
      "  kc.drop(index, inplace=True)\n",
      "C:\\Users\\yunseolp\\AppData\\Local\\Temp\\ipykernel_15032\\3231749877.py:9: SettingWithCopyWarning: \n",
      "A value is trying to be set on a copy of a slice from a DataFrame\n",
      "\n",
      "See the caveats in the documentation: https://pandas.pydata.org/pandas-docs/stable/user_guide/indexing.html#returning-a-view-versus-a-copy\n",
      "  kc.drop(index, inplace=True)\n",
      "C:\\Users\\yunseolp\\AppData\\Local\\Temp\\ipykernel_15032\\3231749877.py:9: SettingWithCopyWarning: \n",
      "A value is trying to be set on a copy of a slice from a DataFrame\n",
      "\n",
      "See the caveats in the documentation: https://pandas.pydata.org/pandas-docs/stable/user_guide/indexing.html#returning-a-view-versus-a-copy\n",
      "  kc.drop(index, inplace=True)\n",
      "C:\\Users\\yunseolp\\AppData\\Local\\Temp\\ipykernel_15032\\3231749877.py:9: SettingWithCopyWarning: \n",
      "A value is trying to be set on a copy of a slice from a DataFrame\n",
      "\n",
      "See the caveats in the documentation: https://pandas.pydata.org/pandas-docs/stable/user_guide/indexing.html#returning-a-view-versus-a-copy\n",
      "  kc.drop(index, inplace=True)\n",
      "C:\\Users\\yunseolp\\AppData\\Local\\Temp\\ipykernel_15032\\3231749877.py:9: SettingWithCopyWarning: \n",
      "A value is trying to be set on a copy of a slice from a DataFrame\n",
      "\n",
      "See the caveats in the documentation: https://pandas.pydata.org/pandas-docs/stable/user_guide/indexing.html#returning-a-view-versus-a-copy\n",
      "  kc.drop(index, inplace=True)\n",
      "C:\\Users\\yunseolp\\AppData\\Local\\Temp\\ipykernel_15032\\3231749877.py:9: SettingWithCopyWarning: \n",
      "A value is trying to be set on a copy of a slice from a DataFrame\n",
      "\n",
      "See the caveats in the documentation: https://pandas.pydata.org/pandas-docs/stable/user_guide/indexing.html#returning-a-view-versus-a-copy\n",
      "  kc.drop(index, inplace=True)\n",
      "C:\\Users\\yunseolp\\AppData\\Local\\Temp\\ipykernel_15032\\3231749877.py:9: SettingWithCopyWarning: \n",
      "A value is trying to be set on a copy of a slice from a DataFrame\n",
      "\n",
      "See the caveats in the documentation: https://pandas.pydata.org/pandas-docs/stable/user_guide/indexing.html#returning-a-view-versus-a-copy\n",
      "  kc.drop(index, inplace=True)\n",
      "C:\\Users\\yunseolp\\AppData\\Local\\Temp\\ipykernel_15032\\3231749877.py:9: SettingWithCopyWarning: \n",
      "A value is trying to be set on a copy of a slice from a DataFrame\n",
      "\n",
      "See the caveats in the documentation: https://pandas.pydata.org/pandas-docs/stable/user_guide/indexing.html#returning-a-view-versus-a-copy\n",
      "  kc.drop(index, inplace=True)\n"
     ]
    }
   ],
   "source": [
    "# Result for KCs\n",
    "kc = coexp_cc_df[(coexp_cc_df['cell1_type']=='KCs')&(coexp_cc_df['coactivity']>0)]\n",
    "# Iter over the two macrophages and remove any rows from the kc that exist in the two macrophages\n",
    "for _, momac_row in momac.iterrows():\n",
    "    mo_cell = momac_row['cell2_type']\n",
    "    mo_ligand = momac_row['ligand']\n",
    "    for index, row in kc.iterrows():\n",
    "        cell = row['cell2_type']\n",
    "        ligand = row['ligand']\n",
    "        if cell == mo_cell and ligand == mo_ligand:\n",
    "            kc.drop(index, inplace=True)"
   ]
  },
  {
   "cell_type": "code",
   "execution_count": 15,
   "metadata": {},
   "outputs": [
    {
     "data": {
      "text/html": [
       "<div>\n",
       "<style scoped>\n",
       "    .dataframe tbody tr th:only-of-type {\n",
       "        vertical-align: middle;\n",
       "    }\n",
       "\n",
       "    .dataframe tbody tr th {\n",
       "        vertical-align: top;\n",
       "    }\n",
       "\n",
       "    .dataframe thead th {\n",
       "        text-align: right;\n",
       "    }\n",
       "</style>\n",
       "<table border=\"1\" class=\"dataframe\">\n",
       "  <thead>\n",
       "    <tr style=\"text-align: right;\">\n",
       "      <th></th>\n",
       "      <th>cell1_type</th>\n",
       "      <th>cell2_type</th>\n",
       "      <th>ligand</th>\n",
       "      <th>coactivity</th>\n",
       "    </tr>\n",
       "  </thead>\n",
       "  <tbody>\n",
       "    <tr>\n",
       "      <th>11205</th>\n",
       "      <td>KCs</td>\n",
       "      <td>Hepatocytes_portal</td>\n",
       "      <td>Lpl</td>\n",
       "      <td>19</td>\n",
       "    </tr>\n",
       "    <tr>\n",
       "      <th>2940</th>\n",
       "      <td>KCs</td>\n",
       "      <td>Lymphatic Endothelial cells</td>\n",
       "      <td>Col1a1</td>\n",
       "      <td>14</td>\n",
       "    </tr>\n",
       "    <tr>\n",
       "      <th>3752</th>\n",
       "      <td>KCs</td>\n",
       "      <td>LSECs_portal</td>\n",
       "      <td>Cxcl12</td>\n",
       "      <td>11</td>\n",
       "    </tr>\n",
       "    <tr>\n",
       "      <th>8566</th>\n",
       "      <td>KCs</td>\n",
       "      <td>Central Vein Endothelial cells</td>\n",
       "      <td>Hgf</td>\n",
       "      <td>3</td>\n",
       "    </tr>\n",
       "    <tr>\n",
       "      <th>11321</th>\n",
       "      <td>KCs</td>\n",
       "      <td>LSECs_portal</td>\n",
       "      <td>Lpl</td>\n",
       "      <td>3</td>\n",
       "    </tr>\n",
       "    <tr>\n",
       "      <th>8044</th>\n",
       "      <td>KCs</td>\n",
       "      <td>Mig. cDCs</td>\n",
       "      <td>Gdf15</td>\n",
       "      <td>2</td>\n",
       "    </tr>\n",
       "    <tr>\n",
       "      <th>12017</th>\n",
       "      <td>KCs</td>\n",
       "      <td>Hepatocytes_central</td>\n",
       "      <td>Mmp12</td>\n",
       "      <td>2</td>\n",
       "    </tr>\n",
       "    <tr>\n",
       "      <th>2679</th>\n",
       "      <td>KCs</td>\n",
       "      <td>Central Vein Endothelial cells</td>\n",
       "      <td>Col1a1</td>\n",
       "      <td>1</td>\n",
       "    </tr>\n",
       "    <tr>\n",
       "      <th>8537</th>\n",
       "      <td>KCs</td>\n",
       "      <td>cDC2s</td>\n",
       "      <td>Hgf</td>\n",
       "      <td>1</td>\n",
       "    </tr>\n",
       "    <tr>\n",
       "      <th>12162</th>\n",
       "      <td>KCs</td>\n",
       "      <td>LSECs_portal</td>\n",
       "      <td>Mmp12</td>\n",
       "      <td>1</td>\n",
       "    </tr>\n",
       "    <tr>\n",
       "      <th>14888</th>\n",
       "      <td>KCs</td>\n",
       "      <td>Neutrophils</td>\n",
       "      <td>Pecam1</td>\n",
       "      <td>1</td>\n",
       "    </tr>\n",
       "    <tr>\n",
       "      <th>15410</th>\n",
       "      <td>KCs</td>\n",
       "      <td>Hepatocytes_portal</td>\n",
       "      <td>Reln</td>\n",
       "      <td>1</td>\n",
       "    </tr>\n",
       "    <tr>\n",
       "      <th>17498</th>\n",
       "      <td>KCs</td>\n",
       "      <td>Portain Vein Endothelial cells</td>\n",
       "      <td>Siglech</td>\n",
       "      <td>1</td>\n",
       "    </tr>\n",
       "    <tr>\n",
       "      <th>21384</th>\n",
       "      <td>KCs</td>\n",
       "      <td>LSECs_central</td>\n",
       "      <td>Timd4</td>\n",
       "      <td>1</td>\n",
       "    </tr>\n",
       "    <tr>\n",
       "      <th>24139</th>\n",
       "      <td>KCs</td>\n",
       "      <td>Neutrophils</td>\n",
       "      <td>Wnt9b</td>\n",
       "      <td>1</td>\n",
       "    </tr>\n",
       "  </tbody>\n",
       "</table>\n",
       "</div>"
      ],
      "text/plain": [
       "      cell1_type                      cell2_type   ligand  coactivity\n",
       "11205        KCs              Hepatocytes_portal      Lpl          19\n",
       "2940         KCs     Lymphatic Endothelial cells   Col1a1          14\n",
       "3752         KCs                    LSECs_portal   Cxcl12          11\n",
       "8566         KCs  Central Vein Endothelial cells      Hgf           3\n",
       "11321        KCs                    LSECs_portal      Lpl           3\n",
       "8044         KCs                       Mig. cDCs    Gdf15           2\n",
       "12017        KCs             Hepatocytes_central    Mmp12           2\n",
       "2679         KCs  Central Vein Endothelial cells   Col1a1           1\n",
       "8537         KCs                           cDC2s      Hgf           1\n",
       "12162        KCs                    LSECs_portal    Mmp12           1\n",
       "14888        KCs                     Neutrophils   Pecam1           1\n",
       "15410        KCs              Hepatocytes_portal     Reln           1\n",
       "17498        KCs  Portain Vein Endothelial cells  Siglech           1\n",
       "21384        KCs                   LSECs_central    Timd4           1\n",
       "24139        KCs                     Neutrophils    Wnt9b           1"
      ]
     },
     "execution_count": 15,
     "metadata": {},
     "output_type": "execute_result"
    }
   ],
   "source": [
    "kc.sort_values('coactivity', ascending=False)"
   ]
  },
  {
   "cell_type": "markdown",
   "metadata": {},
   "source": [
    "#### visualize results\n",
    "\n",
    "The visualization result given by DeepCOLOR is difficult to visualize, as it contains the entire result and reports the two macrophages as receivers as well.\n",
    "Therefore, only the top 20 results with KCs as the receiver are visualized in this section."
   ]
  },
  {
   "cell_type": "code",
   "execution_count": null,
   "metadata": {},
   "outputs": [],
   "source": [
    "kc2 = coexp_cc_df[(coexp_cc_df['cell1_type']=='KCs')&(coexp_cc_df['coactivity']>0)].sort_values('coactivity', ascending=False).head(20)"
   ]
  },
  {
   "cell_type": "code",
   "execution_count": null,
   "metadata": {},
   "outputs": [],
   "source": [
    "link1 = kc2.groupby(['cell2_type', 'ligand'])['cell1_type'].count().reset_index()\n",
    "link1 = link1.rename(columns={'cell2_type':'source','ligand':'target','cell1_type':'value'})\n",
    "link1 = link1[link1['value']>0]\n",
    "link2 = kc2.groupby(['ligand', 'cell1_type'])['cell2_type'].count().reset_index()\n",
    "link2 = link2.rename(columns={'cell2_type':'value','ligand':'source','cell1_type':'target'})\n",
    "link2 = link2[link2['value']>0]\n",
    "link = pd.concat([link1, link2], ignore_index=True)\n",
    "unique_source_target = list(pd.unique(link[['source', 'target']].values.ravel('K')))\n",
    "mapping_dict = {k: v for v, k in enumerate(unique_source_target)}\n",
    "link['source'] = link['source'].map(mapping_dict)\n",
    "link['target'] = link['target'].map(mapping_dict)\n",
    "links_dict = link.to_dict(orient='list')"
   ]
  },
  {
   "cell_type": "code",
   "execution_count": null,
   "metadata": {},
   "outputs": [
    {
     "data": {
      "application/vnd.plotly.v1+json": {
       "config": {
        "plotlyServerURL": "https://plot.ly"
       },
       "data": [
        {
         "link": {
          "source": [
           0,
           0,
           1,
           2,
           3,
           3,
           3,
           4,
           5,
           6,
           6,
           6,
           6,
           7,
           7,
           7,
           7,
           8,
           9,
           9,
           10,
           11,
           12,
           13,
           14,
           15
          ],
          "target": [
           11,
           13,
           13,
           14,
           12,
           14,
           15,
           15,
           13,
           10,
           11,
           13,
           14,
           10,
           11,
           13,
           14,
           13,
           12,
           15,
           16,
           16,
           16,
           16,
           16,
           16
          ],
          "value": [
           1,
           1,
           1,
           1,
           1,
           1,
           1,
           1,
           1,
           1,
           1,
           1,
           1,
           1,
           1,
           1,
           1,
           1,
           1,
           1,
           2,
           3,
           2,
           6,
           4,
           3
          ]
         },
         "node": {
          "label": [
           "Fibroblast",
           "Lymphatic Endothelial cells",
           "Mig. cDCs",
           "Monocytes",
           "Neutrophils",
           "Stellate cells",
           "Stellate cells_central",
           "Stellate cells_portal",
           "VSMCs",
           "cDC2s",
           "Cxcl12",
           "Dcn",
           "F13a1",
           "Igfbp3",
           "Lpl",
           "Sirpa",
           "KCs"
          ],
          "line": {
           "color": "black",
           "width": 0.5
          },
          "pad": 15,
          "thickness": 20
         },
         "type": "sankey"
        }
       ],
       "layout": {
        "font": {
         "size": 15
        },
        "height": 600,
        "template": {
         "data": {
          "bar": [
           {
            "error_x": {
             "color": "#2a3f5f"
            },
            "error_y": {
             "color": "#2a3f5f"
            },
            "marker": {
             "line": {
              "color": "#E5ECF6",
              "width": 0.5
             },
             "pattern": {
              "fillmode": "overlay",
              "size": 10,
              "solidity": 0.2
             }
            },
            "type": "bar"
           }
          ],
          "barpolar": [
           {
            "marker": {
             "line": {
              "color": "#E5ECF6",
              "width": 0.5
             },
             "pattern": {
              "fillmode": "overlay",
              "size": 10,
              "solidity": 0.2
             }
            },
            "type": "barpolar"
           }
          ],
          "carpet": [
           {
            "aaxis": {
             "endlinecolor": "#2a3f5f",
             "gridcolor": "white",
             "linecolor": "white",
             "minorgridcolor": "white",
             "startlinecolor": "#2a3f5f"
            },
            "baxis": {
             "endlinecolor": "#2a3f5f",
             "gridcolor": "white",
             "linecolor": "white",
             "minorgridcolor": "white",
             "startlinecolor": "#2a3f5f"
            },
            "type": "carpet"
           }
          ],
          "choropleth": [
           {
            "colorbar": {
             "outlinewidth": 0,
             "ticks": ""
            },
            "type": "choropleth"
           }
          ],
          "contour": [
           {
            "colorbar": {
             "outlinewidth": 0,
             "ticks": ""
            },
            "colorscale": [
             [
              0,
              "#0d0887"
             ],
             [
              0.1111111111111111,
              "#46039f"
             ],
             [
              0.2222222222222222,
              "#7201a8"
             ],
             [
              0.3333333333333333,
              "#9c179e"
             ],
             [
              0.4444444444444444,
              "#bd3786"
             ],
             [
              0.5555555555555556,
              "#d8576b"
             ],
             [
              0.6666666666666666,
              "#ed7953"
             ],
             [
              0.7777777777777778,
              "#fb9f3a"
             ],
             [
              0.8888888888888888,
              "#fdca26"
             ],
             [
              1,
              "#f0f921"
             ]
            ],
            "type": "contour"
           }
          ],
          "contourcarpet": [
           {
            "colorbar": {
             "outlinewidth": 0,
             "ticks": ""
            },
            "type": "contourcarpet"
           }
          ],
          "heatmap": [
           {
            "colorbar": {
             "outlinewidth": 0,
             "ticks": ""
            },
            "colorscale": [
             [
              0,
              "#0d0887"
             ],
             [
              0.1111111111111111,
              "#46039f"
             ],
             [
              0.2222222222222222,
              "#7201a8"
             ],
             [
              0.3333333333333333,
              "#9c179e"
             ],
             [
              0.4444444444444444,
              "#bd3786"
             ],
             [
              0.5555555555555556,
              "#d8576b"
             ],
             [
              0.6666666666666666,
              "#ed7953"
             ],
             [
              0.7777777777777778,
              "#fb9f3a"
             ],
             [
              0.8888888888888888,
              "#fdca26"
             ],
             [
              1,
              "#f0f921"
             ]
            ],
            "type": "heatmap"
           }
          ],
          "heatmapgl": [
           {
            "colorbar": {
             "outlinewidth": 0,
             "ticks": ""
            },
            "colorscale": [
             [
              0,
              "#0d0887"
             ],
             [
              0.1111111111111111,
              "#46039f"
             ],
             [
              0.2222222222222222,
              "#7201a8"
             ],
             [
              0.3333333333333333,
              "#9c179e"
             ],
             [
              0.4444444444444444,
              "#bd3786"
             ],
             [
              0.5555555555555556,
              "#d8576b"
             ],
             [
              0.6666666666666666,
              "#ed7953"
             ],
             [
              0.7777777777777778,
              "#fb9f3a"
             ],
             [
              0.8888888888888888,
              "#fdca26"
             ],
             [
              1,
              "#f0f921"
             ]
            ],
            "type": "heatmapgl"
           }
          ],
          "histogram": [
           {
            "marker": {
             "pattern": {
              "fillmode": "overlay",
              "size": 10,
              "solidity": 0.2
             }
            },
            "type": "histogram"
           }
          ],
          "histogram2d": [
           {
            "colorbar": {
             "outlinewidth": 0,
             "ticks": ""
            },
            "colorscale": [
             [
              0,
              "#0d0887"
             ],
             [
              0.1111111111111111,
              "#46039f"
             ],
             [
              0.2222222222222222,
              "#7201a8"
             ],
             [
              0.3333333333333333,
              "#9c179e"
             ],
             [
              0.4444444444444444,
              "#bd3786"
             ],
             [
              0.5555555555555556,
              "#d8576b"
             ],
             [
              0.6666666666666666,
              "#ed7953"
             ],
             [
              0.7777777777777778,
              "#fb9f3a"
             ],
             [
              0.8888888888888888,
              "#fdca26"
             ],
             [
              1,
              "#f0f921"
             ]
            ],
            "type": "histogram2d"
           }
          ],
          "histogram2dcontour": [
           {
            "colorbar": {
             "outlinewidth": 0,
             "ticks": ""
            },
            "colorscale": [
             [
              0,
              "#0d0887"
             ],
             [
              0.1111111111111111,
              "#46039f"
             ],
             [
              0.2222222222222222,
              "#7201a8"
             ],
             [
              0.3333333333333333,
              "#9c179e"
             ],
             [
              0.4444444444444444,
              "#bd3786"
             ],
             [
              0.5555555555555556,
              "#d8576b"
             ],
             [
              0.6666666666666666,
              "#ed7953"
             ],
             [
              0.7777777777777778,
              "#fb9f3a"
             ],
             [
              0.8888888888888888,
              "#fdca26"
             ],
             [
              1,
              "#f0f921"
             ]
            ],
            "type": "histogram2dcontour"
           }
          ],
          "mesh3d": [
           {
            "colorbar": {
             "outlinewidth": 0,
             "ticks": ""
            },
            "type": "mesh3d"
           }
          ],
          "parcoords": [
           {
            "line": {
             "colorbar": {
              "outlinewidth": 0,
              "ticks": ""
             }
            },
            "type": "parcoords"
           }
          ],
          "pie": [
           {
            "automargin": true,
            "type": "pie"
           }
          ],
          "scatter": [
           {
            "fillpattern": {
             "fillmode": "overlay",
             "size": 10,
             "solidity": 0.2
            },
            "type": "scatter"
           }
          ],
          "scatter3d": [
           {
            "line": {
             "colorbar": {
              "outlinewidth": 0,
              "ticks": ""
             }
            },
            "marker": {
             "colorbar": {
              "outlinewidth": 0,
              "ticks": ""
             }
            },
            "type": "scatter3d"
           }
          ],
          "scattercarpet": [
           {
            "marker": {
             "colorbar": {
              "outlinewidth": 0,
              "ticks": ""
             }
            },
            "type": "scattercarpet"
           }
          ],
          "scattergeo": [
           {
            "marker": {
             "colorbar": {
              "outlinewidth": 0,
              "ticks": ""
             }
            },
            "type": "scattergeo"
           }
          ],
          "scattergl": [
           {
            "marker": {
             "colorbar": {
              "outlinewidth": 0,
              "ticks": ""
             }
            },
            "type": "scattergl"
           }
          ],
          "scattermapbox": [
           {
            "marker": {
             "colorbar": {
              "outlinewidth": 0,
              "ticks": ""
             }
            },
            "type": "scattermapbox"
           }
          ],
          "scatterpolar": [
           {
            "marker": {
             "colorbar": {
              "outlinewidth": 0,
              "ticks": ""
             }
            },
            "type": "scatterpolar"
           }
          ],
          "scatterpolargl": [
           {
            "marker": {
             "colorbar": {
              "outlinewidth": 0,
              "ticks": ""
             }
            },
            "type": "scatterpolargl"
           }
          ],
          "scatterternary": [
           {
            "marker": {
             "colorbar": {
              "outlinewidth": 0,
              "ticks": ""
             }
            },
            "type": "scatterternary"
           }
          ],
          "surface": [
           {
            "colorbar": {
             "outlinewidth": 0,
             "ticks": ""
            },
            "colorscale": [
             [
              0,
              "#0d0887"
             ],
             [
              0.1111111111111111,
              "#46039f"
             ],
             [
              0.2222222222222222,
              "#7201a8"
             ],
             [
              0.3333333333333333,
              "#9c179e"
             ],
             [
              0.4444444444444444,
              "#bd3786"
             ],
             [
              0.5555555555555556,
              "#d8576b"
             ],
             [
              0.6666666666666666,
              "#ed7953"
             ],
             [
              0.7777777777777778,
              "#fb9f3a"
             ],
             [
              0.8888888888888888,
              "#fdca26"
             ],
             [
              1,
              "#f0f921"
             ]
            ],
            "type": "surface"
           }
          ],
          "table": [
           {
            "cells": {
             "fill": {
              "color": "#EBF0F8"
             },
             "line": {
              "color": "white"
             }
            },
            "header": {
             "fill": {
              "color": "#C8D4E3"
             },
             "line": {
              "color": "white"
             }
            },
            "type": "table"
           }
          ]
         },
         "layout": {
          "annotationdefaults": {
           "arrowcolor": "#2a3f5f",
           "arrowhead": 0,
           "arrowwidth": 1
          },
          "autotypenumbers": "strict",
          "coloraxis": {
           "colorbar": {
            "outlinewidth": 0,
            "ticks": ""
           }
          },
          "colorscale": {
           "diverging": [
            [
             0,
             "#8e0152"
            ],
            [
             0.1,
             "#c51b7d"
            ],
            [
             0.2,
             "#de77ae"
            ],
            [
             0.3,
             "#f1b6da"
            ],
            [
             0.4,
             "#fde0ef"
            ],
            [
             0.5,
             "#f7f7f7"
            ],
            [
             0.6,
             "#e6f5d0"
            ],
            [
             0.7,
             "#b8e186"
            ],
            [
             0.8,
             "#7fbc41"
            ],
            [
             0.9,
             "#4d9221"
            ],
            [
             1,
             "#276419"
            ]
           ],
           "sequential": [
            [
             0,
             "#0d0887"
            ],
            [
             0.1111111111111111,
             "#46039f"
            ],
            [
             0.2222222222222222,
             "#7201a8"
            ],
            [
             0.3333333333333333,
             "#9c179e"
            ],
            [
             0.4444444444444444,
             "#bd3786"
            ],
            [
             0.5555555555555556,
             "#d8576b"
            ],
            [
             0.6666666666666666,
             "#ed7953"
            ],
            [
             0.7777777777777778,
             "#fb9f3a"
            ],
            [
             0.8888888888888888,
             "#fdca26"
            ],
            [
             1,
             "#f0f921"
            ]
           ],
           "sequentialminus": [
            [
             0,
             "#0d0887"
            ],
            [
             0.1111111111111111,
             "#46039f"
            ],
            [
             0.2222222222222222,
             "#7201a8"
            ],
            [
             0.3333333333333333,
             "#9c179e"
            ],
            [
             0.4444444444444444,
             "#bd3786"
            ],
            [
             0.5555555555555556,
             "#d8576b"
            ],
            [
             0.6666666666666666,
             "#ed7953"
            ],
            [
             0.7777777777777778,
             "#fb9f3a"
            ],
            [
             0.8888888888888888,
             "#fdca26"
            ],
            [
             1,
             "#f0f921"
            ]
           ]
          },
          "colorway": [
           "#636efa",
           "#EF553B",
           "#00cc96",
           "#ab63fa",
           "#FFA15A",
           "#19d3f3",
           "#FF6692",
           "#B6E880",
           "#FF97FF",
           "#FECB52"
          ],
          "font": {
           "color": "#2a3f5f"
          },
          "geo": {
           "bgcolor": "white",
           "lakecolor": "white",
           "landcolor": "#E5ECF6",
           "showlakes": true,
           "showland": true,
           "subunitcolor": "white"
          },
          "hoverlabel": {
           "align": "left"
          },
          "hovermode": "closest",
          "mapbox": {
           "style": "light"
          },
          "paper_bgcolor": "white",
          "plot_bgcolor": "#E5ECF6",
          "polar": {
           "angularaxis": {
            "gridcolor": "white",
            "linecolor": "white",
            "ticks": ""
           },
           "bgcolor": "#E5ECF6",
           "radialaxis": {
            "gridcolor": "white",
            "linecolor": "white",
            "ticks": ""
           }
          },
          "scene": {
           "xaxis": {
            "backgroundcolor": "#E5ECF6",
            "gridcolor": "white",
            "gridwidth": 2,
            "linecolor": "white",
            "showbackground": true,
            "ticks": "",
            "zerolinecolor": "white"
           },
           "yaxis": {
            "backgroundcolor": "#E5ECF6",
            "gridcolor": "white",
            "gridwidth": 2,
            "linecolor": "white",
            "showbackground": true,
            "ticks": "",
            "zerolinecolor": "white"
           },
           "zaxis": {
            "backgroundcolor": "#E5ECF6",
            "gridcolor": "white",
            "gridwidth": 2,
            "linecolor": "white",
            "showbackground": true,
            "ticks": "",
            "zerolinecolor": "white"
           }
          },
          "shapedefaults": {
           "line": {
            "color": "#2a3f5f"
           }
          },
          "ternary": {
           "aaxis": {
            "gridcolor": "white",
            "linecolor": "white",
            "ticks": ""
           },
           "baxis": {
            "gridcolor": "white",
            "linecolor": "white",
            "ticks": ""
           },
           "bgcolor": "#E5ECF6",
           "caxis": {
            "gridcolor": "white",
            "linecolor": "white",
            "ticks": ""
           }
          },
          "title": {
           "x": 0.05
          },
          "xaxis": {
           "automargin": true,
           "gridcolor": "white",
           "linecolor": "white",
           "ticks": "",
           "title": {
            "standoff": 15
           },
           "zerolinecolor": "white",
           "zerolinewidth": 2
          },
          "yaxis": {
           "automargin": true,
           "gridcolor": "white",
           "linecolor": "white",
           "ticks": "",
           "title": {
            "standoff": 15
           },
           "zerolinecolor": "white",
           "zerolinewidth": 2
          }
         }
        },
        "width": 1000
       }
      }
     },
     "metadata": {},
     "output_type": "display_data"
    }
   ],
   "source": [
    "fig = go.Figure(data=[go.Sankey(\n",
    "    node = dict(\n",
    "      pad = 15,\n",
    "      thickness = 20,\n",
    "      line = dict(color = \"black\", width = 0.5),\n",
    "      label = unique_source_target,\n",
    "      \n",
    "    ),\n",
    "    link = dict(\n",
    "      source = links_dict[\"source\"],\n",
    "      target = links_dict[\"target\"],\n",
    "      value = links_dict[\"value\"],\n",
    "  \n",
    "  ))])\n",
    "\n",
    "fig.update_layout(font_size=15, width=1000, height=600)\n",
    "fig.show()"
   ]
  }
 ],
 "metadata": {
  "kernelspec": {
   "display_name": "DeepColor",
   "language": "python",
   "name": "python3"
  },
  "language_info": {
   "codemirror_mode": {
    "name": "ipython",
    "version": 3
   },
   "file_extension": ".py",
   "mimetype": "text/x-python",
   "name": "python",
   "nbconvert_exporter": "python",
   "pygments_lexer": "ipython3",
   "version": "3.12.4"
  }
 },
 "nbformat": 4,
 "nbformat_minor": 2
}
